{
 "cells": [
  {
   "cell_type": "code",
   "execution_count": 1,
   "id": "fcd8f5ca",
   "metadata": {},
   "outputs": [],
   "source": [
    "from sklearn.decomposition import PCA\n",
    "from sklearn.decomposition import FastICA\n",
    "from sklearn import random_projection\n",
    "from sklearn.discriminant_analysis import LinearDiscriminantAnalysis\n",
    "from sklearn.metrics import homogeneity_score\n",
    "from sklearn.mixture import GaussianMixture\n",
    "from collections import Counter\n",
    "import pandas as pd\n",
    "import numpy as np\n",
    "import random\n",
    "from pytictoc import TicToc\n",
    "t = TicToc()"
   ]
  },
  {
   "cell_type": "code",
   "execution_count": 2,
   "id": "71543268",
   "metadata": {},
   "outputs": [
    {
     "data": {
      "text/plain": [
       "(102660, 2)"
      ]
     },
     "execution_count": 2,
     "metadata": {},
     "output_type": "execute_result"
    }
   ],
   "source": [
    "vocabulary = pd.read_csv(\"vocab.nytimes.csv\",header=None,names=['ID','WORD'] )\n",
    "vocabulary.shape"
   ]
  },
  {
   "cell_type": "code",
   "execution_count": 3,
   "id": "e8d03576",
   "metadata": {},
   "outputs": [
    {
     "name": "stderr",
     "output_type": "stream",
     "text": [
      "C:\\Users\\Alvaro\\AppData\\Local\\Temp\\ipykernel_18788\\417027552.py:3: SettingWithCopyWarning: \n",
      "A value is trying to be set on a copy of a slice from a DataFrame\n",
      "\n",
      "See the caveats in the documentation: https://pandas.pydata.org/pandas-docs/stable/user_guide/indexing.html#returning-a-view-versus-a-copy\n",
      "  vocabulary[\"WORD\"][ite] = aux_word[4:]\n"
     ]
    }
   ],
   "source": [
    "for ite in range(44442,vocabulary.shape[0]):\n",
    "    aux_word = vocabulary[\"WORD\"][ite]\n",
    "    vocabulary[\"WORD\"][ite] = aux_word[4:]"
   ]
  },
  {
   "cell_type": "code",
   "execution_count": 4,
   "id": "b40d821c",
   "metadata": {},
   "outputs": [],
   "source": [
    "#vocabulary = vocabulary[~vocabulary['WORD'].str.contains('_', na=False, regex=False)]"
   ]
  },
  {
   "cell_type": "code",
   "execution_count": 5,
   "id": "88ca089d",
   "metadata": {},
   "outputs": [
    {
     "data": {
      "text/plain": [
       "(102660, 2)"
      ]
     },
     "execution_count": 5,
     "metadata": {},
     "output_type": "execute_result"
    }
   ],
   "source": [
    "vocabulary.shape"
   ]
  },
  {
   "cell_type": "code",
   "execution_count": 6,
   "id": "98a6d5b9",
   "metadata": {},
   "outputs": [],
   "source": [
    "corpus = pd.read_csv(\"docword.nytimes.txt\",header=None,names=['ARTICLE','WORD','OBSERVATIONS'],sep=' ' )"
   ]
  },
  {
   "cell_type": "code",
   "execution_count": 7,
   "id": "fc8904ef",
   "metadata": {},
   "outputs": [
    {
     "data": {
      "text/plain": [
       "(69679427, 3)"
      ]
     },
     "execution_count": 7,
     "metadata": {},
     "output_type": "execute_result"
    }
   ],
   "source": [
    "random.seed(19830526)\n",
    "corpus.shape"
   ]
  },
  {
   "cell_type": "code",
   "execution_count": 8,
   "id": "368f59b6",
   "metadata": {},
   "outputs": [
    {
     "name": "stdout",
     "output_type": "stream",
     "text": [
      "123418\n"
     ]
    },
    {
     "data": {
      "text/plain": [
       "[7886,\n",
       " 10185,\n",
       " 32801,\n",
       " 32842,\n",
       " 35020,\n",
       " 35021,\n",
       " 55369,\n",
       " 58011,\n",
       " 88569,\n",
       " 88587,\n",
       " 92424,\n",
       " 92479]"
      ]
     },
     "execution_count": 8,
     "metadata": {},
     "output_type": "execute_result"
    }
   ],
   "source": [
    "basePoliticsWords = ['republican','democratic','senate','congress','senator','representative']\n",
    "basePoliticsWordsIDs = vocabulary['ID'][vocabulary['WORD'].isin(basePoliticsWords)].values.tolist()\n",
    "articlesPolitics = corpus['ARTICLE'][corpus['WORD'].isin(basePoliticsWordsIDs)].values.tolist()\n",
    "print(len(articlesPolitics))\n",
    "selectedPolitics = random.sample(articlesPolitics,2000)\n",
    "basePoliticsWordsIDs"
   ]
  },
  {
   "cell_type": "code",
   "execution_count": 9,
   "id": "808045d3",
   "metadata": {},
   "outputs": [
    {
     "name": "stdout",
     "output_type": "stream",
     "text": [
      "115066\n"
     ]
    },
    {
     "data": {
      "text/plain": [
       "[6101, 7518, 25453, 29176, 34560, 37194, 53285, 55276, 81367, 91809]"
      ]
     },
     "execution_count": 9,
     "metadata": {},
     "output_type": "execute_result"
    }
   ],
   "source": [
    "baseSportWords = ['sport','player','score','competition','championship','mvp']\n",
    "baseSportWordsIDs = vocabulary['ID'][vocabulary['WORD'].isin(baseSportWords)].values.tolist()\n",
    "articlesSports = corpus['ARTICLE'][corpus['WORD'].isin(baseSportWordsIDs)].values.tolist()\n",
    "print(len(articlesSports))\n",
    "selectedSports = random.sample(articlesSports,2000)\n",
    "baseSportWordsIDs"
   ]
  },
  {
   "cell_type": "code",
   "execution_count": 10,
   "id": "3c84c3cf",
   "metadata": {},
   "outputs": [
    {
     "name": "stdout",
     "output_type": "stream",
     "text": [
      "90905\n"
     ]
    },
    {
     "data": {
      "text/plain": [
       "[4723, 17861, 23359, 51396, 66202, 77181, 82350, 82418]"
      ]
     },
     "execution_count": 10,
     "metadata": {},
     "output_type": "execute_result"
    }
   ],
   "source": [
    "baseNYWords = ['new_york','manhattan','queens','harlem','brooklyn','new_jersey']\n",
    "baseNYWordsIDs = vocabulary['ID'][vocabulary['WORD'].isin(baseNYWords)].values.tolist()\n",
    "articlesNY = corpus['ARTICLE'][corpus['WORD'].isin(baseNYWordsIDs)].values.tolist()\n",
    "print(len(articlesNY))\n",
    "selectedNY = random.sample(articlesNY,2000)\n",
    "baseNYWordsIDs"
   ]
  },
  {
   "cell_type": "code",
   "execution_count": 11,
   "id": "f3029a23",
   "metadata": {},
   "outputs": [
    {
     "name": "stdout",
     "output_type": "stream",
     "text": [
      "31652\n"
     ]
    },
    {
     "data": {
      "text/plain": [
       "[6826, 19013, 31357, 36511, 37873, 39515, 54738, 67855, 87645, 95253]"
      ]
     },
     "execution_count": 11,
     "metadata": {},
     "output_type": "execute_result"
    }
   ],
   "source": [
    "baseClimateWords = ['climate','hurricane','storm','temperature','snow','rain']\n",
    "baseClimateWordsIDs = vocabulary['ID'][vocabulary['WORD'].isin(baseClimateWords)].values.tolist()\n",
    "articlesClimate = corpus['ARTICLE'][corpus['WORD'].isin(baseClimateWordsIDs)].values.tolist()\n",
    "print(len(articlesClimate))\n",
    "selectedClimate = random.sample(articlesClimate,2000)\n",
    "baseClimateWordsIDs"
   ]
  },
  {
   "cell_type": "code",
   "execution_count": 12,
   "id": "62385503",
   "metadata": {},
   "outputs": [
    {
     "name": "stdout",
     "output_type": "stream",
     "text": [
      "141960\n"
     ]
    },
    {
     "data": {
      "text/plain": [
       "[17033, 22130, 34498, 38097, 39341, 41880, 65170, 95365, 96227, 99200]"
      ]
     },
     "execution_count": 12,
     "metadata": {},
     "output_type": "execute_result"
    }
   ],
   "source": [
    "baseEducationWords = ['university','graduate','student','school','teacher','learning']\n",
    "baseEducationWordsIDs = vocabulary['ID'][vocabulary['WORD'].isin(baseEducationWords)].values.tolist()\n",
    "articlesEducation = corpus['ARTICLE'][corpus['WORD'].isin(baseEducationWordsIDs)].values.tolist()\n",
    "print(len(articlesEducation))\n",
    "selectedEducation = random.sample(articlesEducation,2000)\n",
    "baseEducationWordsIDs"
   ]
  },
  {
   "cell_type": "code",
   "execution_count": 13,
   "id": "c5911ee3",
   "metadata": {},
   "outputs": [
    {
     "name": "stdout",
     "output_type": "stream",
     "text": [
      "90350\n"
     ]
    },
    {
     "data": {
      "text/plain": [
       "[9422, 9602, 10811, 20570, 36639, 39398, 68584]"
      ]
     },
     "execution_count": 13,
     "metadata": {},
     "output_type": "execute_result"
    }
   ],
   "source": [
    "baseTechWords = ['software','internet','data','cybersecurity','technology','digital']\n",
    "baseTechWordsIDs = vocabulary['ID'][vocabulary['WORD'].isin(baseTechWords)].values.tolist()\n",
    "articlesTech = corpus['ARTICLE'][corpus['WORD'].isin(baseTechWordsIDs)].values.tolist()\n",
    "print(len(articlesTech))\n",
    "selectedTech = random.sample(articlesTech,2000)\n",
    "baseTechWordsIDs"
   ]
  },
  {
   "cell_type": "code",
   "execution_count": 14,
   "id": "4f169bc3",
   "metadata": {},
   "outputs": [
    {
     "name": "stdout",
     "output_type": "stream",
     "text": [
      "12000\n",
      "11413\n"
     ]
    },
    {
     "data": {
      "text/plain": [
       "(3216090, 3)"
      ]
     },
     "execution_count": 14,
     "metadata": {},
     "output_type": "execute_result"
    }
   ],
   "source": [
    "\n",
    "selectedArticles = selectedTech + selectedPolitics + selectedNY + selectedClimate + selectedEducation + selectedSports\n",
    "selectedWords = baseTechWordsIDs + basePoliticsWordsIDs + baseNYWordsIDs + baseClimateWordsIDs + baseEducationWordsIDs + baseSportWordsIDs\n",
    "print(len(selectedArticles))\n",
    "#selectedArticles = list(set(selectedArticles))\n",
    "#print(len(selectedArticles))\n",
    "eliminating=Counter(selectedArticles)\n",
    "selectedArticlesSplit = []\n",
    "for ite in eliminating:\n",
    "    if eliminating[ite] == 1:\n",
    "        selectedArticlesSplit.append(ite)\n",
    "print(len(selectedArticlesSplit))\n",
    "corpus = corpus[corpus['ARTICLE'].isin(selectedArticles)]\n",
    "#words_to_keep = vocabulary['ID'].tolist()\n",
    "#corpus = corpus[corpus['WORD'].isin(words_to_keep)]\n",
    "corpus.shape\n",
    "              "
   ]
  },
  {
   "cell_type": "code",
   "execution_count": 15,
   "id": "4c193171",
   "metadata": {},
   "outputs": [],
   "source": [
    "corpus = corpus.pivot(index='ARTICLE',columns='WORD',values='OBSERVATIONS')\n",
    "corpus = corpus.fillna(0)\n",
    "selectedWords = selectedWords + random.sample(corpus.columns.values.tolist(),10000)    \n",
    "eliminating=Counter(selectedWords)\n",
    "selectedWordsSplit = []\n",
    "for ite in eliminating:\n",
    "    if eliminating[ite] == 1:\n",
    "        selectedWordsSplit.append(ite)"
   ]
  },
  {
   "cell_type": "code",
   "execution_count": 16,
   "id": "65e395b3",
   "metadata": {},
   "outputs": [
    {
     "name": "stdout",
     "output_type": "stream",
     "text": [
      "(11702, 80879)\n",
      "10039\n",
      "(11702, 10039)\n"
     ]
    }
   ],
   "source": [
    "print(corpus.shape)\n",
    "#corpus = corpus.loc[:, (corpus != 0).any(axis=0)]\n",
    "print(len(selectedWordsSplit))\n",
    "corpus = corpus[selectedWordsSplit]\n",
    "print(corpus.shape)"
   ]
  },
  {
   "cell_type": "code",
   "execution_count": 17,
   "id": "b3e6b0c1",
   "metadata": {},
   "outputs": [],
   "source": [
    "\n",
    "label_real = []\n",
    "for row in corpus.index:\n",
    "    if row in selectedPolitics:\n",
    "        label_real.append(0)\n",
    "    elif row in selectedTech:\n",
    "        label_real.append(1)\n",
    "    elif row in selectedEducation:\n",
    "        label_real.append(2)\n",
    "    elif row in selectedNY:\n",
    "        label_real.append(3)\n",
    "    elif row in selectedClimate:\n",
    "        label_real.append(4)\n",
    "    elif row in selectedSports:\n",
    "        label_real.append(5)"
   ]
  },
  {
   "cell_type": "code",
   "execution_count": 18,
   "id": "26c61115",
   "metadata": {},
   "outputs": [
    {
     "data": {
      "text/html": [
       "<div>\n",
       "<style scoped>\n",
       "    .dataframe tbody tr th:only-of-type {\n",
       "        vertical-align: middle;\n",
       "    }\n",
       "\n",
       "    .dataframe tbody tr th {\n",
       "        vertical-align: top;\n",
       "    }\n",
       "\n",
       "    .dataframe thead th {\n",
       "        text-align: right;\n",
       "    }\n",
       "</style>\n",
       "<table border=\"1\" class=\"dataframe\">\n",
       "  <thead>\n",
       "    <tr style=\"text-align: right;\">\n",
       "      <th></th>\n",
       "      <th>Algorithm</th>\n",
       "      <th>Components</th>\n",
       "      <th>Clusters</th>\n",
       "      <th>Homogeneity</th>\n",
       "      <th>Time</th>\n",
       "    </tr>\n",
       "  </thead>\n",
       "  <tbody>\n",
       "    <tr>\n",
       "      <th>0</th>\n",
       "      <td>Test</td>\n",
       "      <td>0</td>\n",
       "      <td>0</td>\n",
       "      <td>0.0</td>\n",
       "      <td>0.0</td>\n",
       "    </tr>\n",
       "  </tbody>\n",
       "</table>\n",
       "</div>"
      ],
      "text/plain": [
       "  Algorithm  Components  Clusters  Homogeneity  Time\n",
       "0      Test           0         0          0.0   0.0"
      ]
     },
     "execution_count": 18,
     "metadata": {},
     "output_type": "execute_result"
    }
   ],
   "source": [
    "homogeneity_sol = pd.DataFrame([['Test',0,0,0.000,0.000]],columns=[\"Algorithm\",\"Components\",\"Clusters\",\"Homogeneity\",\"Time\"])\n",
    "homogeneity_sol"
   ]
  },
  {
   "cell_type": "code",
   "execution_count": 19,
   "id": "3ae575a3",
   "metadata": {},
   "outputs": [],
   "source": [
    "corpus = corpus.fillna(0)\n",
    "corpus[corpus > 1] = 1\n",
    "#columnas = list(corpus.columns)\n",
    "#columnas_words = vocabulary[\"ID\"]=\n",
    "\n",
    "    "
   ]
  },
  {
   "cell_type": "code",
   "execution_count": 20,
   "id": "c480d07c",
   "metadata": {},
   "outputs": [],
   "source": [
    "#ICA = FastICA(n_components=200,max_iter=1000)\n",
    "#corpus_ica=ICA.fit_transform(corpus)"
   ]
  },
  {
   "cell_type": "code",
   "execution_count": 21,
   "id": "034f4467",
   "metadata": {},
   "outputs": [
    {
     "name": "stderr",
     "output_type": "stream",
     "text": [
      "D:\\ProgramData\\Anaconda3\\envs\\ml\\lib\\site-packages\\sklearn\\decomposition\\_fastica.py:494: FutureWarning: Starting in v1.3, whiten='unit-variance' will be used by default.\n",
      "  warnings.warn(\n"
     ]
    },
    {
     "name": "stdout",
     "output_type": "stream",
     "text": [
      "ICA calibration for 1 components took  862.940463 seconds.\n",
      "ICA with 1 features and 1 clusters took to run 0.9516682000000856\n",
      "ICA with 1 features and 2 clusters took to run 0.062471499999901425\n",
      "ICA with 1 features and 3 clusters took to run 0.05260199999997894\n",
      "ICA with 1 features and 4 clusters took to run 0.0556642000001375\n",
      "ICA with 1 features and 5 clusters took to run 0.048051700000087294\n",
      "ICA with 1 features and 6 clusters took to run 0.056085799999891606\n",
      "ICA with 1 features and 7 clusters took to run 0.05824170000005324\n",
      "ICA with 1 features and 8 clusters took to run 0.07788419999997132\n",
      "ICA with 1 features and 9 clusters took to run 0.07029990000000907\n",
      "ICA with 1 features and 10 clusters took to run 0.06443379999996068\n",
      "ICA with 1 features and 11 clusters took to run 0.0770614000000478\n",
      "ICA with 1 features and 12 clusters took to run 0.08599770000000717\n",
      "ICA with 1 features and 13 clusters took to run 0.08926160000009986\n",
      "ICA with 1 features and 14 clusters took to run 0.08772019999992153\n",
      "ICA with 1 features and 15 clusters took to run 0.0733525999999074\n",
      "ICA with 1 features and 16 clusters took to run 0.1018228000000363\n",
      "ICA with 1 features and 17 clusters took to run 0.08658900000000358\n",
      "ICA with 1 features and 18 clusters took to run 0.09373510000000351\n",
      "ICA with 1 features and 19 clusters took to run 0.10514409999996133\n"
     ]
    },
    {
     "name": "stderr",
     "output_type": "stream",
     "text": [
      "D:\\ProgramData\\Anaconda3\\envs\\ml\\lib\\site-packages\\sklearn\\decomposition\\_fastica.py:494: FutureWarning: Starting in v1.3, whiten='unit-variance' will be used by default.\n",
      "  warnings.warn(\n"
     ]
    },
    {
     "name": "stdout",
     "output_type": "stream",
     "text": [
      "ICA calibration for 2 components took  839.669758 seconds.\n",
      "ICA with 2 features and 1 clusters took to run 0.09437900000011723\n",
      "ICA with 2 features and 2 clusters took to run 0.09083059999989018\n",
      "ICA with 2 features and 3 clusters took to run 0.11763399999995272\n",
      "ICA with 2 features and 4 clusters took to run 0.16227889999981926\n",
      "ICA with 2 features and 5 clusters took to run 0.15480320000006031\n",
      "ICA with 2 features and 6 clusters took to run 0.1993904000000839\n",
      "ICA with 2 features and 7 clusters took to run 0.26465700000017023\n",
      "ICA with 2 features and 8 clusters took to run 0.3280883999998423\n",
      "ICA with 2 features and 9 clusters took to run 0.34894969999982095\n",
      "ICA with 2 features and 10 clusters took to run 0.4032042999999703\n",
      "ICA with 2 features and 11 clusters took to run 0.42577749999986736\n",
      "ICA with 2 features and 12 clusters took to run 0.4574364999998579\n",
      "ICA with 2 features and 13 clusters took to run 0.5529225000000224\n",
      "ICA with 2 features and 14 clusters took to run 0.48403989999997066\n",
      "ICA with 2 features and 15 clusters took to run 0.5500126999997974\n",
      "ICA with 2 features and 16 clusters took to run 0.525488199999927\n",
      "ICA with 2 features and 17 clusters took to run 0.5625766999999087\n",
      "ICA with 2 features and 18 clusters took to run 0.619009700000106\n",
      "ICA with 2 features and 19 clusters took to run 0.5785507000000507\n"
     ]
    },
    {
     "name": "stderr",
     "output_type": "stream",
     "text": [
      "D:\\ProgramData\\Anaconda3\\envs\\ml\\lib\\site-packages\\sklearn\\decomposition\\_fastica.py:494: FutureWarning: Starting in v1.3, whiten='unit-variance' will be used by default.\n",
      "  warnings.warn(\n"
     ]
    },
    {
     "name": "stdout",
     "output_type": "stream",
     "text": [
      "ICA calibration for 3 components took  1039.298527 seconds.\n",
      "ICA with 3 features and 1 clusters took to run 0.19909980000011274\n",
      "ICA with 3 features and 2 clusters took to run 1.5385277000000315\n",
      "ICA with 3 features and 3 clusters took to run 0.1786141000002317\n",
      "ICA with 3 features and 4 clusters took to run 0.18966460000001462\n",
      "ICA with 3 features and 5 clusters took to run 0.2542316000003666\n",
      "ICA with 3 features and 6 clusters took to run 0.2879227000003084\n",
      "ICA with 3 features and 7 clusters took to run 0.2728806000000077\n",
      "ICA with 3 features and 8 clusters took to run 0.35567170000012993\n",
      "ICA with 3 features and 9 clusters took to run 0.35335799999984374\n",
      "ICA with 3 features and 10 clusters took to run 0.4342553000001317\n",
      "ICA with 3 features and 11 clusters took to run 0.2929048999999395\n",
      "ICA with 3 features and 12 clusters took to run 0.4155639999999039\n",
      "ICA with 3 features and 13 clusters took to run 0.37965410000015254\n",
      "ICA with 3 features and 14 clusters took to run 0.5034774000000652\n",
      "ICA with 3 features and 15 clusters took to run 1.3552531999998791\n",
      "ICA with 3 features and 16 clusters took to run 1.2175410999998348\n",
      "ICA with 3 features and 17 clusters took to run 0.9017257000000427\n",
      "ICA with 3 features and 18 clusters took to run 0.572188499999811\n",
      "ICA with 3 features and 19 clusters took to run 0.5036958999999115\n"
     ]
    },
    {
     "name": "stderr",
     "output_type": "stream",
     "text": [
      "D:\\ProgramData\\Anaconda3\\envs\\ml\\lib\\site-packages\\sklearn\\decomposition\\_fastica.py:494: FutureWarning: Starting in v1.3, whiten='unit-variance' will be used by default.\n",
      "  warnings.warn(\n"
     ]
    },
    {
     "name": "stdout",
     "output_type": "stream",
     "text": [
      "ICA calibration for 4 components took  866.976206 seconds.\n",
      "ICA with 4 features and 1 clusters took to run 0.12020840000013777\n",
      "ICA with 4 features and 2 clusters took to run 0.23599540000031993\n",
      "ICA with 4 features and 3 clusters took to run 0.4591690000002018\n",
      "ICA with 4 features and 4 clusters took to run 0.5229063000001588\n",
      "ICA with 4 features and 5 clusters took to run 0.30465659999981654\n",
      "ICA with 4 features and 6 clusters took to run 0.4552987000001849\n",
      "ICA with 4 features and 7 clusters took to run 0.490995600000133\n",
      "ICA with 4 features and 8 clusters took to run 0.5243063999996593\n",
      "ICA with 4 features and 9 clusters took to run 0.8635368999998718\n",
      "ICA with 4 features and 10 clusters took to run 0.763284300000123\n",
      "ICA with 4 features and 11 clusters took to run 0.8125846999996611\n",
      "ICA with 4 features and 12 clusters took to run 0.8239596999997048\n",
      "ICA with 4 features and 13 clusters took to run 0.8602642999999262\n",
      "ICA with 4 features and 14 clusters took to run 1.2717158000000381\n",
      "ICA with 4 features and 15 clusters took to run 1.2096043999999893\n",
      "ICA with 4 features and 16 clusters took to run 1.0391325000000506\n",
      "ICA with 4 features and 17 clusters took to run 0.6346126999997068\n",
      "ICA with 4 features and 18 clusters took to run 0.6926601999998638\n",
      "ICA with 4 features and 19 clusters took to run 0.7404159000002437\n"
     ]
    },
    {
     "name": "stderr",
     "output_type": "stream",
     "text": [
      "D:\\ProgramData\\Anaconda3\\envs\\ml\\lib\\site-packages\\sklearn\\decomposition\\_fastica.py:494: FutureWarning: Starting in v1.3, whiten='unit-variance' will be used by default.\n",
      "  warnings.warn(\n"
     ]
    },
    {
     "name": "stdout",
     "output_type": "stream",
     "text": [
      "ICA calibration for 5 components took  864.480482 seconds.\n",
      "ICA with 5 features and 1 clusters took to run 0.15099370000007184\n",
      "ICA with 5 features and 2 clusters took to run 0.39710229999946023\n",
      "ICA with 5 features and 3 clusters took to run 0.5010382000000391\n",
      "ICA with 5 features and 4 clusters took to run 0.9008899000000383\n",
      "ICA with 5 features and 5 clusters took to run 0.9402035000002797\n",
      "ICA with 5 features and 6 clusters took to run 0.8498630999993111\n",
      "ICA with 5 features and 7 clusters took to run 1.2846606000002794\n",
      "ICA with 5 features and 8 clusters took to run 1.4112635999999839\n",
      "ICA with 5 features and 9 clusters took to run 2.9332636999997703\n",
      "ICA with 5 features and 10 clusters took to run 1.5088441999996576\n",
      "ICA with 5 features and 11 clusters took to run 1.5857354999998279\n",
      "ICA with 5 features and 12 clusters took to run 1.5654848000003767\n",
      "ICA with 5 features and 13 clusters took to run 1.465235799999391\n",
      "ICA with 5 features and 14 clusters took to run 1.3889005000000907\n",
      "ICA with 5 features and 15 clusters took to run 0.9361832999993567\n",
      "ICA with 5 features and 16 clusters took to run 0.6791838999997708\n",
      "ICA with 5 features and 17 clusters took to run 0.8726995999995779\n",
      "ICA with 5 features and 18 clusters took to run 0.9931582999997772\n",
      "ICA with 5 features and 19 clusters took to run 0.9333030000007057\n"
     ]
    },
    {
     "name": "stderr",
     "output_type": "stream",
     "text": [
      "D:\\ProgramData\\Anaconda3\\envs\\ml\\lib\\site-packages\\sklearn\\decomposition\\_fastica.py:494: FutureWarning: Starting in v1.3, whiten='unit-variance' will be used by default.\n",
      "  warnings.warn(\n",
      "D:\\ProgramData\\Anaconda3\\envs\\ml\\lib\\site-packages\\sklearn\\decomposition\\_fastica.py:120: ConvergenceWarning: FastICA did not converge. Consider increasing tolerance or the maximum number of iterations.\n",
      "  warnings.warn(\n"
     ]
    },
    {
     "name": "stdout",
     "output_type": "stream",
     "text": [
      "ICA calibration for 6 components took  862.319373 seconds.\n",
      "ICA with 6 features and 1 clusters took to run 0.10251029999926686\n",
      "ICA with 6 features and 2 clusters took to run 0.3385777000003145\n",
      "ICA with 6 features and 3 clusters took to run 0.9992670000001453\n",
      "ICA with 6 features and 4 clusters took to run 1.825406699999803\n",
      "ICA with 6 features and 5 clusters took to run 0.9842968000002656\n",
      "ICA with 6 features and 6 clusters took to run 1.1919597999994949\n",
      "ICA with 6 features and 7 clusters took to run 2.915404000000308\n",
      "ICA with 6 features and 8 clusters took to run 2.067590800000289\n",
      "ICA with 6 features and 9 clusters took to run 1.9303730000001451\n",
      "ICA with 6 features and 10 clusters took to run 1.2564425000000483\n",
      "ICA with 6 features and 11 clusters took to run 1.0147627000005741\n",
      "ICA with 6 features and 12 clusters took to run 0.9089057999999568\n",
      "ICA with 6 features and 13 clusters took to run 1.405925500000194\n",
      "ICA with 6 features and 14 clusters took to run 1.6226655000000392\n",
      "ICA with 6 features and 15 clusters took to run 1.0255137999993167\n",
      "ICA with 6 features and 16 clusters took to run 1.4903479000004154\n",
      "ICA with 6 features and 17 clusters took to run 1.2001479999998992\n",
      "ICA with 6 features and 18 clusters took to run 1.1892190999997183\n",
      "ICA with 6 features and 19 clusters took to run 1.2700105000003532\n"
     ]
    },
    {
     "name": "stderr",
     "output_type": "stream",
     "text": [
      "D:\\ProgramData\\Anaconda3\\envs\\ml\\lib\\site-packages\\sklearn\\decomposition\\_fastica.py:494: FutureWarning: Starting in v1.3, whiten='unit-variance' will be used by default.\n",
      "  warnings.warn(\n"
     ]
    },
    {
     "name": "stdout",
     "output_type": "stream",
     "text": [
      "ICA calibration for 7 components took  849.270632 seconds.\n",
      "ICA with 7 features and 1 clusters took to run 0.18518740000035905\n",
      "ICA with 7 features and 2 clusters took to run 0.9199570000000676\n",
      "ICA with 7 features and 3 clusters took to run 0.763924599999882\n",
      "ICA with 7 features and 4 clusters took to run 1.3978095000002213\n",
      "ICA with 7 features and 5 clusters took to run 2.162981700000273\n",
      "ICA with 7 features and 6 clusters took to run 1.3884072000000742\n",
      "ICA with 7 features and 7 clusters took to run 0.8749815999999555\n",
      "ICA with 7 features and 8 clusters took to run 1.0093096999999034\n",
      "ICA with 7 features and 9 clusters took to run 0.8985809999994672\n",
      "ICA with 7 features and 10 clusters took to run 0.7410916999997426\n",
      "ICA with 7 features and 11 clusters took to run 0.8389236000002711\n",
      "ICA with 7 features and 12 clusters took to run 1.7891259000007267\n",
      "ICA with 7 features and 13 clusters took to run 1.531656799999837\n",
      "ICA with 7 features and 14 clusters took to run 1.7637892000002466\n",
      "ICA with 7 features and 15 clusters took to run 1.2579695000003994\n",
      "ICA with 7 features and 16 clusters took to run 1.0809393999998065\n",
      "ICA with 7 features and 17 clusters took to run 3.1943498000000545\n",
      "ICA with 7 features and 18 clusters took to run 3.0023596999999427\n",
      "ICA with 7 features and 19 clusters took to run 1.161405000000741\n"
     ]
    },
    {
     "name": "stderr",
     "output_type": "stream",
     "text": [
      "D:\\ProgramData\\Anaconda3\\envs\\ml\\lib\\site-packages\\sklearn\\decomposition\\_fastica.py:494: FutureWarning: Starting in v1.3, whiten='unit-variance' will be used by default.\n",
      "  warnings.warn(\n",
      "D:\\ProgramData\\Anaconda3\\envs\\ml\\lib\\site-packages\\sklearn\\decomposition\\_fastica.py:120: ConvergenceWarning: FastICA did not converge. Consider increasing tolerance or the maximum number of iterations.\n",
      "  warnings.warn(\n"
     ]
    },
    {
     "name": "stdout",
     "output_type": "stream",
     "text": [
      "ICA calibration for 8 components took  843.036807 seconds.\n",
      "ICA with 8 features and 1 clusters took to run 0.0636449999992692\n",
      "ICA with 8 features and 2 clusters took to run 0.14845729999979085\n",
      "ICA with 8 features and 3 clusters took to run 0.16720450000048004\n",
      "ICA with 8 features and 4 clusters took to run 0.21907700000065233\n",
      "ICA with 8 features and 5 clusters took to run 0.25712639999983367\n",
      "ICA with 8 features and 6 clusters took to run 0.5986051999998381\n",
      "ICA with 8 features and 7 clusters took to run 0.4303052999994179\n",
      "ICA with 8 features and 8 clusters took to run 1.5726924999999028\n",
      "ICA with 8 features and 9 clusters took to run 2.6320950999997876\n",
      "ICA with 8 features and 10 clusters took to run 2.709859900000083\n",
      "ICA with 8 features and 11 clusters took to run 3.30081969999992\n",
      "ICA with 8 features and 12 clusters took to run 5.991076500000418\n",
      "ICA with 8 features and 13 clusters took to run 5.235175900000286\n",
      "ICA with 8 features and 14 clusters took to run 5.83141440000054\n",
      "ICA with 8 features and 15 clusters took to run 10.549919500000215\n",
      "ICA with 8 features and 16 clusters took to run 3.8486253000000943\n",
      "ICA with 8 features and 17 clusters took to run 3.9862025000002177\n",
      "ICA with 8 features and 18 clusters took to run 4.870421000000533\n",
      "ICA with 8 features and 19 clusters took to run 7.073049900000115\n"
     ]
    },
    {
     "name": "stderr",
     "output_type": "stream",
     "text": [
      "D:\\ProgramData\\Anaconda3\\envs\\ml\\lib\\site-packages\\sklearn\\decomposition\\_fastica.py:494: FutureWarning: Starting in v1.3, whiten='unit-variance' will be used by default.\n",
      "  warnings.warn(\n",
      "D:\\ProgramData\\Anaconda3\\envs\\ml\\lib\\site-packages\\sklearn\\decomposition\\_fastica.py:120: ConvergenceWarning: FastICA did not converge. Consider increasing tolerance or the maximum number of iterations.\n",
      "  warnings.warn(\n"
     ]
    },
    {
     "name": "stdout",
     "output_type": "stream",
     "text": [
      "ICA calibration for 9 components took  860.872477 seconds.\n",
      "ICA with 9 features and 1 clusters took to run 0.11635960000057821\n",
      "ICA with 9 features and 2 clusters took to run 0.445381699999416\n",
      "ICA with 9 features and 3 clusters took to run 3.148456900000383\n",
      "ICA with 9 features and 4 clusters took to run 1.4153385999998136\n",
      "ICA with 9 features and 5 clusters took to run 1.8369103999993968\n",
      "ICA with 9 features and 6 clusters took to run 2.7287317000009352\n",
      "ICA with 9 features and 7 clusters took to run 6.023758299999827\n",
      "ICA with 9 features and 8 clusters took to run 8.545588800001497\n",
      "ICA with 9 features and 9 clusters took to run 6.995443600000726\n",
      "ICA with 9 features and 10 clusters took to run 1.1456765000002633\n",
      "ICA with 9 features and 11 clusters took to run 1.8181261999998242\n",
      "ICA with 9 features and 12 clusters took to run 2.174183199998879\n",
      "ICA with 9 features and 13 clusters took to run 1.758059099998718\n",
      "ICA with 9 features and 14 clusters took to run 2.027214100000492\n",
      "ICA with 9 features and 15 clusters took to run 10.657696399999622\n",
      "ICA with 9 features and 16 clusters took to run 40.700057000000015\n",
      "ICA with 9 features and 17 clusters took to run 32.105043899999146\n",
      "ICA with 9 features and 18 clusters took to run 35.991620000000694\n",
      "ICA with 9 features and 19 clusters took to run 30.76521800000046\n"
     ]
    },
    {
     "name": "stderr",
     "output_type": "stream",
     "text": [
      "D:\\ProgramData\\Anaconda3\\envs\\ml\\lib\\site-packages\\sklearn\\decomposition\\_fastica.py:494: FutureWarning: Starting in v1.3, whiten='unit-variance' will be used by default.\n",
      "  warnings.warn(\n",
      "D:\\ProgramData\\Anaconda3\\envs\\ml\\lib\\site-packages\\sklearn\\decomposition\\_fastica.py:120: ConvergenceWarning: FastICA did not converge. Consider increasing tolerance or the maximum number of iterations.\n",
      "  warnings.warn(\n"
     ]
    },
    {
     "name": "stdout",
     "output_type": "stream",
     "text": [
      "ICA calibration for 10 components took  922.636521 seconds.\n",
      "ICA with 10 features and 1 clusters took to run 0.4968905999994604\n",
      "ICA with 10 features and 2 clusters took to run 2.3556631000010384\n",
      "ICA with 10 features and 3 clusters took to run 1.5672572000003129\n",
      "ICA with 10 features and 4 clusters took to run 2.778164499999548\n",
      "ICA with 10 features and 5 clusters took to run 4.610789999998815\n",
      "ICA with 10 features and 6 clusters took to run 7.091125999999349\n",
      "ICA with 10 features and 7 clusters took to run 7.294242500000109\n",
      "ICA with 10 features and 8 clusters took to run 7.347155099998417\n",
      "ICA with 10 features and 9 clusters took to run 11.870408200000384\n",
      "ICA with 10 features and 10 clusters took to run 13.550517100000434\n",
      "ICA with 10 features and 11 clusters took to run 13.963076000000001\n",
      "ICA with 10 features and 12 clusters took to run 13.678276000000551\n",
      "ICA with 10 features and 13 clusters took to run 13.892999899999268\n",
      "ICA with 10 features and 14 clusters took to run 15.654189799999585\n",
      "ICA with 10 features and 15 clusters took to run 13.354089500000555\n",
      "ICA with 10 features and 16 clusters took to run 10.353352399999494\n",
      "ICA with 10 features and 17 clusters took to run 13.661848499999905\n",
      "ICA with 10 features and 18 clusters took to run 10.300649799999519\n",
      "ICA with 10 features and 19 clusters took to run 5.46833770000012\n"
     ]
    },
    {
     "name": "stderr",
     "output_type": "stream",
     "text": [
      "D:\\ProgramData\\Anaconda3\\envs\\ml\\lib\\site-packages\\sklearn\\decomposition\\_fastica.py:494: FutureWarning: Starting in v1.3, whiten='unit-variance' will be used by default.\n",
      "  warnings.warn(\n",
      "D:\\ProgramData\\Anaconda3\\envs\\ml\\lib\\site-packages\\sklearn\\decomposition\\_fastica.py:120: ConvergenceWarning: FastICA did not converge. Consider increasing tolerance or the maximum number of iterations.\n",
      "  warnings.warn(\n"
     ]
    },
    {
     "name": "stdout",
     "output_type": "stream",
     "text": [
      "ICA calibration for 11 components took  857.732166 seconds.\n",
      "ICA with 11 features and 1 clusters took to run 0.03524470000047586\n",
      "ICA with 11 features and 2 clusters took to run 0.41989269999976386\n",
      "ICA with 11 features and 3 clusters took to run 0.3760115000004589\n",
      "ICA with 11 features and 4 clusters took to run 0.23108479999973497\n",
      "ICA with 11 features and 5 clusters took to run 0.8032844999997906\n",
      "ICA with 11 features and 6 clusters took to run 2.041567500000383\n",
      "ICA with 11 features and 7 clusters took to run 4.162180299999818\n",
      "ICA with 11 features and 8 clusters took to run 3.91104599999926\n",
      "ICA with 11 features and 9 clusters took to run 5.385617800000546\n",
      "ICA with 11 features and 10 clusters took to run 8.479690699999992\n",
      "ICA with 11 features and 11 clusters took to run 8.556038400000034\n",
      "ICA with 11 features and 12 clusters took to run 8.26653499999884\n",
      "ICA with 11 features and 13 clusters took to run 13.692359700000452\n",
      "ICA with 11 features and 14 clusters took to run 12.386241600001085\n",
      "ICA with 11 features and 15 clusters took to run 16.644709300000613\n",
      "ICA with 11 features and 16 clusters took to run 3.8261101999996754\n",
      "ICA with 11 features and 17 clusters took to run 4.827848599999925\n",
      "ICA with 11 features and 18 clusters took to run 14.558229399999618\n",
      "ICA with 11 features and 19 clusters took to run 27.055868499999633\n"
     ]
    },
    {
     "name": "stderr",
     "output_type": "stream",
     "text": [
      "D:\\ProgramData\\Anaconda3\\envs\\ml\\lib\\site-packages\\sklearn\\decomposition\\_fastica.py:494: FutureWarning: Starting in v1.3, whiten='unit-variance' will be used by default.\n",
      "  warnings.warn(\n"
     ]
    },
    {
     "name": "stdout",
     "output_type": "stream",
     "text": [
      "ICA calibration for 12 components took  904.813451 seconds.\n",
      "ICA with 12 features and 1 clusters took to run 0.2563453999991907\n",
      "ICA with 12 features and 2 clusters took to run 2.556663999999728\n",
      "ICA with 12 features and 3 clusters took to run 3.352869300000748\n",
      "ICA with 12 features and 4 clusters took to run 8.94872320000104\n",
      "ICA with 12 features and 5 clusters took to run 9.53296489999957\n",
      "ICA with 12 features and 6 clusters took to run 5.260778099998788\n",
      "ICA with 12 features and 7 clusters took to run 10.77047069999935\n",
      "ICA with 12 features and 8 clusters took to run 15.437883900000088\n",
      "ICA with 12 features and 9 clusters took to run 18.874395099999674\n",
      "ICA with 12 features and 10 clusters took to run 18.99844739999935\n",
      "ICA with 12 features and 11 clusters took to run 23.426832499999364\n",
      "ICA with 12 features and 12 clusters took to run 25.17940869999984\n",
      "ICA with 12 features and 13 clusters took to run 23.199926499999492\n",
      "ICA with 12 features and 14 clusters took to run 32.31399229999988\n",
      "ICA with 12 features and 15 clusters took to run 6683.899443499999\n",
      "ICA with 12 features and 16 clusters took to run 28.04084689999945\n",
      "ICA with 12 features and 17 clusters took to run 20.215501500002574\n",
      "ICA with 12 features and 18 clusters took to run 22.97607860000062\n",
      "ICA with 12 features and 19 clusters took to run 11.823598300001322\n"
     ]
    },
    {
     "name": "stderr",
     "output_type": "stream",
     "text": [
      "D:\\ProgramData\\Anaconda3\\envs\\ml\\lib\\site-packages\\sklearn\\decomposition\\_fastica.py:494: FutureWarning: Starting in v1.3, whiten='unit-variance' will be used by default.\n",
      "  warnings.warn(\n"
     ]
    },
    {
     "name": "stdout",
     "output_type": "stream",
     "text": [
      "ICA calibration for 13 components took  885.018330 seconds.\n",
      "ICA with 13 features and 1 clusters took to run 0.408897799999977\n",
      "ICA with 13 features and 2 clusters took to run 0.20740110000042478\n",
      "ICA with 13 features and 3 clusters took to run 0.62840480000159\n",
      "ICA with 13 features and 4 clusters took to run 0.6976450999973167\n",
      "ICA with 13 features and 5 clusters took to run 0.5201001999994332\n",
      "ICA with 13 features and 6 clusters took to run 1.4639452000010351\n",
      "ICA with 13 features and 7 clusters took to run 1.3686492000015278\n",
      "ICA with 13 features and 8 clusters took to run 4.11877689999892\n",
      "ICA with 13 features and 9 clusters took to run 3.935256600001594\n",
      "ICA with 13 features and 10 clusters took to run 2.0309256999971694\n",
      "ICA with 13 features and 11 clusters took to run 5.448922399998992\n",
      "ICA with 13 features and 12 clusters took to run 7.125085099996795\n",
      "ICA with 13 features and 13 clusters took to run 8.949948500001483\n",
      "ICA with 13 features and 14 clusters took to run 16.041770899999392\n",
      "ICA with 13 features and 15 clusters took to run 13.343796499997552\n",
      "ICA with 13 features and 16 clusters took to run 15.065042499998526\n",
      "ICA with 13 features and 17 clusters took to run 21.890240299999277\n",
      "ICA with 13 features and 18 clusters took to run 5.227812500001164\n",
      "ICA with 13 features and 19 clusters took to run 14.336492499998712\n"
     ]
    },
    {
     "name": "stderr",
     "output_type": "stream",
     "text": [
      "D:\\ProgramData\\Anaconda3\\envs\\ml\\lib\\site-packages\\sklearn\\decomposition\\_fastica.py:494: FutureWarning: Starting in v1.3, whiten='unit-variance' will be used by default.\n",
      "  warnings.warn(\n"
     ]
    },
    {
     "name": "stdout",
     "output_type": "stream",
     "text": [
      "ICA calibration for 14 components took  886.522483 seconds.\n",
      "ICA with 14 features and 1 clusters took to run 0.23140109999803826\n",
      "ICA with 14 features and 2 clusters took to run 0.3266110000004119\n",
      "ICA with 14 features and 3 clusters took to run 0.5388620000012452\n",
      "ICA with 14 features and 4 clusters took to run 0.2814509999989241\n",
      "ICA with 14 features and 5 clusters took to run 1.836538899999141\n",
      "ICA with 14 features and 6 clusters took to run 1.57519400000092\n",
      "ICA with 14 features and 7 clusters took to run 1.3277173999995284\n",
      "ICA with 14 features and 8 clusters took to run 1.76592779999919\n",
      "ICA with 14 features and 9 clusters took to run 12.064460800000234\n",
      "ICA with 14 features and 10 clusters took to run 25.613406000000396\n",
      "ICA with 14 features and 11 clusters took to run 23.342919799997617\n",
      "ICA with 14 features and 12 clusters took to run 26.253686500000185\n",
      "ICA with 14 features and 13 clusters took to run 25.904960399999254\n",
      "ICA with 14 features and 14 clusters took to run 35.536174000000756\n",
      "ICA with 14 features and 15 clusters took to run 24.06525959999999\n",
      "ICA with 14 features and 16 clusters took to run 29.903256599998713\n",
      "ICA with 14 features and 17 clusters took to run 46.89035719999811\n",
      "ICA with 14 features and 18 clusters took to run 34.69233189999795\n",
      "ICA with 14 features and 19 clusters took to run 28.59444480000093\n"
     ]
    },
    {
     "name": "stderr",
     "output_type": "stream",
     "text": [
      "D:\\ProgramData\\Anaconda3\\envs\\ml\\lib\\site-packages\\sklearn\\decomposition\\_fastica.py:494: FutureWarning: Starting in v1.3, whiten='unit-variance' will be used by default.\n",
      "  warnings.warn(\n"
     ]
    },
    {
     "name": "stdout",
     "output_type": "stream",
     "text": [
      "ICA calibration for 15 components took  860.607613 seconds.\n",
      "ICA with 15 features and 1 clusters took to run 0.6301229000018793\n",
      "ICA with 15 features and 2 clusters took to run 1.9458951000015077\n",
      "ICA with 15 features and 3 clusters took to run 1.6131012000005285\n",
      "ICA with 15 features and 4 clusters took to run 3.403407400001015\n",
      "ICA with 15 features and 5 clusters took to run 3.439317899999878\n",
      "ICA with 15 features and 6 clusters took to run 7.8958773000013025\n",
      "ICA with 15 features and 7 clusters took to run 12.249696399998356\n",
      "ICA with 15 features and 8 clusters took to run 5.363816799999768\n",
      "ICA with 15 features and 9 clusters took to run 7.138287100002344\n",
      "ICA with 15 features and 10 clusters took to run 5.581433899998956\n",
      "ICA with 15 features and 11 clusters took to run 3.7990313000009337\n",
      "ICA with 15 features and 12 clusters took to run 3.4982659999986936\n",
      "ICA with 15 features and 13 clusters took to run 8.647285899998678\n",
      "ICA with 15 features and 14 clusters took to run 3.663175899997441\n",
      "ICA with 15 features and 15 clusters took to run 19.38573069999984\n",
      "ICA with 15 features and 16 clusters took to run 17.772349300001224\n",
      "ICA with 15 features and 17 clusters took to run 12.278083400000469\n",
      "ICA with 15 features and 18 clusters took to run 17.308810700000322\n",
      "ICA with 15 features and 19 clusters took to run 20.78482200000144\n"
     ]
    },
    {
     "name": "stderr",
     "output_type": "stream",
     "text": [
      "D:\\ProgramData\\Anaconda3\\envs\\ml\\lib\\site-packages\\sklearn\\decomposition\\_fastica.py:494: FutureWarning: Starting in v1.3, whiten='unit-variance' will be used by default.\n",
      "  warnings.warn(\n"
     ]
    },
    {
     "name": "stdout",
     "output_type": "stream",
     "text": [
      "ICA calibration for 16 components took  905.886080 seconds.\n",
      "ICA with 16 features and 1 clusters took to run 0.23127129999920726\n",
      "ICA with 16 features and 2 clusters took to run 0.6526631999986421\n",
      "ICA with 16 features and 3 clusters took to run 0.6704532000003383\n",
      "ICA with 16 features and 4 clusters took to run 0.6194313999985752\n",
      "ICA with 16 features and 5 clusters took to run 1.1121098000003258\n",
      "ICA with 16 features and 6 clusters took to run 1.440933000001678\n",
      "ICA with 16 features and 7 clusters took to run 1.6355089000026055\n",
      "ICA with 16 features and 8 clusters took to run 2.135663900000509\n",
      "ICA with 16 features and 9 clusters took to run 2.834860099999787\n",
      "ICA with 16 features and 10 clusters took to run 19.502872100001696\n",
      "ICA with 16 features and 11 clusters took to run 21.583962900000188\n",
      "ICA with 16 features and 12 clusters took to run 51.46705160000056\n",
      "ICA with 16 features and 13 clusters took to run 40.11229910000111\n",
      "ICA with 16 features and 14 clusters took to run 31.51268279999931\n",
      "ICA with 16 features and 15 clusters took to run 40.79358090000096\n",
      "ICA with 16 features and 16 clusters took to run 55.84077999999863\n",
      "ICA with 16 features and 17 clusters took to run 27.123787799999263\n",
      "ICA with 16 features and 18 clusters took to run 33.4129514999986\n",
      "ICA with 16 features and 19 clusters took to run 21.5063362999972\n"
     ]
    },
    {
     "name": "stderr",
     "output_type": "stream",
     "text": [
      "D:\\ProgramData\\Anaconda3\\envs\\ml\\lib\\site-packages\\sklearn\\decomposition\\_fastica.py:494: FutureWarning: Starting in v1.3, whiten='unit-variance' will be used by default.\n",
      "  warnings.warn(\n"
     ]
    },
    {
     "name": "stdout",
     "output_type": "stream",
     "text": [
      "ICA calibration for 17 components took  880.251917 seconds.\n",
      "ICA with 17 features and 1 clusters took to run 0.24745179999808897\n",
      "ICA with 17 features and 2 clusters took to run 0.5074979999990319\n",
      "ICA with 17 features and 3 clusters took to run 1.1795289000001503\n",
      "ICA with 17 features and 4 clusters took to run 0.7332272000021476\n",
      "ICA with 17 features and 5 clusters took to run 0.8553431000000273\n",
      "ICA with 17 features and 6 clusters took to run 0.976781999997911\n",
      "ICA with 17 features and 7 clusters took to run 5.580247799996869\n",
      "ICA with 17 features and 8 clusters took to run 1.2685190000011062\n",
      "ICA with 17 features and 9 clusters took to run 5.47800990000178\n",
      "ICA with 17 features and 10 clusters took to run 8.579098499998508\n",
      "ICA with 17 features and 11 clusters took to run 14.205565399999614\n",
      "ICA with 17 features and 12 clusters took to run 14.61381220000112\n",
      "ICA with 17 features and 13 clusters took to run 14.82642979999946\n",
      "ICA with 17 features and 14 clusters took to run 20.52002580000044\n",
      "ICA with 17 features and 15 clusters took to run 17.26674329999878\n",
      "ICA with 17 features and 16 clusters took to run 3.57298389999778\n",
      "ICA with 17 features and 17 clusters took to run 36.46025319999899\n",
      "ICA with 17 features and 18 clusters took to run 46.49452190000011\n",
      "ICA with 17 features and 19 clusters took to run 56.03466929999922\n"
     ]
    },
    {
     "name": "stderr",
     "output_type": "stream",
     "text": [
      "D:\\ProgramData\\Anaconda3\\envs\\ml\\lib\\site-packages\\sklearn\\decomposition\\_fastica.py:494: FutureWarning: Starting in v1.3, whiten='unit-variance' will be used by default.\n",
      "  warnings.warn(\n"
     ]
    },
    {
     "name": "stdout",
     "output_type": "stream",
     "text": [
      "ICA calibration for 18 components took  899.810627 seconds.\n",
      "ICA with 18 features and 1 clusters took to run 0.6841648999979952\n",
      "ICA with 18 features and 2 clusters took to run 0.47694229999979143\n",
      "ICA with 18 features and 3 clusters took to run 4.979109999996581\n",
      "ICA with 18 features and 4 clusters took to run 4.149044499998126\n",
      "ICA with 18 features and 5 clusters took to run 5.383189799998945\n",
      "ICA with 18 features and 6 clusters took to run 6.39335530000244\n",
      "ICA with 18 features and 7 clusters took to run 32.548971000000165\n",
      "ICA with 18 features and 8 clusters took to run 14.906457299999602\n",
      "ICA with 18 features and 9 clusters took to run 18.129410499997903\n",
      "ICA with 18 features and 10 clusters took to run 24.602557299996988\n",
      "ICA with 18 features and 11 clusters took to run 26.408860400002595\n",
      "ICA with 18 features and 12 clusters took to run 36.56774519999817\n",
      "ICA with 18 features and 13 clusters took to run 10.035356799999136\n",
      "ICA with 18 features and 14 clusters took to run 16.976414799999475\n",
      "ICA with 18 features and 15 clusters took to run 15.85914749999938\n",
      "ICA with 18 features and 16 clusters took to run 5.243188599997666\n",
      "ICA with 18 features and 17 clusters took to run 5.873101999997743\n",
      "ICA with 18 features and 18 clusters took to run 12.482026300000143\n",
      "ICA with 18 features and 19 clusters took to run 29.46064519999709\n"
     ]
    },
    {
     "name": "stderr",
     "output_type": "stream",
     "text": [
      "D:\\ProgramData\\Anaconda3\\envs\\ml\\lib\\site-packages\\sklearn\\decomposition\\_fastica.py:494: FutureWarning: Starting in v1.3, whiten='unit-variance' will be used by default.\n",
      "  warnings.warn(\n"
     ]
    },
    {
     "name": "stdout",
     "output_type": "stream",
     "text": [
      "ICA calibration for 19 components took  838.824992 seconds.\n",
      "ICA with 19 features and 1 clusters took to run 0.08997599999929662\n",
      "ICA with 19 features and 2 clusters took to run 3.3237593000012566\n",
      "ICA with 19 features and 3 clusters took to run 2.3899891000000935\n",
      "ICA with 19 features and 4 clusters took to run 2.3562631999993755\n",
      "ICA with 19 features and 5 clusters took to run 0.7236203999964346\n",
      "ICA with 19 features and 6 clusters took to run 3.707153200000903\n",
      "ICA with 19 features and 7 clusters took to run 3.2206981999988784\n",
      "ICA with 19 features and 8 clusters took to run 5.701827000000776\n",
      "ICA with 19 features and 9 clusters took to run 19.318424299999606\n",
      "ICA with 19 features and 10 clusters took to run 9.669315899998765\n",
      "ICA with 19 features and 11 clusters took to run 6.9841630999981135\n",
      "ICA with 19 features and 12 clusters took to run 9.887588400000823\n",
      "ICA with 19 features and 13 clusters took to run 13.150376900000992\n",
      "ICA with 19 features and 14 clusters took to run 7.69006630000149\n",
      "ICA with 19 features and 15 clusters took to run 29.43067979999978\n",
      "ICA with 19 features and 16 clusters took to run 59.71411249999801\n",
      "ICA with 19 features and 17 clusters took to run 45.588396200000716\n",
      "ICA with 19 features and 18 clusters took to run 32.66874470000039\n",
      "ICA with 19 features and 19 clusters took to run 55.152369100000215\n"
     ]
    },
    {
     "name": "stderr",
     "output_type": "stream",
     "text": [
      "D:\\ProgramData\\Anaconda3\\envs\\ml\\lib\\site-packages\\sklearn\\decomposition\\_fastica.py:494: FutureWarning: Starting in v1.3, whiten='unit-variance' will be used by default.\n",
      "  warnings.warn(\n"
     ]
    },
    {
     "name": "stdout",
     "output_type": "stream",
     "text": [
      "ICA calibration for 20 components took  854.060882 seconds.\n",
      "ICA with 20 features and 1 clusters took to run 0.6392168999991554\n",
      "ICA with 20 features and 2 clusters took to run 1.4475759999986622\n",
      "ICA with 20 features and 3 clusters took to run 7.620002499999828\n",
      "ICA with 20 features and 4 clusters took to run 5.181505399999878\n",
      "ICA with 20 features and 5 clusters took to run 8.902364800000214\n",
      "ICA with 20 features and 6 clusters took to run 12.505170599997655\n",
      "ICA with 20 features and 7 clusters took to run 7.9350283999992826\n",
      "ICA with 20 features and 8 clusters took to run 14.131683799998427\n",
      "ICA with 20 features and 9 clusters took to run 23.489790899999207\n",
      "ICA with 20 features and 10 clusters took to run 18.743922899997415\n",
      "ICA with 20 features and 11 clusters took to run 22.92473020000034\n",
      "ICA with 20 features and 12 clusters took to run 16.090302700002212\n",
      "ICA with 20 features and 13 clusters took to run 21.739722499998607\n",
      "ICA with 20 features and 14 clusters took to run 8.802563099998224\n",
      "ICA with 20 features and 15 clusters took to run 10.12595919999876\n",
      "ICA with 20 features and 16 clusters took to run 12.581888799999433\n",
      "ICA with 20 features and 17 clusters took to run 23.901703599996836\n",
      "ICA with 20 features and 18 clusters took to run 18.954224400000385\n",
      "ICA with 20 features and 19 clusters took to run 23.493699799997557\n"
     ]
    },
    {
     "name": "stderr",
     "output_type": "stream",
     "text": [
      "D:\\ProgramData\\Anaconda3\\envs\\ml\\lib\\site-packages\\sklearn\\decomposition\\_fastica.py:494: FutureWarning: Starting in v1.3, whiten='unit-variance' will be used by default.\n",
      "  warnings.warn(\n"
     ]
    },
    {
     "name": "stdout",
     "output_type": "stream",
     "text": [
      "ICA calibration for 21 components took  865.033626 seconds.\n",
      "ICA with 21 features and 1 clusters took to run 0.05424169999969308\n",
      "ICA with 21 features and 2 clusters took to run 0.7980297999965842\n",
      "ICA with 21 features and 3 clusters took to run 1.008819599999697\n",
      "ICA with 21 features and 4 clusters took to run 3.7557242999973823\n",
      "ICA with 21 features and 5 clusters took to run 3.925136999998358\n",
      "ICA with 21 features and 6 clusters took to run 7.183909000003041\n",
      "ICA with 21 features and 7 clusters took to run 7.7085546999987855\n",
      "ICA with 21 features and 8 clusters took to run 9.788439799998741\n",
      "ICA with 21 features and 9 clusters took to run 4.62175550000029\n",
      "ICA with 21 features and 10 clusters took to run 3.623164499997074\n",
      "ICA with 21 features and 11 clusters took to run 5.194562000000587\n",
      "ICA with 21 features and 12 clusters took to run 40.662011399999756\n",
      "ICA with 21 features and 13 clusters took to run 42.728347800002666\n",
      "ICA with 21 features and 14 clusters took to run 26.652171400000952\n",
      "ICA with 21 features and 15 clusters took to run 32.34121309999682\n",
      "ICA with 21 features and 16 clusters took to run 38.32682190000196\n",
      "ICA with 21 features and 17 clusters took to run 59.14502589999756\n",
      "ICA with 21 features and 18 clusters took to run 28.745465600000898\n",
      "ICA with 21 features and 19 clusters took to run 32.8039205999994\n"
     ]
    },
    {
     "name": "stderr",
     "output_type": "stream",
     "text": [
      "D:\\ProgramData\\Anaconda3\\envs\\ml\\lib\\site-packages\\sklearn\\decomposition\\_fastica.py:494: FutureWarning: Starting in v1.3, whiten='unit-variance' will be used by default.\n",
      "  warnings.warn(\n"
     ]
    },
    {
     "name": "stdout",
     "output_type": "stream",
     "text": [
      "ICA calibration for 22 components took  882.267879 seconds.\n",
      "ICA with 22 features and 1 clusters took to run 0.4775109000001976\n",
      "ICA with 22 features and 2 clusters took to run 0.558251400001609\n",
      "ICA with 22 features and 3 clusters took to run 1.2264106000002357\n",
      "ICA with 22 features and 4 clusters took to run 2.0856598999998823\n",
      "ICA with 22 features and 5 clusters took to run 3.0934995999996318\n",
      "ICA with 22 features and 6 clusters took to run 4.272479899998871\n",
      "ICA with 22 features and 7 clusters took to run 4.622762099999818\n",
      "ICA with 22 features and 8 clusters took to run 6.2762140999984695\n",
      "ICA with 22 features and 9 clusters took to run 7.770531199999823\n",
      "ICA with 22 features and 10 clusters took to run 6.162173900000198\n",
      "ICA with 22 features and 11 clusters took to run 4.895059300000867\n",
      "ICA with 22 features and 12 clusters took to run 13.321838100000605\n",
      "ICA with 22 features and 13 clusters took to run 18.24440609999874\n",
      "ICA with 22 features and 14 clusters took to run 16.25735369999893\n",
      "ICA with 22 features and 15 clusters took to run 9.347365100002207\n",
      "ICA with 22 features and 16 clusters took to run 28.684502600000997\n",
      "ICA with 22 features and 17 clusters took to run 15.561125600001105\n",
      "ICA with 22 features and 18 clusters took to run 25.083778600001096\n",
      "ICA with 22 features and 19 clusters took to run 1008.0313279000002\n"
     ]
    },
    {
     "name": "stderr",
     "output_type": "stream",
     "text": [
      "D:\\ProgramData\\Anaconda3\\envs\\ml\\lib\\site-packages\\sklearn\\decomposition\\_fastica.py:494: FutureWarning: Starting in v1.3, whiten='unit-variance' will be used by default.\n",
      "  warnings.warn(\n"
     ]
    },
    {
     "name": "stdout",
     "output_type": "stream",
     "text": [
      "ICA calibration for 23 components took  801.811661 seconds.\n",
      "ICA with 23 features and 1 clusters took to run 0.2368120999999519\n",
      "ICA with 23 features and 2 clusters took to run 0.10154619999957504\n",
      "ICA with 23 features and 3 clusters took to run 0.26727150000078836\n",
      "ICA with 23 features and 4 clusters took to run 0.21879860000262852\n",
      "ICA with 23 features and 5 clusters took to run 3.019894500001101\n",
      "ICA with 23 features and 6 clusters took to run 19.907809399999678\n",
      "ICA with 23 features and 7 clusters took to run 20.339408600000752\n",
      "ICA with 23 features and 8 clusters took to run 40.5382411999999\n",
      "ICA with 23 features and 9 clusters took to run 20.255802100000437\n",
      "ICA with 23 features and 10 clusters took to run 38.69236730000193\n",
      "ICA with 23 features and 11 clusters took to run 56.07045780000044\n",
      "ICA with 23 features and 12 clusters took to run 45.45472739999968\n",
      "ICA with 23 features and 13 clusters took to run 44.94542469999942\n",
      "ICA with 23 features and 14 clusters took to run 40.43965859999662\n",
      "ICA with 23 features and 15 clusters took to run 26.834622999998828\n",
      "ICA with 23 features and 16 clusters took to run 18.871473700000934\n",
      "ICA with 23 features and 17 clusters took to run 10.442022399998677\n",
      "ICA with 23 features and 18 clusters took to run 17.114869400000316\n",
      "ICA with 23 features and 19 clusters took to run 31.489557500000956\n"
     ]
    },
    {
     "name": "stderr",
     "output_type": "stream",
     "text": [
      "D:\\ProgramData\\Anaconda3\\envs\\ml\\lib\\site-packages\\sklearn\\decomposition\\_fastica.py:494: FutureWarning: Starting in v1.3, whiten='unit-variance' will be used by default.\n",
      "  warnings.warn(\n"
     ]
    },
    {
     "name": "stdout",
     "output_type": "stream",
     "text": [
      "ICA calibration for 24 components took  841.577832 seconds.\n",
      "ICA with 24 features and 1 clusters took to run 0.14740339999843854\n",
      "ICA with 24 features and 2 clusters took to run 0.36654429999907734\n",
      "ICA with 24 features and 3 clusters took to run 3.5249079999994137\n",
      "ICA with 24 features and 4 clusters took to run 8.129740000003949\n",
      "ICA with 24 features and 5 clusters took to run 5.129862699999649\n",
      "ICA with 24 features and 6 clusters took to run 5.973357599999872\n",
      "ICA with 24 features and 7 clusters took to run 13.337485100004415\n",
      "ICA with 24 features and 8 clusters took to run 9.432658600002469\n",
      "ICA with 24 features and 9 clusters took to run 15.084474100003717\n",
      "ICA with 24 features and 10 clusters took to run 8.756066400004784\n",
      "ICA with 24 features and 11 clusters took to run 3.845113000003039\n",
      "ICA with 24 features and 12 clusters took to run 39.56038870000339\n",
      "ICA with 24 features and 13 clusters took to run 83.81042049999814\n",
      "ICA with 24 features and 14 clusters took to run 37.87406439999904\n",
      "ICA with 24 features and 15 clusters took to run 64.082155899996\n",
      "ICA with 24 features and 16 clusters took to run 32.3541722000009\n",
      "ICA with 24 features and 17 clusters took to run 28.71779239999887\n",
      "ICA with 24 features and 18 clusters took to run 53.37182319999556\n",
      "ICA with 24 features and 19 clusters took to run 24.687908600004448\n"
     ]
    },
    {
     "name": "stderr",
     "output_type": "stream",
     "text": [
      "D:\\ProgramData\\Anaconda3\\envs\\ml\\lib\\site-packages\\sklearn\\decomposition\\_fastica.py:494: FutureWarning: Starting in v1.3, whiten='unit-variance' will be used by default.\n",
      "  warnings.warn(\n"
     ]
    },
    {
     "name": "stdout",
     "output_type": "stream",
     "text": [
      "ICA calibration for 25 components took  828.156482 seconds.\n",
      "ICA with 25 features and 1 clusters took to run 0.6731566000016755\n",
      "ICA with 25 features and 2 clusters took to run 0.29705039999680594\n",
      "ICA with 25 features and 3 clusters took to run 0.49489700000412995\n",
      "ICA with 25 features and 4 clusters took to run 0.9794183000049088\n",
      "ICA with 25 features and 5 clusters took to run 2.892756499997631\n",
      "ICA with 25 features and 6 clusters took to run 10.041058399998292\n",
      "ICA with 25 features and 7 clusters took to run 9.611252100003185\n",
      "ICA with 25 features and 8 clusters took to run 7.9088533999965875\n",
      "ICA with 25 features and 9 clusters took to run 2.126649300000281\n",
      "ICA with 25 features and 10 clusters took to run 7.179693600002793\n",
      "ICA with 25 features and 11 clusters took to run 9.204118800000288\n",
      "ICA with 25 features and 12 clusters took to run 14.98319459999766\n",
      "ICA with 25 features and 13 clusters took to run 13.911504300005618\n",
      "ICA with 25 features and 14 clusters took to run 30.056010000000242\n",
      "ICA with 25 features and 15 clusters took to run 26.101625500006776\n",
      "ICA with 25 features and 16 clusters took to run 12.67608140000084\n",
      "ICA with 25 features and 17 clusters took to run 27.190463699997053\n",
      "ICA with 25 features and 18 clusters took to run 72.65580469999986\n",
      "ICA with 25 features and 19 clusters took to run 62.81928579999658\n"
     ]
    },
    {
     "name": "stderr",
     "output_type": "stream",
     "text": [
      "D:\\ProgramData\\Anaconda3\\envs\\ml\\lib\\site-packages\\sklearn\\decomposition\\_fastica.py:494: FutureWarning: Starting in v1.3, whiten='unit-variance' will be used by default.\n",
      "  warnings.warn(\n"
     ]
    },
    {
     "name": "stdout",
     "output_type": "stream",
     "text": [
      "ICA calibration for 26 components took  889.177480 seconds.\n",
      "ICA with 26 features and 1 clusters took to run 0.6922616000010748\n",
      "ICA with 26 features and 2 clusters took to run 0.9016312000021571\n",
      "ICA with 26 features and 3 clusters took to run 3.2852100000018254\n",
      "ICA with 26 features and 4 clusters took to run 10.325004600003012\n",
      "ICA with 26 features and 5 clusters took to run 12.78196780000144\n",
      "ICA with 26 features and 6 clusters took to run 17.803790800004208\n",
      "ICA with 26 features and 7 clusters took to run 18.010231000000203\n",
      "ICA with 26 features and 8 clusters took to run 15.957656599995971\n",
      "ICA with 26 features and 9 clusters took to run 30.94297430000006\n",
      "ICA with 26 features and 10 clusters took to run 26.41048050000245\n",
      "ICA with 26 features and 11 clusters took to run 35.295195099999546\n",
      "ICA with 26 features and 12 clusters took to run 24.22350120000192\n",
      "ICA with 26 features and 13 clusters took to run 18.897885099999257\n",
      "ICA with 26 features and 14 clusters took to run 9.220080300001428\n",
      "ICA with 26 features and 15 clusters took to run 11.83728350000456\n",
      "ICA with 26 features and 16 clusters took to run 22.72602850000112\n",
      "ICA with 26 features and 17 clusters took to run 39.82708360000106\n",
      "ICA with 26 features and 18 clusters took to run 26.75120039999456\n",
      "ICA with 26 features and 19 clusters took to run 10.519302799999423\n"
     ]
    },
    {
     "name": "stderr",
     "output_type": "stream",
     "text": [
      "D:\\ProgramData\\Anaconda3\\envs\\ml\\lib\\site-packages\\sklearn\\decomposition\\_fastica.py:494: FutureWarning: Starting in v1.3, whiten='unit-variance' will be used by default.\n",
      "  warnings.warn(\n"
     ]
    },
    {
     "name": "stdout",
     "output_type": "stream",
     "text": [
      "ICA calibration for 27 components took  899.430006 seconds.\n",
      "ICA with 27 features and 1 clusters took to run 0.07071600000199396\n",
      "ICA with 27 features and 2 clusters took to run 0.35971840000274824\n",
      "ICA with 27 features and 3 clusters took to run 0.6231912999937776\n",
      "ICA with 27 features and 4 clusters took to run 0.883135999996739\n",
      "ICA with 27 features and 5 clusters took to run 1.0346466000046348\n",
      "ICA with 27 features and 6 clusters took to run 1.0172479000029853\n",
      "ICA with 27 features and 7 clusters took to run 3.426271299998916\n",
      "ICA with 27 features and 8 clusters took to run 10.848026200001186\n",
      "ICA with 27 features and 9 clusters took to run 48.091425999999046\n",
      "ICA with 27 features and 10 clusters took to run 29.479422299998987\n",
      "ICA with 27 features and 11 clusters took to run 40.46005769999465\n",
      "ICA with 27 features and 12 clusters took to run 53.228799899996375\n",
      "ICA with 27 features and 13 clusters took to run 24.856838500003505\n",
      "ICA with 27 features and 14 clusters took to run 53.47147279999626\n",
      "ICA with 27 features and 15 clusters took to run 33.96090739999636\n",
      "ICA with 27 features and 16 clusters took to run 38.660369600002014\n",
      "ICA with 27 features and 17 clusters took to run 33.95281260000047\n",
      "ICA with 27 features and 18 clusters took to run 16.719162599998526\n",
      "ICA with 27 features and 19 clusters took to run 23.107942199996614\n"
     ]
    },
    {
     "name": "stderr",
     "output_type": "stream",
     "text": [
      "D:\\ProgramData\\Anaconda3\\envs\\ml\\lib\\site-packages\\sklearn\\decomposition\\_fastica.py:494: FutureWarning: Starting in v1.3, whiten='unit-variance' will be used by default.\n",
      "  warnings.warn(\n"
     ]
    },
    {
     "name": "stdout",
     "output_type": "stream",
     "text": [
      "ICA calibration for 28 components took  839.348002 seconds.\n",
      "ICA with 28 features and 1 clusters took to run 0.0702235999997356\n",
      "ICA with 28 features and 2 clusters took to run 0.554466900000989\n",
      "ICA with 28 features and 3 clusters took to run 2.5695361999969464\n",
      "ICA with 28 features and 4 clusters took to run 1.6408862999960547\n",
      "ICA with 28 features and 5 clusters took to run 2.9385774999973364\n",
      "ICA with 28 features and 6 clusters took to run 5.963728299997456\n",
      "ICA with 28 features and 7 clusters took to run 4.336058799999591\n",
      "ICA with 28 features and 8 clusters took to run 13.517828299998655\n",
      "ICA with 28 features and 9 clusters took to run 14.430243400005565\n",
      "ICA with 28 features and 10 clusters took to run 18.37913750000007\n",
      "ICA with 28 features and 11 clusters took to run 20.71816039999976\n",
      "ICA with 28 features and 12 clusters took to run 10.125822100002551\n",
      "ICA with 28 features and 13 clusters took to run 7.668910799999139\n",
      "ICA with 28 features and 14 clusters took to run 108.89593629999581\n",
      "ICA with 28 features and 15 clusters took to run 49.15124300000025\n",
      "ICA with 28 features and 16 clusters took to run 39.447152100001404\n",
      "ICA with 28 features and 17 clusters took to run 41.034768199999235\n",
      "ICA with 28 features and 18 clusters took to run 31.456165900002816\n",
      "ICA with 28 features and 19 clusters took to run 48.513413200002105\n"
     ]
    },
    {
     "name": "stderr",
     "output_type": "stream",
     "text": [
      "D:\\ProgramData\\Anaconda3\\envs\\ml\\lib\\site-packages\\sklearn\\decomposition\\_fastica.py:494: FutureWarning: Starting in v1.3, whiten='unit-variance' will be used by default.\n",
      "  warnings.warn(\n"
     ]
    },
    {
     "name": "stdout",
     "output_type": "stream",
     "text": [
      "ICA calibration for 29 components took  591.423134 seconds.\n",
      "ICA with 29 features and 1 clusters took to run 0.3969428999989759\n",
      "ICA with 29 features and 2 clusters took to run 0.09813800000119954\n",
      "ICA with 29 features and 3 clusters took to run 0.44193230000382755\n",
      "ICA with 29 features and 4 clusters took to run 1.6949779999995371\n",
      "ICA with 29 features and 5 clusters took to run 2.0237080000006245\n",
      "ICA with 29 features and 6 clusters took to run 1.1711289999948349\n",
      "ICA with 29 features and 7 clusters took to run 1.510555300003034\n",
      "ICA with 29 features and 8 clusters took to run 3.2166333999994094\n",
      "ICA with 29 features and 9 clusters took to run 5.033572600004845\n",
      "ICA with 29 features and 10 clusters took to run 5.226097300001129\n",
      "ICA with 29 features and 11 clusters took to run 3.836584299999231\n",
      "ICA with 29 features and 12 clusters took to run 5.3365506999980425\n",
      "ICA with 29 features and 13 clusters took to run 7.479547299997648\n",
      "ICA with 29 features and 14 clusters took to run 7.1247329999969224\n",
      "ICA with 29 features and 15 clusters took to run 10.909406600003422\n",
      "ICA with 29 features and 16 clusters took to run 10.107417500003066\n",
      "ICA with 29 features and 17 clusters took to run 10.967783699998108\n",
      "ICA with 29 features and 18 clusters took to run 7.009265000000596\n",
      "ICA with 29 features and 19 clusters took to run 7.34484180000436\n"
     ]
    },
    {
     "name": "stderr",
     "output_type": "stream",
     "text": [
      "D:\\ProgramData\\Anaconda3\\envs\\ml\\lib\\site-packages\\sklearn\\decomposition\\_fastica.py:494: FutureWarning: Starting in v1.3, whiten='unit-variance' will be used by default.\n",
      "  warnings.warn(\n"
     ]
    },
    {
     "name": "stdout",
     "output_type": "stream",
     "text": [
      "ICA calibration for 30 components took  479.339772 seconds.\n",
      "ICA with 30 features and 1 clusters took to run 0.05115490000025602\n",
      "ICA with 30 features and 2 clusters took to run 0.9502533999984735\n",
      "ICA with 30 features and 3 clusters took to run 0.5554338000001735\n",
      "ICA with 30 features and 4 clusters took to run 1.4138626999992994\n",
      "ICA with 30 features and 5 clusters took to run 0.8660506999949575\n",
      "ICA with 30 features and 6 clusters took to run 3.903989599995839\n",
      "ICA with 30 features and 7 clusters took to run 4.698474700002407\n",
      "ICA with 30 features and 8 clusters took to run 3.273286099996767\n",
      "ICA with 30 features and 9 clusters took to run 4.190020800000639\n",
      "ICA with 30 features and 10 clusters took to run 6.040602699998999\n",
      "ICA with 30 features and 11 clusters took to run 6.7119693999993615\n",
      "ICA with 30 features and 12 clusters took to run 4.029909599994426\n",
      "ICA with 30 features and 13 clusters took to run 6.951577399995585\n",
      "ICA with 30 features and 14 clusters took to run 12.4741828000042\n",
      "ICA with 30 features and 15 clusters took to run 12.199588600000425\n",
      "ICA with 30 features and 16 clusters took to run 8.952525200002128\n",
      "ICA with 30 features and 17 clusters took to run 11.819275299996661\n",
      "ICA with 30 features and 18 clusters took to run 11.240935399997397\n",
      "ICA with 30 features and 19 clusters took to run 11.92927690000215\n"
     ]
    },
    {
     "name": "stderr",
     "output_type": "stream",
     "text": [
      "D:\\ProgramData\\Anaconda3\\envs\\ml\\lib\\site-packages\\sklearn\\decomposition\\_fastica.py:494: FutureWarning: Starting in v1.3, whiten='unit-variance' will be used by default.\n",
      "  warnings.warn(\n"
     ]
    },
    {
     "name": "stdout",
     "output_type": "stream",
     "text": [
      "ICA calibration for 31 components took  830.632961 seconds.\n",
      "ICA with 31 features and 1 clusters took to run 0.5303560999964247\n",
      "ICA with 31 features and 2 clusters took to run 4.837571600000956\n",
      "ICA with 31 features and 3 clusters took to run 0.37959659999614814\n",
      "ICA with 31 features and 4 clusters took to run 5.330425100000866\n",
      "ICA with 31 features and 5 clusters took to run 5.8688833999985945\n",
      "ICA with 31 features and 6 clusters took to run 5.074861699999019\n",
      "ICA with 31 features and 7 clusters took to run 2.5330570000005537\n",
      "ICA with 31 features and 8 clusters took to run 11.813513899993268\n",
      "ICA with 31 features and 9 clusters took to run 12.97180870000011\n",
      "ICA with 31 features and 10 clusters took to run 13.68651750000572\n",
      "ICA with 31 features and 11 clusters took to run 4.63473189999786\n",
      "ICA with 31 features and 12 clusters took to run 4.490694000000076\n",
      "ICA with 31 features and 13 clusters took to run 6.067070200006128\n",
      "ICA with 31 features and 14 clusters took to run 5.998574400000507\n",
      "ICA with 31 features and 15 clusters took to run 4.133219499999541\n",
      "ICA with 31 features and 16 clusters took to run 26.87329150000005\n",
      "ICA with 31 features and 17 clusters took to run 57.713410600001225\n",
      "ICA with 31 features and 18 clusters took to run 71.27691789999517\n",
      "ICA with 31 features and 19 clusters took to run 66.01565989999654\n"
     ]
    },
    {
     "name": "stderr",
     "output_type": "stream",
     "text": [
      "D:\\ProgramData\\Anaconda3\\envs\\ml\\lib\\site-packages\\sklearn\\decomposition\\_fastica.py:494: FutureWarning: Starting in v1.3, whiten='unit-variance' will be used by default.\n",
      "  warnings.warn(\n"
     ]
    },
    {
     "name": "stdout",
     "output_type": "stream",
     "text": [
      "ICA calibration for 32 components took  686.735755 seconds.\n",
      "ICA with 32 features and 1 clusters took to run 0.16043509999872185\n",
      "ICA with 32 features and 2 clusters took to run 0.6266422999979113\n",
      "ICA with 32 features and 3 clusters took to run 1.084664200003317\n",
      "ICA with 32 features and 4 clusters took to run 0.9628073999992921\n",
      "ICA with 32 features and 5 clusters took to run 10.865908299994771\n",
      "ICA with 32 features and 6 clusters took to run 21.51414880000084\n",
      "ICA with 32 features and 7 clusters took to run 30.543387099998654\n",
      "ICA with 32 features and 8 clusters took to run 14.216189999999187\n",
      "ICA with 32 features and 9 clusters took to run 32.13658040000155\n",
      "ICA with 32 features and 10 clusters took to run 34.915342100001\n",
      "ICA with 32 features and 11 clusters took to run 30.0967912000051\n",
      "ICA with 32 features and 12 clusters took to run 32.80043000000296\n",
      "ICA with 32 features and 13 clusters took to run 27.70838499999809\n",
      "ICA with 32 features and 14 clusters took to run 20.44369810000353\n",
      "ICA with 32 features and 15 clusters took to run 28.90398229999846\n",
      "ICA with 32 features and 16 clusters took to run 23.97588700000051\n",
      "ICA with 32 features and 17 clusters took to run 31.737606399998185\n",
      "ICA with 32 features and 18 clusters took to run 34.857830200002354\n",
      "ICA with 32 features and 19 clusters took to run 8.633509699997376\n"
     ]
    },
    {
     "name": "stderr",
     "output_type": "stream",
     "text": [
      "D:\\ProgramData\\Anaconda3\\envs\\ml\\lib\\site-packages\\sklearn\\decomposition\\_fastica.py:494: FutureWarning: Starting in v1.3, whiten='unit-variance' will be used by default.\n",
      "  warnings.warn(\n"
     ]
    },
    {
     "ename": "KeyboardInterrupt",
     "evalue": "",
     "output_type": "error",
     "traceback": [
      "\u001b[1;31m---------------------------------------------------------------------------\u001b[0m",
      "\u001b[1;31mKeyboardInterrupt\u001b[0m                         Traceback (most recent call last)",
      "\u001b[1;32m~\\AppData\\Local\\Temp\\ipykernel_18788\\2701429664.py\u001b[0m in \u001b[0;36m<module>\u001b[1;34m\u001b[0m\n\u001b[0;32m      3\u001b[0m     \u001b[0mt\u001b[0m\u001b[1;33m.\u001b[0m\u001b[0mtic\u001b[0m\u001b[1;33m(\u001b[0m\u001b[1;33m)\u001b[0m\u001b[1;33m\u001b[0m\u001b[1;33m\u001b[0m\u001b[0m\n\u001b[0;32m      4\u001b[0m     \u001b[0mICA\u001b[0m \u001b[1;33m=\u001b[0m \u001b[0mFastICA\u001b[0m\u001b[1;33m(\u001b[0m\u001b[0mn_components\u001b[0m\u001b[1;33m=\u001b[0m\u001b[0miteCom\u001b[0m\u001b[1;33m,\u001b[0m\u001b[0mmax_iter\u001b[0m\u001b[1;33m=\u001b[0m\u001b[1;36m1000\u001b[0m\u001b[1;33m,\u001b[0m \u001b[0mrandom_state\u001b[0m \u001b[1;33m=\u001b[0m \u001b[1;36m19830526\u001b[0m\u001b[1;33m)\u001b[0m\u001b[1;33m\u001b[0m\u001b[1;33m\u001b[0m\u001b[0m\n\u001b[1;32m----> 5\u001b[1;33m     \u001b[0mcorpus_ica\u001b[0m\u001b[1;33m=\u001b[0m\u001b[0mICA\u001b[0m\u001b[1;33m.\u001b[0m\u001b[0mfit_transform\u001b[0m\u001b[1;33m(\u001b[0m\u001b[0mcorpus\u001b[0m\u001b[1;33m)\u001b[0m\u001b[1;33m\u001b[0m\u001b[1;33m\u001b[0m\u001b[0m\n\u001b[0m\u001b[0;32m      6\u001b[0m     \u001b[0mt\u001b[0m\u001b[1;33m.\u001b[0m\u001b[0mtoc\u001b[0m\u001b[1;33m(\u001b[0m\u001b[1;34m\"ICA calibration for \"\u001b[0m\u001b[1;33m+\u001b[0m\u001b[0mstr\u001b[0m\u001b[1;33m(\u001b[0m\u001b[0miteCom\u001b[0m\u001b[1;33m)\u001b[0m\u001b[1;33m+\u001b[0m\u001b[1;34m\" components took \"\u001b[0m\u001b[1;33m)\u001b[0m\u001b[1;33m\u001b[0m\u001b[1;33m\u001b[0m\u001b[0m\n\u001b[0;32m      7\u001b[0m     \u001b[1;32mfor\u001b[0m \u001b[0mite\u001b[0m \u001b[1;32min\u001b[0m \u001b[0mrange\u001b[0m\u001b[1;33m(\u001b[0m\u001b[1;36m1\u001b[0m\u001b[1;33m,\u001b[0m\u001b[1;36m20\u001b[0m\u001b[1;33m)\u001b[0m\u001b[1;33m:\u001b[0m\u001b[1;33m\u001b[0m\u001b[1;33m\u001b[0m\u001b[0m\n",
      "\u001b[1;32mD:\\ProgramData\\Anaconda3\\envs\\ml\\lib\\site-packages\\sklearn\\decomposition\\_fastica.py\u001b[0m in \u001b[0;36mfit_transform\u001b[1;34m(self, X, y)\u001b[0m\n\u001b[0;32m    658\u001b[0m             \u001b[0mestimated\u001b[0m \u001b[0munmixing\u001b[0m \u001b[0mmatrix\u001b[0m\u001b[1;33m.\u001b[0m\u001b[1;33m\u001b[0m\u001b[1;33m\u001b[0m\u001b[0m\n\u001b[0;32m    659\u001b[0m         \"\"\"\n\u001b[1;32m--> 660\u001b[1;33m         \u001b[1;32mreturn\u001b[0m \u001b[0mself\u001b[0m\u001b[1;33m.\u001b[0m\u001b[0m_fit\u001b[0m\u001b[1;33m(\u001b[0m\u001b[0mX\u001b[0m\u001b[1;33m,\u001b[0m \u001b[0mcompute_sources\u001b[0m\u001b[1;33m=\u001b[0m\u001b[1;32mTrue\u001b[0m\u001b[1;33m)\u001b[0m\u001b[1;33m\u001b[0m\u001b[1;33m\u001b[0m\u001b[0m\n\u001b[0m\u001b[0;32m    661\u001b[0m \u001b[1;33m\u001b[0m\u001b[0m\n\u001b[0;32m    662\u001b[0m     \u001b[1;32mdef\u001b[0m \u001b[0mfit\u001b[0m\u001b[1;33m(\u001b[0m\u001b[0mself\u001b[0m\u001b[1;33m,\u001b[0m \u001b[0mX\u001b[0m\u001b[1;33m,\u001b[0m \u001b[0my\u001b[0m\u001b[1;33m=\u001b[0m\u001b[1;32mNone\u001b[0m\u001b[1;33m)\u001b[0m\u001b[1;33m:\u001b[0m\u001b[1;33m\u001b[0m\u001b[1;33m\u001b[0m\u001b[0m\n",
      "\u001b[1;32mD:\\ProgramData\\Anaconda3\\envs\\ml\\lib\\site-packages\\sklearn\\decomposition\\_fastica.py\u001b[0m in \u001b[0;36m_fit\u001b[1;34m(self, X, compute_sources)\u001b[0m\n\u001b[0;32m    561\u001b[0m \u001b[1;33m\u001b[0m\u001b[0m\n\u001b[0;32m    562\u001b[0m             \u001b[1;32mdel\u001b[0m \u001b[0m_\u001b[0m\u001b[1;33m\u001b[0m\u001b[1;33m\u001b[0m\u001b[0m\n\u001b[1;32m--> 563\u001b[1;33m             \u001b[0mK\u001b[0m \u001b[1;33m=\u001b[0m \u001b[1;33m(\u001b[0m\u001b[0mu\u001b[0m \u001b[1;33m/\u001b[0m \u001b[0md\u001b[0m\u001b[1;33m)\u001b[0m\u001b[1;33m.\u001b[0m\u001b[0mT\u001b[0m\u001b[1;33m[\u001b[0m\u001b[1;33m:\u001b[0m\u001b[0mn_components\u001b[0m\u001b[1;33m]\u001b[0m  \u001b[1;31m# see (6.33) p.140\u001b[0m\u001b[1;33m\u001b[0m\u001b[1;33m\u001b[0m\u001b[0m\n\u001b[0m\u001b[0;32m    564\u001b[0m             \u001b[1;32mdel\u001b[0m \u001b[0mu\u001b[0m\u001b[1;33m,\u001b[0m \u001b[0md\u001b[0m\u001b[1;33m\u001b[0m\u001b[1;33m\u001b[0m\u001b[0m\n\u001b[0;32m    565\u001b[0m             \u001b[0mX1\u001b[0m \u001b[1;33m=\u001b[0m \u001b[0mnp\u001b[0m\u001b[1;33m.\u001b[0m\u001b[0mdot\u001b[0m\u001b[1;33m(\u001b[0m\u001b[0mK\u001b[0m\u001b[1;33m,\u001b[0m \u001b[0mXT\u001b[0m\u001b[1;33m)\u001b[0m\u001b[1;33m\u001b[0m\u001b[1;33m\u001b[0m\u001b[0m\n",
      "\u001b[1;31mKeyboardInterrupt\u001b[0m: "
     ]
    }
   ],
   "source": [
    "labels_ica = []\n",
    "for iteCom in range(1,50):\n",
    "    t.tic()\n",
    "    ICA = FastICA(n_components=iteCom,max_iter=1000, random_state = 19830526)\n",
    "    corpus_ica=ICA.fit_transform(corpus)        \n",
    "    t.toc(\"ICA calibration for \"+str(iteCom)+\" components took \")\n",
    "    for ite in range(1,20):\n",
    "        t.tic()\n",
    "        gm_label_ica = GaussianMixture(n_components=ite, random_state=19830526).fit_predict(corpus_ica)         \n",
    "        labels_ica.append(gm_label_ica)\n",
    "        taux = t.tocvalue()\n",
    "        print(\"ICA with \"+str(iteCom)+\" features and \"+str(ite)+\" clusters took to run \" + str(taux))\n",
    "        new_row = pd.DataFrame([[\"ICA\",iteCom,ite,homogeneity_score(label_real, gm_label_ica),taux]],columns=[\"Algorithm\",\"Components\",\"Clusters\",\"Homogeneity\",\"Time\"])\n",
    "        homogeneity_sol = pd.concat([homogeneity_sol,new_row])"
   ]
  },
  {
   "cell_type": "code",
   "execution_count": 22,
   "id": "2a10d64c",
   "metadata": {},
   "outputs": [
    {
     "name": "stdout",
     "output_type": "stream",
     "text": [
      "(11702, 10039)\n",
      "11702\n"
     ]
    }
   ],
   "source": [
    "print(corpus.shape)\n",
    "print(len(label_real))"
   ]
  },
  {
   "cell_type": "code",
   "execution_count": 23,
   "id": "246440ee",
   "metadata": {},
   "outputs": [],
   "source": [
    "homogeneity_sol.to_csv(\"BagOfWordsClusteringResultsEM_ICA.csv\")"
   ]
  },
  {
   "cell_type": "code",
   "execution_count": 25,
   "id": "22e7bc38",
   "metadata": {},
   "outputs": [],
   "source": [
    "df_ica = pd.DataFrame(labels_ica, columns=corpus.index).T\n",
    "df_ica.to_csv(\"icaEM2.csv\")\n"
   ]
  },
  {
   "cell_type": "code",
   "execution_count": null,
   "id": "34c04d54",
   "metadata": {},
   "outputs": [],
   "source": []
  },
  {
   "cell_type": "code",
   "execution_count": null,
   "id": "cd900fd9",
   "metadata": {},
   "outputs": [],
   "source": []
  },
  {
   "cell_type": "code",
   "execution_count": null,
   "id": "82cba129",
   "metadata": {},
   "outputs": [],
   "source": []
  },
  {
   "cell_type": "code",
   "execution_count": null,
   "id": "73b6ab0e",
   "metadata": {},
   "outputs": [],
   "source": []
  }
 ],
 "metadata": {
  "kernelspec": {
   "display_name": "Python 3 (ipykernel)",
   "language": "python",
   "name": "python3"
  },
  "language_info": {
   "codemirror_mode": {
    "name": "ipython",
    "version": 3
   },
   "file_extension": ".py",
   "mimetype": "text/x-python",
   "name": "python",
   "nbconvert_exporter": "python",
   "pygments_lexer": "ipython3",
   "version": "3.8.13"
  }
 },
 "nbformat": 4,
 "nbformat_minor": 5
}
