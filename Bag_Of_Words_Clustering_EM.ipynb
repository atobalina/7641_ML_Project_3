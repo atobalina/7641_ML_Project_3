{
 "cells": [
  {
   "cell_type": "code",
   "execution_count": 1,
   "id": "fcd8f5ca",
   "metadata": {},
   "outputs": [],
   "source": [
    "from sklearn.decomposition import PCA\n",
    "from sklearn.decomposition import FastICA\n",
    "from sklearn import random_projection\n",
    "from sklearn.discriminant_analysis import LinearDiscriminantAnalysis\n",
    "from sklearn.metrics import homogeneity_score\n",
    "from sklearn.mixture import GaussianMixture\n",
    "from collections import Counter\n",
    "import pandas as pd\n",
    "import numpy as np\n",
    "import random\n",
    "from pytictoc import TicToc\n",
    "t = TicToc()"
   ]
  },
  {
   "cell_type": "code",
   "execution_count": 2,
   "id": "71543268",
   "metadata": {},
   "outputs": [
    {
     "data": {
      "text/plain": [
       "(102660, 2)"
      ]
     },
     "execution_count": 2,
     "metadata": {},
     "output_type": "execute_result"
    }
   ],
   "source": [
    "vocabulary = pd.read_csv(\"vocab.nytimes.csv\",header=None,names=['ID','WORD'] )\n",
    "vocabulary.shape"
   ]
  },
  {
   "cell_type": "code",
   "execution_count": 3,
   "id": "e8d03576",
   "metadata": {},
   "outputs": [
    {
     "name": "stderr",
     "output_type": "stream",
     "text": [
      "C:\\Users\\Alvaro\\AppData\\Local\\Temp\\ipykernel_14392\\417027552.py:3: SettingWithCopyWarning: \n",
      "A value is trying to be set on a copy of a slice from a DataFrame\n",
      "\n",
      "See the caveats in the documentation: https://pandas.pydata.org/pandas-docs/stable/user_guide/indexing.html#returning-a-view-versus-a-copy\n",
      "  vocabulary[\"WORD\"][ite] = aux_word[4:]\n"
     ]
    }
   ],
   "source": [
    "for ite in range(44442,vocabulary.shape[0]):\n",
    "    aux_word = vocabulary[\"WORD\"][ite]\n",
    "    vocabulary[\"WORD\"][ite] = aux_word[4:]"
   ]
  },
  {
   "cell_type": "code",
   "execution_count": 4,
   "id": "b40d821c",
   "metadata": {},
   "outputs": [],
   "source": [
    "#vocabulary = vocabulary[~vocabulary['WORD'].str.contains('_', na=False, regex=False)]"
   ]
  },
  {
   "cell_type": "code",
   "execution_count": 5,
   "id": "88ca089d",
   "metadata": {},
   "outputs": [
    {
     "data": {
      "text/plain": [
       "(102660, 2)"
      ]
     },
     "execution_count": 5,
     "metadata": {},
     "output_type": "execute_result"
    }
   ],
   "source": [
    "vocabulary.shape"
   ]
  },
  {
   "cell_type": "code",
   "execution_count": 6,
   "id": "98a6d5b9",
   "metadata": {},
   "outputs": [],
   "source": [
    "corpus = pd.read_csv(\"docword.nytimes.txt\",header=None,names=['ARTICLE','WORD','OBSERVATIONS'],sep=' ' )"
   ]
  },
  {
   "cell_type": "code",
   "execution_count": 7,
   "id": "fc8904ef",
   "metadata": {},
   "outputs": [
    {
     "data": {
      "text/plain": [
       "(69679427, 3)"
      ]
     },
     "execution_count": 7,
     "metadata": {},
     "output_type": "execute_result"
    }
   ],
   "source": [
    "random.seed(19830526)\n",
    "corpus.shape"
   ]
  },
  {
   "cell_type": "code",
   "execution_count": 8,
   "id": "368f59b6",
   "metadata": {},
   "outputs": [
    {
     "name": "stdout",
     "output_type": "stream",
     "text": [
      "123418\n"
     ]
    },
    {
     "data": {
      "text/plain": [
       "[7886,\n",
       " 10185,\n",
       " 32801,\n",
       " 32842,\n",
       " 35020,\n",
       " 35021,\n",
       " 55369,\n",
       " 58011,\n",
       " 88569,\n",
       " 88587,\n",
       " 92424,\n",
       " 92479]"
      ]
     },
     "execution_count": 8,
     "metadata": {},
     "output_type": "execute_result"
    }
   ],
   "source": [
    "basePoliticsWords = ['republican','democratic','senate','congress','senator','representative']\n",
    "basePoliticsWordsIDs = vocabulary['ID'][vocabulary['WORD'].isin(basePoliticsWords)].values.tolist()\n",
    "articlesPolitics = corpus['ARTICLE'][corpus['WORD'].isin(basePoliticsWordsIDs)].values.tolist()\n",
    "print(len(articlesPolitics))\n",
    "selectedPolitics = random.sample(articlesPolitics,2000)\n",
    "basePoliticsWordsIDs"
   ]
  },
  {
   "cell_type": "code",
   "execution_count": 9,
   "id": "808045d3",
   "metadata": {},
   "outputs": [
    {
     "name": "stdout",
     "output_type": "stream",
     "text": [
      "115066\n"
     ]
    },
    {
     "data": {
      "text/plain": [
       "[6101, 7518, 25453, 29176, 34560, 37194, 53285, 55276, 81367, 91809]"
      ]
     },
     "execution_count": 9,
     "metadata": {},
     "output_type": "execute_result"
    }
   ],
   "source": [
    "baseSportWords = ['sport','player','score','competition','championship','mvp']\n",
    "baseSportWordsIDs = vocabulary['ID'][vocabulary['WORD'].isin(baseSportWords)].values.tolist()\n",
    "articlesSports = corpus['ARTICLE'][corpus['WORD'].isin(baseSportWordsIDs)].values.tolist()\n",
    "print(len(articlesSports))\n",
    "selectedSports = random.sample(articlesSports,2000)\n",
    "baseSportWordsIDs"
   ]
  },
  {
   "cell_type": "code",
   "execution_count": 10,
   "id": "3c84c3cf",
   "metadata": {},
   "outputs": [
    {
     "name": "stdout",
     "output_type": "stream",
     "text": [
      "90905\n"
     ]
    },
    {
     "data": {
      "text/plain": [
       "[4723, 17861, 23359, 51396, 66202, 77181, 82350, 82418]"
      ]
     },
     "execution_count": 10,
     "metadata": {},
     "output_type": "execute_result"
    }
   ],
   "source": [
    "baseNYWords = ['new_york','manhattan','queens','harlem','brooklyn','new_jersey']\n",
    "baseNYWordsIDs = vocabulary['ID'][vocabulary['WORD'].isin(baseNYWords)].values.tolist()\n",
    "articlesNY = corpus['ARTICLE'][corpus['WORD'].isin(baseNYWordsIDs)].values.tolist()\n",
    "print(len(articlesNY))\n",
    "selectedNY = random.sample(articlesNY,2000)\n",
    "baseNYWordsIDs"
   ]
  },
  {
   "cell_type": "code",
   "execution_count": 11,
   "id": "f3029a23",
   "metadata": {},
   "outputs": [
    {
     "name": "stdout",
     "output_type": "stream",
     "text": [
      "31652\n"
     ]
    },
    {
     "data": {
      "text/plain": [
       "[6826, 19013, 31357, 36511, 37873, 39515, 54738, 67855, 87645, 95253]"
      ]
     },
     "execution_count": 11,
     "metadata": {},
     "output_type": "execute_result"
    }
   ],
   "source": [
    "baseClimateWords = ['climate','hurricane','storm','temperature','snow','rain']\n",
    "baseClimateWordsIDs = vocabulary['ID'][vocabulary['WORD'].isin(baseClimateWords)].values.tolist()\n",
    "articlesClimate = corpus['ARTICLE'][corpus['WORD'].isin(baseClimateWordsIDs)].values.tolist()\n",
    "print(len(articlesClimate))\n",
    "selectedClimate = random.sample(articlesClimate,2000)\n",
    "baseClimateWordsIDs"
   ]
  },
  {
   "cell_type": "code",
   "execution_count": 12,
   "id": "62385503",
   "metadata": {},
   "outputs": [
    {
     "name": "stdout",
     "output_type": "stream",
     "text": [
      "141960\n"
     ]
    },
    {
     "data": {
      "text/plain": [
       "[17033, 22130, 34498, 38097, 39341, 41880, 65170, 95365, 96227, 99200]"
      ]
     },
     "execution_count": 12,
     "metadata": {},
     "output_type": "execute_result"
    }
   ],
   "source": [
    "baseEducationWords = ['university','graduate','student','school','teacher','learning']\n",
    "baseEducationWordsIDs = vocabulary['ID'][vocabulary['WORD'].isin(baseEducationWords)].values.tolist()\n",
    "articlesEducation = corpus['ARTICLE'][corpus['WORD'].isin(baseEducationWordsIDs)].values.tolist()\n",
    "print(len(articlesEducation))\n",
    "selectedEducation = random.sample(articlesEducation,2000)\n",
    "baseEducationWordsIDs"
   ]
  },
  {
   "cell_type": "code",
   "execution_count": 13,
   "id": "c5911ee3",
   "metadata": {},
   "outputs": [
    {
     "name": "stdout",
     "output_type": "stream",
     "text": [
      "90350\n"
     ]
    },
    {
     "data": {
      "text/plain": [
       "[9422, 9602, 10811, 20570, 36639, 39398, 68584]"
      ]
     },
     "execution_count": 13,
     "metadata": {},
     "output_type": "execute_result"
    }
   ],
   "source": [
    "baseTechWords = ['software','internet','data','cybersecurity','technology','digital']\n",
    "baseTechWordsIDs = vocabulary['ID'][vocabulary['WORD'].isin(baseTechWords)].values.tolist()\n",
    "articlesTech = corpus['ARTICLE'][corpus['WORD'].isin(baseTechWordsIDs)].values.tolist()\n",
    "print(len(articlesTech))\n",
    "selectedTech = random.sample(articlesTech,2000)\n",
    "baseTechWordsIDs"
   ]
  },
  {
   "cell_type": "code",
   "execution_count": 14,
   "id": "4f169bc3",
   "metadata": {},
   "outputs": [
    {
     "name": "stdout",
     "output_type": "stream",
     "text": [
      "12000\n",
      "11413\n"
     ]
    },
    {
     "data": {
      "text/plain": [
       "(3216090, 3)"
      ]
     },
     "execution_count": 14,
     "metadata": {},
     "output_type": "execute_result"
    }
   ],
   "source": [
    "\n",
    "selectedArticles = selectedTech + selectedPolitics + selectedNY + selectedClimate + selectedEducation + selectedSports\n",
    "selectedWords = baseTechWordsIDs + basePoliticsWordsIDs + baseNYWordsIDs + baseClimateWordsIDs + baseEducationWordsIDs + baseSportWordsIDs\n",
    "print(len(selectedArticles))\n",
    "#selectedArticles = list(set(selectedArticles))\n",
    "#print(len(selectedArticles))\n",
    "eliminating=Counter(selectedArticles)\n",
    "selectedArticlesSplit = []\n",
    "for ite in eliminating:\n",
    "    if eliminating[ite] == 1:\n",
    "        selectedArticlesSplit.append(ite)\n",
    "print(len(selectedArticlesSplit))\n",
    "corpus = corpus[corpus['ARTICLE'].isin(selectedArticles)]\n",
    "#words_to_keep = vocabulary['ID'].tolist()\n",
    "#corpus = corpus[corpus['WORD'].isin(words_to_keep)]\n",
    "corpus.shape\n",
    "              "
   ]
  },
  {
   "cell_type": "code",
   "execution_count": 15,
   "id": "4c193171",
   "metadata": {},
   "outputs": [],
   "source": [
    "corpus = corpus.pivot(index='ARTICLE',columns='WORD',values='OBSERVATIONS')\n",
    "corpus = corpus.fillna(0)\n",
    "selectedWords = selectedWords + random.sample(corpus.columns.values.tolist(),10000)    \n",
    "eliminating=Counter(selectedWords)\n",
    "selectedWordsSplit = []\n",
    "for ite in eliminating:\n",
    "    if eliminating[ite] == 1:\n",
    "        selectedWordsSplit.append(ite)"
   ]
  },
  {
   "cell_type": "code",
   "execution_count": 16,
   "id": "65e395b3",
   "metadata": {},
   "outputs": [
    {
     "name": "stdout",
     "output_type": "stream",
     "text": [
      "(11702, 80879)\n",
      "10039\n",
      "(11702, 10039)\n"
     ]
    }
   ],
   "source": [
    "print(corpus.shape)\n",
    "#corpus = corpus.loc[:, (corpus != 0).any(axis=0)]\n",
    "print(len(selectedWordsSplit))\n",
    "corpus = corpus[selectedWordsSplit]\n",
    "print(corpus.shape)"
   ]
  },
  {
   "cell_type": "code",
   "execution_count": 17,
   "id": "b3e6b0c1",
   "metadata": {},
   "outputs": [],
   "source": [
    "\n",
    "label_real = []\n",
    "for row in corpus.index:\n",
    "    if row in selectedPolitics:\n",
    "        label_real.append(0)\n",
    "    elif row in selectedTech:\n",
    "        label_real.append(1)\n",
    "    elif row in selectedEducation:\n",
    "        label_real.append(2)\n",
    "    elif row in selectedNY:\n",
    "        label_real.append(3)\n",
    "    elif row in selectedClimate:\n",
    "        label_real.append(4)\n",
    "    elif row in selectedSports:\n",
    "        label_real.append(5)"
   ]
  },
  {
   "cell_type": "code",
   "execution_count": 18,
   "id": "26c61115",
   "metadata": {},
   "outputs": [
    {
     "data": {
      "text/html": [
       "<div>\n",
       "<style scoped>\n",
       "    .dataframe tbody tr th:only-of-type {\n",
       "        vertical-align: middle;\n",
       "    }\n",
       "\n",
       "    .dataframe tbody tr th {\n",
       "        vertical-align: top;\n",
       "    }\n",
       "\n",
       "    .dataframe thead th {\n",
       "        text-align: right;\n",
       "    }\n",
       "</style>\n",
       "<table border=\"1\" class=\"dataframe\">\n",
       "  <thead>\n",
       "    <tr style=\"text-align: right;\">\n",
       "      <th></th>\n",
       "      <th>Algorithm</th>\n",
       "      <th>Components</th>\n",
       "      <th>Clusters</th>\n",
       "      <th>Homogeneity</th>\n",
       "      <th>Time</th>\n",
       "    </tr>\n",
       "  </thead>\n",
       "  <tbody>\n",
       "    <tr>\n",
       "      <th>0</th>\n",
       "      <td>Test</td>\n",
       "      <td>0</td>\n",
       "      <td>0</td>\n",
       "      <td>0.0</td>\n",
       "      <td>0.0</td>\n",
       "    </tr>\n",
       "  </tbody>\n",
       "</table>\n",
       "</div>"
      ],
      "text/plain": [
       "  Algorithm  Components  Clusters  Homogeneity  Time\n",
       "0      Test           0         0          0.0   0.0"
      ]
     },
     "execution_count": 18,
     "metadata": {},
     "output_type": "execute_result"
    }
   ],
   "source": [
    "homogeneity_sol = pd.DataFrame([['Test',0,0,0.000,0.000]],columns=[\"Algorithm\",\"Components\",\"Clusters\",\"Homogeneity\",\"Time\"])\n",
    "homogeneity_sol"
   ]
  },
  {
   "cell_type": "code",
   "execution_count": 19,
   "id": "3ae575a3",
   "metadata": {},
   "outputs": [],
   "source": [
    "corpus = corpus.fillna(0)\n",
    "corpus[corpus > 1] = 1\n",
    "#columnas = list(corpus.columns)\n",
    "#columnas_words = vocabulary[\"ID\"]=\n",
    "\n",
    "    "
   ]
  },
  {
   "cell_type": "code",
   "execution_count": 20,
   "id": "a1cfd36a",
   "metadata": {},
   "outputs": [
    {
     "name": "stdout",
     "output_type": "stream",
     "text": [
      "PCA Calibration with 200 components 42.127945 seconds.\n"
     ]
    }
   ],
   "source": [
    "t.tic()\n",
    "pca = PCA(n_components=100, random_state = 19830526)\n",
    "pca.fit(corpus)\n",
    "t.toc('PCA Calibration with 200 components')"
   ]
  },
  {
   "cell_type": "code",
   "execution_count": 21,
   "id": "99f62d9d",
   "metadata": {},
   "outputs": [
    {
     "data": {
      "text/plain": [
       "array([0.02092258, 0.03647718, 0.04927263, 0.05800725, 0.06648504,\n",
       "       0.07362777, 0.08049479, 0.08677015, 0.09289918, 0.0988467 ,\n",
       "       0.10441486, 0.10981384, 0.11517325, 0.12044074, 0.12560554,\n",
       "       0.13067592, 0.13555163, 0.14026628, 0.14496009, 0.14949293,\n",
       "       0.1539507 , 0.15830466, 0.16252634, 0.16672376, 0.17076541,\n",
       "       0.17479284, 0.17872025, 0.18263653, 0.18642002, 0.19009205,\n",
       "       0.19375883, 0.19733089, 0.20087192, 0.20431493, 0.2077308 ,\n",
       "       0.21107794, 0.21439909, 0.21768218, 0.22093654, 0.22413086,\n",
       "       0.22730047, 0.23043201, 0.23353029, 0.23659592, 0.23962298,\n",
       "       0.24263722, 0.24562125, 0.24856243, 0.25148809, 0.25440066,\n",
       "       0.25727584, 0.26012923, 0.26295331, 0.26576077, 0.26855491,\n",
       "       0.2713003 , 0.27402115, 0.27670981, 0.27937382, 0.28201933,\n",
       "       0.28461518, 0.2872082 , 0.28978526, 0.29235098, 0.29489191,\n",
       "       0.29742531, 0.29990251, 0.30234589, 0.30476601, 0.30717449,\n",
       "       0.30957227, 0.31193908, 0.31428174, 0.31660059, 0.31887516,\n",
       "       0.3211263 , 0.32336459, 0.32559389, 0.32780888, 0.3299984 ,\n",
       "       0.33217225, 0.33432764, 0.33646999, 0.33859852, 0.34069255,\n",
       "       0.34277457, 0.34484547, 0.34689646, 0.34892616, 0.35094007,\n",
       "       0.35294897, 0.35494844, 0.35692047, 0.35887932, 0.36080952,\n",
       "       0.36271295, 0.36460917, 0.36649301, 0.36836494, 0.37021565])"
      ]
     },
     "execution_count": 21,
     "metadata": {},
     "output_type": "execute_result"
    }
   ],
   "source": [
    "np.cumsum(pca.explained_variance_ratio_)"
   ]
  },
  {
   "cell_type": "code",
   "execution_count": 22,
   "id": "3e65f6a0",
   "metadata": {},
   "outputs": [
    {
     "data": {
      "text/plain": [
       "0.3702156481176338"
      ]
     },
     "execution_count": 22,
     "metadata": {},
     "output_type": "execute_result"
    }
   ],
   "source": [
    "sum(pca.explained_variance_ratio_)"
   ]
  },
  {
   "cell_type": "code",
   "execution_count": 23,
   "id": "f26b40d6",
   "metadata": {},
   "outputs": [
    {
     "name": "stdout",
     "output_type": "stream",
     "text": [
      "PCA transform took 4.034193 seconds.\n"
     ]
    }
   ],
   "source": [
    "t.tic()\n",
    "corpus_pca = pca.transform(corpus)\n",
    "t.toc('PCA transform took')"
   ]
  },
  {
   "cell_type": "code",
   "execution_count": 24,
   "id": "b03434df",
   "metadata": {},
   "outputs": [
    {
     "name": "stdout",
     "output_type": "stream",
     "text": [
      "PCA with 1 features and 1 clusters took to run 3.008301000000017\n",
      "PCA with 2 features and 1 clusters took to run 0.1034273000000212\n",
      "PCA with 3 features and 1 clusters took to run 0.047482899999977235\n",
      "PCA with 4 features and 1 clusters took to run 0.044804199999987304\n",
      "PCA with 5 features and 1 clusters took to run 0.13142239999996264\n",
      "PCA with 6 features and 1 clusters took to run 0.14033009999997148\n",
      "PCA with 7 features and 1 clusters took to run 0.15876959999997098\n",
      "PCA with 8 features and 1 clusters took to run 0.14319389999997156\n",
      "PCA with 9 features and 1 clusters took to run 0.15982239999999592\n",
      "PCA with 10 features and 1 clusters took to run 0.14383989999998903\n",
      "PCA with 11 features and 1 clusters took to run 0.2141043000000309\n",
      "PCA with 12 features and 1 clusters took to run 0.21234650000002375\n",
      "PCA with 13 features and 1 clusters took to run 0.273255000000006\n",
      "PCA with 14 features and 1 clusters took to run 0.22404679999999644\n",
      "PCA with 15 features and 1 clusters took to run 0.24342150000001084\n",
      "PCA with 16 features and 1 clusters took to run 0.2367208000000005\n",
      "PCA with 17 features and 1 clusters took to run 0.22206500000004326\n",
      "PCA with 18 features and 1 clusters took to run 0.23948649999999816\n",
      "PCA with 19 features and 1 clusters took to run 0.30711639999998397\n",
      "PCA with 20 features and 1 clusters took to run 0.2714404999999829\n",
      "PCA with 21 features and 1 clusters took to run 0.2369724000000133\n",
      "PCA with 22 features and 1 clusters took to run 0.31094789999997374\n",
      "PCA with 23 features and 1 clusters took to run 0.3326880999999844\n",
      "PCA with 24 features and 1 clusters took to run 0.3582539999999881\n",
      "PCA with 25 features and 1 clusters took to run 0.3191107999999758\n",
      "PCA with 26 features and 1 clusters took to run 0.22989009999997734\n",
      "PCA with 27 features and 1 clusters took to run 0.30220090000000255\n",
      "PCA with 28 features and 1 clusters took to run 0.3077298999999698\n",
      "PCA with 29 features and 1 clusters took to run 0.2727464000000168\n",
      "PCA with 30 features and 1 clusters took to run 0.3459841000000097\n",
      "PCA with 31 features and 1 clusters took to run 0.36834720000001653\n",
      "PCA with 32 features and 1 clusters took to run 0.3045494999999505\n",
      "PCA with 33 features and 1 clusters took to run 0.28551419999996597\n",
      "PCA with 34 features and 1 clusters took to run 0.34492349999999306\n",
      "PCA with 35 features and 1 clusters took to run 0.3239787999999635\n",
      "PCA with 36 features and 1 clusters took to run 0.32576820000002726\n",
      "PCA with 37 features and 1 clusters took to run 0.36583079999996926\n",
      "PCA with 38 features and 1 clusters took to run 0.3124503999999888\n",
      "PCA with 39 features and 1 clusters took to run 0.3985646999999517\n",
      "PCA with 40 features and 1 clusters took to run 0.4965227999999797\n",
      "PCA with 41 features and 1 clusters took to run 0.423093300000005\n",
      "PCA with 42 features and 1 clusters took to run 0.4221047999999996\n",
      "PCA with 43 features and 1 clusters took to run 0.34234050000003435\n",
      "PCA with 44 features and 1 clusters took to run 0.4322857999999883\n",
      "PCA with 45 features and 1 clusters took to run 0.3991039999999657\n",
      "PCA with 46 features and 1 clusters took to run 0.44326950000004217\n",
      "PCA with 47 features and 1 clusters took to run 0.4009999000000448\n",
      "PCA with 48 features and 1 clusters took to run 0.40629510000002256\n",
      "PCA with 49 features and 1 clusters took to run 0.550164499999994\n",
      "PCA with 1 features and 2 clusters took to run 0.14030479999996714\n",
      "PCA with 2 features and 2 clusters took to run 0.2467505999999844\n",
      "PCA with 3 features and 2 clusters took to run 0.42468439999998964\n",
      "PCA with 4 features and 2 clusters took to run 0.36461229999997613\n",
      "PCA with 5 features and 2 clusters took to run 1.046500100000003\n",
      "PCA with 6 features and 2 clusters took to run 0.9351244000000065\n",
      "PCA with 7 features and 2 clusters took to run 0.9544841999999676\n",
      "PCA with 8 features and 2 clusters took to run 1.0763192000000004\n",
      "PCA with 9 features and 2 clusters took to run 0.8732624000000442\n",
      "PCA with 10 features and 2 clusters took to run 1.1220801000000051\n",
      "PCA with 11 features and 2 clusters took to run 1.4623996999999918\n",
      "PCA with 12 features and 2 clusters took to run 1.9674976000000015\n",
      "PCA with 13 features and 2 clusters took to run 2.3269122999999468\n",
      "PCA with 14 features and 2 clusters took to run 2.084289599999977\n",
      "PCA with 15 features and 2 clusters took to run 2.733157800000015\n",
      "PCA with 16 features and 2 clusters took to run 3.161336199999994\n",
      "PCA with 17 features and 2 clusters took to run 4.698592299999973\n",
      "PCA with 18 features and 2 clusters took to run 4.991878100000008\n",
      "PCA with 19 features and 2 clusters took to run 3.843524500000001\n",
      "PCA with 20 features and 2 clusters took to run 3.7916397999999845\n",
      "PCA with 21 features and 2 clusters took to run 3.4976813000000107\n",
      "PCA with 22 features and 2 clusters took to run 3.5020984000000226\n",
      "PCA with 23 features and 2 clusters took to run 3.6401932999999644\n",
      "PCA with 24 features and 2 clusters took to run 4.00901829999998\n",
      "PCA with 25 features and 2 clusters took to run 4.295623200000023\n",
      "PCA with 26 features and 2 clusters took to run 4.433044999999993\n",
      "PCA with 27 features and 2 clusters took to run 3.4996459999999843\n",
      "PCA with 28 features and 2 clusters took to run 5.02383679999997\n",
      "PCA with 29 features and 2 clusters took to run 3.7976469999999836\n",
      "PCA with 30 features and 2 clusters took to run 4.10895469999997\n",
      "PCA with 31 features and 2 clusters took to run 4.997630300000026\n",
      "PCA with 32 features and 2 clusters took to run 3.337003100000004\n",
      "PCA with 33 features and 2 clusters took to run 3.229519499999981\n",
      "PCA with 34 features and 2 clusters took to run 3.4056046000000038\n",
      "PCA with 35 features and 2 clusters took to run 3.801527099999987\n",
      "PCA with 36 features and 2 clusters took to run 3.837962300000015\n",
      "PCA with 37 features and 2 clusters took to run 4.216449600000033\n",
      "PCA with 38 features and 2 clusters took to run 4.4200468999999885\n",
      "PCA with 39 features and 2 clusters took to run 4.285345100000029\n",
      "PCA with 40 features and 2 clusters took to run 4.475423199999966\n",
      "PCA with 41 features and 2 clusters took to run 4.641372499999989\n",
      "PCA with 42 features and 2 clusters took to run 4.8888192\n",
      "PCA with 43 features and 2 clusters took to run 4.830706500000019\n",
      "PCA with 44 features and 2 clusters took to run 5.0776213000000325\n",
      "PCA with 45 features and 2 clusters took to run 5.123087200000043\n",
      "PCA with 46 features and 2 clusters took to run 5.709860099999958\n",
      "PCA with 47 features and 2 clusters took to run 4.66653580000002\n",
      "PCA with 48 features and 2 clusters took to run 5.277765400000021\n",
      "PCA with 49 features and 2 clusters took to run 5.2879751999999485\n",
      "PCA with 1 features and 3 clusters took to run 0.198242099999959\n",
      "PCA with 2 features and 3 clusters took to run 0.22752789999998413\n",
      "PCA with 3 features and 3 clusters took to run 0.3936648000000105\n",
      "PCA with 4 features and 3 clusters took to run 0.6304668999999876\n",
      "PCA with 5 features and 3 clusters took to run 0.9922140999999556\n",
      "PCA with 6 features and 3 clusters took to run 1.055974200000037\n",
      "PCA with 7 features and 3 clusters took to run 1.2008169000000066\n",
      "PCA with 8 features and 3 clusters took to run 1.732674099999997\n",
      "PCA with 9 features and 3 clusters took to run 1.6363816999999585\n",
      "PCA with 10 features and 3 clusters took to run 1.7606662999999685\n",
      "PCA with 11 features and 3 clusters took to run 2.2144825999999966\n",
      "PCA with 12 features and 3 clusters took to run 3.060051700000031\n",
      "PCA with 13 features and 3 clusters took to run 2.5508078999999952\n",
      "PCA with 14 features and 3 clusters took to run 2.5021377999999572\n",
      "PCA with 15 features and 3 clusters took to run 2.6002755000000093\n",
      "PCA with 16 features and 3 clusters took to run 2.762740699999995\n",
      "PCA with 17 features and 3 clusters took to run 3.001991999999973\n",
      "PCA with 18 features and 3 clusters took to run 2.445569199999966\n",
      "PCA with 19 features and 3 clusters took to run 2.765860700000019\n",
      "PCA with 20 features and 3 clusters took to run 3.0327320999999756\n",
      "PCA with 21 features and 3 clusters took to run 3.4909880999999814\n",
      "PCA with 22 features and 3 clusters took to run 3.66652380000005\n",
      "PCA with 23 features and 3 clusters took to run 3.3258948999999802\n",
      "PCA with 24 features and 3 clusters took to run 3.3880455999999413\n",
      "PCA with 25 features and 3 clusters took to run 4.250254499999983\n",
      "PCA with 26 features and 3 clusters took to run 2.7159710999999334\n"
     ]
    },
    {
     "name": "stdout",
     "output_type": "stream",
     "text": [
      "PCA with 27 features and 3 clusters took to run 2.4300708999999188\n",
      "PCA with 28 features and 3 clusters took to run 3.579289900000049\n",
      "PCA with 29 features and 3 clusters took to run 3.531221500000015\n",
      "PCA with 30 features and 3 clusters took to run 3.3813966000000164\n",
      "PCA with 31 features and 3 clusters took to run 3.933339499999988\n",
      "PCA with 32 features and 3 clusters took to run 4.404221000000007\n",
      "PCA with 33 features and 3 clusters took to run 5.18155969999998\n",
      "PCA with 34 features and 3 clusters took to run 3.965900599999941\n",
      "PCA with 35 features and 3 clusters took to run 4.205614300000093\n",
      "PCA with 36 features and 3 clusters took to run 5.099407000000042\n",
      "PCA with 37 features and 3 clusters took to run 5.788037900000063\n",
      "PCA with 38 features and 3 clusters took to run 3.4012974999999415\n",
      "PCA with 39 features and 3 clusters took to run 4.88760000000002\n",
      "PCA with 40 features and 3 clusters took to run 4.47253969999997\n",
      "PCA with 41 features and 3 clusters took to run 3.663464299999987\n",
      "PCA with 42 features and 3 clusters took to run 3.191863000000012\n",
      "PCA with 43 features and 3 clusters took to run 3.140924199999972\n",
      "PCA with 44 features and 3 clusters took to run 3.0827635000000555\n",
      "PCA with 45 features and 3 clusters took to run 3.220411600000034\n",
      "PCA with 46 features and 3 clusters took to run 3.0041724999999815\n",
      "PCA with 47 features and 3 clusters took to run 2.941742199999908\n",
      "PCA with 48 features and 3 clusters took to run 2.523948300000029\n",
      "PCA with 49 features and 3 clusters took to run 2.6829363000000512\n",
      "PCA with 1 features and 4 clusters took to run 0.05940540000005967\n",
      "PCA with 2 features and 4 clusters took to run 0.11999279999997725\n",
      "PCA with 3 features and 4 clusters took to run 0.13539859999991677\n",
      "PCA with 4 features and 4 clusters took to run 0.2196815999999444\n",
      "PCA with 5 features and 4 clusters took to run 0.2535401999999749\n",
      "PCA with 6 features and 4 clusters took to run 0.29126270000006116\n",
      "PCA with 7 features and 4 clusters took to run 0.25458960000003117\n",
      "PCA with 8 features and 4 clusters took to run 0.5009633999999323\n",
      "PCA with 9 features and 4 clusters took to run 0.603347900000017\n",
      "PCA with 10 features and 4 clusters took to run 0.5733539000000292\n",
      "PCA with 11 features and 4 clusters took to run 0.3263509000000795\n",
      "PCA with 12 features and 4 clusters took to run 1.136804600000005\n",
      "PCA with 13 features and 4 clusters took to run 0.6183905999999979\n",
      "PCA with 14 features and 4 clusters took to run 1.4010898999999881\n",
      "PCA with 15 features and 4 clusters took to run 0.7200680999999349\n",
      "PCA with 16 features and 4 clusters took to run 0.8192814000000226\n",
      "PCA with 17 features and 4 clusters took to run 1.0665753999999197\n",
      "PCA with 18 features and 4 clusters took to run 5.6157044999999925\n",
      "PCA with 19 features and 4 clusters took to run 0.938624300000015\n",
      "PCA with 20 features and 4 clusters took to run 0.8773365999999214\n",
      "PCA with 21 features and 4 clusters took to run 2.09850090000009\n",
      "PCA with 22 features and 4 clusters took to run 2.381392400000095\n",
      "PCA with 23 features and 4 clusters took to run 3.4782546999999795\n",
      "PCA with 24 features and 4 clusters took to run 2.977935000000002\n",
      "PCA with 25 features and 4 clusters took to run 5.434216799999945\n",
      "PCA with 26 features and 4 clusters took to run 4.273858000000018\n",
      "PCA with 27 features and 4 clusters took to run 4.217964599999959\n",
      "PCA with 28 features and 4 clusters took to run 6.55781079999997\n",
      "PCA with 29 features and 4 clusters took to run 5.751675999999975\n",
      "PCA with 30 features and 4 clusters took to run 6.103325899999959\n",
      "PCA with 31 features and 4 clusters took to run 4.232909599999971\n",
      "PCA with 32 features and 4 clusters took to run 8.076418999999987\n",
      "PCA with 33 features and 4 clusters took to run 6.72997010000006\n",
      "PCA with 34 features and 4 clusters took to run 7.616499200000021\n",
      "PCA with 35 features and 4 clusters took to run 9.179167499999949\n",
      "PCA with 36 features and 4 clusters took to run 4.545935999999983\n",
      "PCA with 37 features and 4 clusters took to run 9.30845839999995\n",
      "PCA with 38 features and 4 clusters took to run 2.714608999999996\n",
      "PCA with 39 features and 4 clusters took to run 1.623142600000051\n",
      "PCA with 40 features and 4 clusters took to run 1.7742502999999488\n",
      "PCA with 41 features and 4 clusters took to run 1.340345999999954\n",
      "PCA with 42 features and 4 clusters took to run 1.3224834999999757\n",
      "PCA with 43 features and 4 clusters took to run 1.4596195999999964\n",
      "PCA with 44 features and 4 clusters took to run 1.383720100000005\n",
      "PCA with 45 features and 4 clusters took to run 9.802534400000013\n",
      "PCA with 46 features and 4 clusters took to run 10.55186279999998\n",
      "PCA with 47 features and 4 clusters took to run 9.639420100000052\n",
      "PCA with 48 features and 4 clusters took to run 12.789521300000047\n",
      "PCA with 49 features and 4 clusters took to run 9.990683399999966\n",
      "PCA with 1 features and 5 clusters took to run 0.1523588000000018\n",
      "PCA with 2 features and 5 clusters took to run 0.50315379999995\n",
      "PCA with 3 features and 5 clusters took to run 0.8050718000000643\n",
      "PCA with 4 features and 5 clusters took to run 1.0580834000001005\n",
      "PCA with 5 features and 5 clusters took to run 3.3926673999999366\n",
      "PCA with 6 features and 5 clusters took to run 4.681958500000064\n",
      "PCA with 7 features and 5 clusters took to run 3.0025887000000466\n",
      "PCA with 8 features and 5 clusters took to run 4.976221900000041\n",
      "PCA with 9 features and 5 clusters took to run 4.5239725000000135\n",
      "PCA with 10 features and 5 clusters took to run 6.886207300000024\n",
      "PCA with 11 features and 5 clusters took to run 7.472758899999917\n",
      "PCA with 12 features and 5 clusters took to run 11.32348109999998\n",
      "PCA with 13 features and 5 clusters took to run 9.06986649999999\n",
      "PCA with 14 features and 5 clusters took to run 7.319153700000015\n",
      "PCA with 15 features and 5 clusters took to run 10.985308199999963\n",
      "PCA with 16 features and 5 clusters took to run 9.704760599999986\n",
      "PCA with 17 features and 5 clusters took to run 6.681322200000068\n",
      "PCA with 18 features and 5 clusters took to run 13.874579499999982\n",
      "PCA with 19 features and 5 clusters took to run 9.151569699999982\n",
      "PCA with 20 features and 5 clusters took to run 7.353539000000069\n",
      "PCA with 21 features and 5 clusters took to run 8.05500649999999\n",
      "PCA with 22 features and 5 clusters took to run 6.750707899999952\n",
      "PCA with 23 features and 5 clusters took to run 7.146944200000007\n",
      "PCA with 24 features and 5 clusters took to run 10.770011400000044\n",
      "PCA with 25 features and 5 clusters took to run 9.616960100000028\n",
      "PCA with 26 features and 5 clusters took to run 11.24411669999995\n",
      "PCA with 27 features and 5 clusters took to run 9.061911099999975\n",
      "PCA with 28 features and 5 clusters took to run 7.829558999999904\n",
      "PCA with 29 features and 5 clusters took to run 7.94881410000005\n",
      "PCA with 30 features and 5 clusters took to run 11.096876100000031\n",
      "PCA with 31 features and 5 clusters took to run 9.111022300000059\n",
      "PCA with 32 features and 5 clusters took to run 10.139250899999865\n",
      "PCA with 33 features and 5 clusters took to run 7.420101400000021\n",
      "PCA with 34 features and 5 clusters took to run 7.238033800000039\n",
      "PCA with 35 features and 5 clusters took to run 11.088421000000153\n",
      "PCA with 36 features and 5 clusters took to run 7.945355399999926\n",
      "PCA with 37 features and 5 clusters took to run 8.628694199999927\n",
      "PCA with 38 features and 5 clusters took to run 9.925916700000016\n",
      "PCA with 39 features and 5 clusters took to run 9.275255600000037\n",
      "PCA with 40 features and 5 clusters took to run 9.570193999999901\n",
      "PCA with 41 features and 5 clusters took to run 9.713112200000069\n",
      "PCA with 42 features and 5 clusters took to run 6.807841999999937\n",
      "PCA with 43 features and 5 clusters took to run 4.251159599999937\n",
      "PCA with 44 features and 5 clusters took to run 2.5820396999999957\n",
      "PCA with 45 features and 5 clusters took to run 3.594616199999791\n",
      "PCA with 46 features and 5 clusters took to run 2.878708799999913\n",
      "PCA with 47 features and 5 clusters took to run 7.397256299999981\n",
      "PCA with 48 features and 5 clusters took to run 5.419314499999928\n",
      "PCA with 49 features and 5 clusters took to run 5.643176899999844\n",
      "PCA with 1 features and 6 clusters took to run 0.11533430000008593\n",
      "PCA with 2 features and 6 clusters took to run 0.23787450000008903\n",
      "PCA with 3 features and 6 clusters took to run 0.3412074999998822\n"
     ]
    },
    {
     "name": "stdout",
     "output_type": "stream",
     "text": [
      "PCA with 4 features and 6 clusters took to run 0.6041533000000072\n",
      "PCA with 5 features and 6 clusters took to run 1.3537802999999258\n",
      "PCA with 6 features and 6 clusters took to run 1.8718745999999555\n",
      "PCA with 7 features and 6 clusters took to run 1.2632023000001027\n",
      "PCA with 8 features and 6 clusters took to run 1.5574286000000939\n",
      "PCA with 9 features and 6 clusters took to run 2.7905848000000333\n",
      "PCA with 10 features and 6 clusters took to run 2.6762377000000015\n",
      "PCA with 11 features and 6 clusters took to run 3.015990299999885\n",
      "PCA with 12 features and 6 clusters took to run 4.895009599999867\n",
      "PCA with 13 features and 6 clusters took to run 6.769231499999933\n",
      "PCA with 14 features and 6 clusters took to run 6.47827570000004\n",
      "PCA with 15 features and 6 clusters took to run 3.938028000000031\n",
      "PCA with 16 features and 6 clusters took to run 9.963760999999977\n",
      "PCA with 17 features and 6 clusters took to run 8.561357900000075\n",
      "PCA with 18 features and 6 clusters took to run 5.440726300000051\n",
      "PCA with 19 features and 6 clusters took to run 5.293896099999984\n",
      "PCA with 20 features and 6 clusters took to run 11.35985629999982\n",
      "PCA with 21 features and 6 clusters took to run 2.1414704999999685\n",
      "PCA with 22 features and 6 clusters took to run 2.1527794000000995\n",
      "PCA with 23 features and 6 clusters took to run 2.5688118000000486\n",
      "PCA with 24 features and 6 clusters took to run 2.342900600000121\n",
      "PCA with 25 features and 6 clusters took to run 3.224341500000037\n",
      "PCA with 26 features and 6 clusters took to run 25.235122300000057\n",
      "PCA with 27 features and 6 clusters took to run 21.474105699999882\n",
      "PCA with 28 features and 6 clusters took to run 21.36273180000012\n",
      "PCA with 29 features and 6 clusters took to run 18.142103000000134\n",
      "PCA with 30 features and 6 clusters took to run 19.723248400000102\n",
      "PCA with 31 features and 6 clusters took to run 22.244345199999998\n",
      "PCA with 32 features and 6 clusters took to run 22.28596850000008\n",
      "PCA with 33 features and 6 clusters took to run 21.944573300000002\n",
      "PCA with 34 features and 6 clusters took to run 14.25504060000003\n",
      "PCA with 35 features and 6 clusters took to run 14.247963900000059\n",
      "PCA with 36 features and 6 clusters took to run 15.230840899999976\n",
      "PCA with 37 features and 6 clusters took to run 11.005936999999903\n",
      "PCA with 38 features and 6 clusters took to run 22.015538099999958\n",
      "PCA with 39 features and 6 clusters took to run 11.626433099999986\n",
      "PCA with 40 features and 6 clusters took to run 22.02805330000001\n",
      "PCA with 41 features and 6 clusters took to run 13.437999999999874\n",
      "PCA with 42 features and 6 clusters took to run 9.971641099999943\n",
      "PCA with 43 features and 6 clusters took to run 9.406781499999852\n",
      "PCA with 44 features and 6 clusters took to run 9.784469799999897\n",
      "PCA with 45 features and 6 clusters took to run 13.404855200000156\n",
      "PCA with 46 features and 6 clusters took to run 17.703415499999892\n",
      "PCA with 47 features and 6 clusters took to run 23.075047099999892\n",
      "PCA with 48 features and 6 clusters took to run 7.071187900000041\n",
      "PCA with 49 features and 6 clusters took to run 8.411548699999912\n",
      "PCA with 1 features and 7 clusters took to run 0.09215949999997974\n",
      "PCA with 2 features and 7 clusters took to run 0.15399399999978414\n",
      "PCA with 3 features and 7 clusters took to run 0.26425779999999577\n",
      "PCA with 4 features and 7 clusters took to run 0.37271480000003976\n",
      "PCA with 5 features and 7 clusters took to run 0.7140558000000965\n",
      "PCA with 6 features and 7 clusters took to run 0.9026564999999209\n",
      "PCA with 7 features and 7 clusters took to run 1.201656899999989\n",
      "PCA with 8 features and 7 clusters took to run 3.2212617000000137\n",
      "PCA with 9 features and 7 clusters took to run 2.1438166999998884\n",
      "PCA with 10 features and 7 clusters took to run 3.974225899999965\n",
      "PCA with 11 features and 7 clusters took to run 3.413386100000025\n",
      "PCA with 12 features and 7 clusters took to run 5.410551100000021\n",
      "PCA with 13 features and 7 clusters took to run 6.759359299999915\n",
      "PCA with 14 features and 7 clusters took to run 6.196657899999991\n",
      "PCA with 15 features and 7 clusters took to run 6.138678099999879\n",
      "PCA with 16 features and 7 clusters took to run 4.4278139000000465\n",
      "PCA with 17 features and 7 clusters took to run 7.947273300000006\n",
      "PCA with 18 features and 7 clusters took to run 5.5183806\n",
      "PCA with 19 features and 7 clusters took to run 7.716072299999951\n",
      "PCA with 20 features and 7 clusters took to run 8.103647199999841\n",
      "PCA with 21 features and 7 clusters took to run 6.930825099999993\n",
      "PCA with 22 features and 7 clusters took to run 8.120449699999881\n",
      "PCA with 23 features and 7 clusters took to run 2.084930699999859\n",
      "PCA with 24 features and 7 clusters took to run 3.0083585999998377\n",
      "PCA with 25 features and 7 clusters took to run 3.155853900000011\n",
      "PCA with 26 features and 7 clusters took to run 2.176242000000002\n",
      "PCA with 27 features and 7 clusters took to run 5.484291500000154\n",
      "PCA with 28 features and 7 clusters took to run 19.807097200000044\n",
      "PCA with 29 features and 7 clusters took to run 20.19424589999994\n",
      "PCA with 30 features and 7 clusters took to run 16.751721699999962\n",
      "PCA with 31 features and 7 clusters took to run 21.966564699999935\n",
      "PCA with 32 features and 7 clusters took to run 22.83457180000005\n",
      "PCA with 33 features and 7 clusters took to run 24.653135399999883\n",
      "PCA with 34 features and 7 clusters took to run 17.114985599999955\n",
      "PCA with 35 features and 7 clusters took to run 15.798293300000068\n",
      "PCA with 36 features and 7 clusters took to run 16.625847600000043\n",
      "PCA with 37 features and 7 clusters took to run 19.829524900000024\n",
      "PCA with 38 features and 7 clusters took to run 20.15645409999979\n",
      "PCA with 39 features and 7 clusters took to run 18.339029600000003\n",
      "PCA with 40 features and 7 clusters took to run 14.02544429999989\n",
      "PCA with 41 features and 7 clusters took to run 15.373567099999946\n",
      "PCA with 42 features and 7 clusters took to run 14.13650789999997\n",
      "PCA with 43 features and 7 clusters took to run 14.116372499999898\n",
      "PCA with 44 features and 7 clusters took to run 16.071121300000186\n",
      "PCA with 45 features and 7 clusters took to run 15.155473499999744\n",
      "PCA with 46 features and 7 clusters took to run 15.713040500000261\n",
      "PCA with 47 features and 7 clusters took to run 13.615012600000227\n",
      "PCA with 48 features and 7 clusters took to run 13.544030499999735\n",
      "PCA with 49 features and 7 clusters took to run 10.75662900000043\n",
      "PCA with 1 features and 8 clusters took to run 0.12498379999988174\n",
      "PCA with 2 features and 8 clusters took to run 0.1770596999999725\n",
      "PCA with 3 features and 8 clusters took to run 0.3071538999997756\n",
      "PCA with 4 features and 8 clusters took to run 0.2775685000001431\n",
      "PCA with 5 features and 8 clusters took to run 0.7786206999999195\n",
      "PCA with 6 features and 8 clusters took to run 0.5696219999999812\n",
      "PCA with 7 features and 8 clusters took to run 1.5386211000000003\n",
      "PCA with 8 features and 8 clusters took to run 1.7127458999998453\n",
      "PCA with 9 features and 8 clusters took to run 1.7729325999998764\n",
      "PCA with 10 features and 8 clusters took to run 1.0704594999997425\n",
      "PCA with 11 features and 8 clusters took to run 0.9920704999999543\n",
      "PCA with 12 features and 8 clusters took to run 5.602953300000081\n",
      "PCA with 13 features and 8 clusters took to run 1.5203041999998277\n",
      "PCA with 14 features and 8 clusters took to run 3.269542199999705\n",
      "PCA with 15 features and 8 clusters took to run 6.0304550999999265\n",
      "PCA with 16 features and 8 clusters took to run 4.754321400000208\n",
      "PCA with 17 features and 8 clusters took to run 6.765634599999885\n",
      "PCA with 18 features and 8 clusters took to run 6.640713600000254\n",
      "PCA with 19 features and 8 clusters took to run 7.269277400000192\n",
      "PCA with 20 features and 8 clusters took to run 9.645134599999892\n",
      "PCA with 21 features and 8 clusters took to run 9.38625359999969\n",
      "PCA with 22 features and 8 clusters took to run 13.468603200000416\n",
      "PCA with 23 features and 8 clusters took to run 13.397205799999938\n",
      "PCA with 24 features and 8 clusters took to run 10.863663000000088\n",
      "PCA with 25 features and 8 clusters took to run 5.084251200000381\n",
      "PCA with 26 features and 8 clusters took to run 5.115234199999577\n",
      "PCA with 27 features and 8 clusters took to run 14.15017650000027\n",
      "PCA with 28 features and 8 clusters took to run 39.15905030000022\n",
      "PCA with 29 features and 8 clusters took to run 33.32389629999989\n"
     ]
    },
    {
     "name": "stdout",
     "output_type": "stream",
     "text": [
      "PCA with 30 features and 8 clusters took to run 27.00082119999979\n",
      "PCA with 31 features and 8 clusters took to run 29.949141500000223\n",
      "PCA with 32 features and 8 clusters took to run 23.59415369999988\n",
      "PCA with 33 features and 8 clusters took to run 20.62093939999977\n",
      "PCA with 34 features and 8 clusters took to run 23.541073900000356\n",
      "PCA with 35 features and 8 clusters took to run 30.012275099999897\n",
      "PCA with 36 features and 8 clusters took to run 21.274213000000145\n",
      "PCA with 37 features and 8 clusters took to run 15.102529599999798\n",
      "PCA with 38 features and 8 clusters took to run 21.940600099999756\n",
      "PCA with 39 features and 8 clusters took to run 24.845971199999894\n",
      "PCA with 40 features and 8 clusters took to run 17.260985900000378\n",
      "PCA with 41 features and 8 clusters took to run 20.415574500000275\n",
      "PCA with 42 features and 8 clusters took to run 16.459876899999927\n",
      "PCA with 43 features and 8 clusters took to run 9.113875999999891\n",
      "PCA with 44 features and 8 clusters took to run 10.285545799999909\n",
      "PCA with 45 features and 8 clusters took to run 9.528304800000114\n",
      "PCA with 46 features and 8 clusters took to run 20.58859990000019\n",
      "PCA with 47 features and 8 clusters took to run 16.208597800000007\n",
      "PCA with 48 features and 8 clusters took to run 15.35804300000018\n",
      "PCA with 49 features and 8 clusters took to run 17.102825100000246\n",
      "PCA with 1 features and 9 clusters took to run 0.1955591999999342\n",
      "PCA with 2 features and 9 clusters took to run 0.3292922999999064\n",
      "PCA with 3 features and 9 clusters took to run 0.7366314000000784\n",
      "PCA with 4 features and 9 clusters took to run 0.793608000000404\n",
      "PCA with 5 features and 9 clusters took to run 2.5072853000001487\n",
      "PCA with 6 features and 9 clusters took to run 4.075241500000175\n",
      "PCA with 7 features and 9 clusters took to run 5.380366700000195\n",
      "PCA with 8 features and 9 clusters took to run 4.371343499999966\n",
      "PCA with 9 features and 9 clusters took to run 1.3741301000000021\n",
      "PCA with 10 features and 9 clusters took to run 1.2401362000000518\n",
      "PCA with 11 features and 9 clusters took to run 1.698662400000103\n",
      "PCA with 12 features and 9 clusters took to run 3.2225932999999714\n",
      "PCA with 13 features and 9 clusters took to run 2.942382700000053\n",
      "PCA with 14 features and 9 clusters took to run 2.391831999999795\n",
      "PCA with 15 features and 9 clusters took to run 19.07759989999977\n",
      "PCA with 16 features and 9 clusters took to run 24.059195499999987\n",
      "PCA with 17 features and 9 clusters took to run 25.147159399999964\n",
      "PCA with 18 features and 9 clusters took to run 20.69429089999994\n",
      "PCA with 19 features and 9 clusters took to run 26.340019199999915\n",
      "PCA with 20 features and 9 clusters took to run 21.690989100000024\n",
      "PCA with 21 features and 9 clusters took to run 18.886399099999835\n",
      "PCA with 22 features and 9 clusters took to run 23.94856269999991\n",
      "PCA with 23 features and 9 clusters took to run 39.251174699999865\n",
      "PCA with 24 features and 9 clusters took to run 25.71881200000007\n",
      "PCA with 25 features and 9 clusters took to run 29.769283600000108\n",
      "PCA with 26 features and 9 clusters took to run 23.385131099999853\n",
      "PCA with 27 features and 9 clusters took to run 18.92675640000016\n",
      "PCA with 28 features and 9 clusters took to run 25.157711599999857\n",
      "PCA with 29 features and 9 clusters took to run 11.600972400000046\n",
      "PCA with 30 features and 9 clusters took to run 15.903085100000226\n",
      "PCA with 31 features and 9 clusters took to run 7.288109799999802\n",
      "PCA with 32 features and 9 clusters took to run 7.076885800000127\n",
      "PCA with 33 features and 9 clusters took to run 10.49394620000021\n",
      "PCA with 34 features and 9 clusters took to run 14.275799000000006\n",
      "PCA with 35 features and 9 clusters took to run 20.047269400000005\n",
      "PCA with 36 features and 9 clusters took to run 16.022080499999902\n",
      "PCA with 37 features and 9 clusters took to run 18.73384010000018\n",
      "PCA with 38 features and 9 clusters took to run 23.555868900000405\n",
      "PCA with 39 features and 9 clusters took to run 6.288967899999989\n",
      "PCA with 40 features and 9 clusters took to run 11.137947199999871\n",
      "PCA with 41 features and 9 clusters took to run 46.12081429999989\n",
      "PCA with 42 features and 9 clusters took to run 50.17960189999985\n",
      "PCA with 43 features and 9 clusters took to run 54.973473600000034\n",
      "PCA with 44 features and 9 clusters took to run 46.4707585000001\n",
      "PCA with 45 features and 9 clusters took to run 30.804435999999896\n",
      "PCA with 46 features and 9 clusters took to run 29.60380579999992\n",
      "PCA with 47 features and 9 clusters took to run 53.05798330000016\n",
      "PCA with 48 features and 9 clusters took to run 31.14347859999998\n",
      "PCA with 49 features and 9 clusters took to run 34.29521199999999\n",
      "PCA with 1 features and 10 clusters took to run 0.2594942999999148\n",
      "PCA with 2 features and 10 clusters took to run 0.5769580999999562\n",
      "PCA with 3 features and 10 clusters took to run 1.0897884000000886\n",
      "PCA with 4 features and 10 clusters took to run 0.8864738000002035\n",
      "PCA with 5 features and 10 clusters took to run 1.5999203999999736\n",
      "PCA with 6 features and 10 clusters took to run 1.118526600000223\n",
      "PCA with 7 features and 10 clusters took to run 0.8882693000000472\n",
      "PCA with 8 features and 10 clusters took to run 1.352390799999739\n",
      "PCA with 9 features and 10 clusters took to run 2.452079600000161\n",
      "PCA with 10 features and 10 clusters took to run 2.424228000000312\n",
      "PCA with 11 features and 10 clusters took to run 1.4763363000001846\n",
      "PCA with 12 features and 10 clusters took to run 6.518004799999744\n",
      "PCA with 13 features and 10 clusters took to run 3.959302900000239\n",
      "PCA with 14 features and 10 clusters took to run 7.332182699999976\n",
      "PCA with 15 features and 10 clusters took to run 8.279395000000022\n",
      "PCA with 16 features and 10 clusters took to run 10.73437339999964\n",
      "PCA with 17 features and 10 clusters took to run 11.327902100000301\n",
      "PCA with 18 features and 10 clusters took to run 5.6097577999998975\n",
      "PCA with 19 features and 10 clusters took to run 9.94705810000005\n",
      "PCA with 20 features and 10 clusters took to run 10.484005499999967\n",
      "PCA with 21 features and 10 clusters took to run 13.696876099999827\n",
      "PCA with 22 features and 10 clusters took to run 18.504926299999624\n",
      "PCA with 23 features and 10 clusters took to run 6.652117999999973\n",
      "PCA with 24 features and 10 clusters took to run 33.12028119999968\n",
      "PCA with 25 features and 10 clusters took to run 57.54791840000007\n",
      "PCA with 26 features and 10 clusters took to run 27.504846799999996\n",
      "PCA with 27 features and 10 clusters took to run 29.56627589999971\n",
      "PCA with 28 features and 10 clusters took to run 27.8040232999997\n",
      "PCA with 29 features and 10 clusters took to run 31.01611320000029\n",
      "PCA with 30 features and 10 clusters took to run 24.04076350000014\n",
      "PCA with 31 features and 10 clusters took to run 21.360587000000123\n",
      "PCA with 32 features and 10 clusters took to run 22.76558279999972\n",
      "PCA with 33 features and 10 clusters took to run 23.823489699999755\n",
      "PCA with 34 features and 10 clusters took to run 25.57661969999981\n",
      "PCA with 35 features and 10 clusters took to run 16.45438430000013\n",
      "PCA with 36 features and 10 clusters took to run 22.331661400000485\n",
      "PCA with 37 features and 10 clusters took to run 15.649248799999441\n",
      "PCA with 38 features and 10 clusters took to run 12.322666499999286\n",
      "PCA with 39 features and 10 clusters took to run 10.780061499999647\n",
      "PCA with 40 features and 10 clusters took to run 14.11832940000022\n",
      "PCA with 41 features and 10 clusters took to run 20.025049199999557\n",
      "PCA with 42 features and 10 clusters took to run 29.86620000000039\n",
      "PCA with 43 features and 10 clusters took to run 28.535225399999945\n",
      "PCA with 44 features and 10 clusters took to run 14.476346400000693\n",
      "PCA with 45 features and 10 clusters took to run 80.60237190000043\n",
      "PCA with 46 features and 10 clusters took to run 47.006231899999875\n",
      "PCA with 47 features and 10 clusters took to run 45.719102200000634\n",
      "PCA with 48 features and 10 clusters took to run 56.96560660000068\n",
      "PCA with 49 features and 10 clusters took to run 53.786140300000625\n",
      "PCA with 1 features and 11 clusters took to run 0.5223650999996607\n",
      "PCA with 2 features and 11 clusters took to run 0.8417394000007334\n",
      "PCA with 3 features and 11 clusters took to run 1.7954654000004666\n",
      "PCA with 4 features and 11 clusters took to run 1.7112431000005017\n",
      "PCA with 5 features and 11 clusters took to run 4.366679300000214\n"
     ]
    },
    {
     "name": "stdout",
     "output_type": "stream",
     "text": [
      "PCA with 6 features and 11 clusters took to run 8.210269600000174\n",
      "PCA with 7 features and 11 clusters took to run 10.016872000000149\n",
      "PCA with 8 features and 11 clusters took to run 10.530908499999896\n",
      "PCA with 9 features and 11 clusters took to run 10.373557199999595\n",
      "PCA with 10 features and 11 clusters took to run 11.076457899999696\n",
      "PCA with 11 features and 11 clusters took to run 7.326850100000229\n",
      "PCA with 12 features and 11 clusters took to run 8.97463130000051\n",
      "PCA with 13 features and 11 clusters took to run 7.762138899999627\n",
      "PCA with 14 features and 11 clusters took to run 8.953914699999586\n",
      "PCA with 15 features and 11 clusters took to run 4.229608100000405\n",
      "PCA with 16 features and 11 clusters took to run 4.496943100000863\n",
      "PCA with 17 features and 11 clusters took to run 3.034178000000793\n",
      "PCA with 18 features and 11 clusters took to run 7.064347600000474\n",
      "PCA with 19 features and 11 clusters took to run 9.53744479999932\n",
      "PCA with 20 features and 11 clusters took to run 15.421380699999645\n",
      "PCA with 21 features and 11 clusters took to run 14.34761829999934\n",
      "PCA with 22 features and 11 clusters took to run 19.946931100000256\n",
      "PCA with 23 features and 11 clusters took to run 25.29864019999968\n",
      "PCA with 24 features and 11 clusters took to run 15.482849600000009\n",
      "PCA with 25 features and 11 clusters took to run 44.83440220000011\n",
      "PCA with 26 features and 11 clusters took to run 43.06605020000006\n",
      "PCA with 27 features and 11 clusters took to run 41.11170350000066\n",
      "PCA with 28 features and 11 clusters took to run 39.18921829999999\n",
      "PCA with 29 features and 11 clusters took to run 33.7949308999996\n",
      "PCA with 30 features and 11 clusters took to run 27.891899600000215\n",
      "PCA with 31 features and 11 clusters took to run 36.90544990000035\n",
      "PCA with 32 features and 11 clusters took to run 34.26304270000037\n",
      "PCA with 33 features and 11 clusters took to run 32.201150699999744\n",
      "PCA with 34 features and 11 clusters took to run 39.54541810000046\n",
      "PCA with 35 features and 11 clusters took to run 12.524615199999971\n",
      "PCA with 36 features and 11 clusters took to run 14.705821300000025\n",
      "PCA with 37 features and 11 clusters took to run 11.357244100000571\n",
      "PCA with 38 features and 11 clusters took to run 32.34651010000016\n",
      "PCA with 39 features and 11 clusters took to run 20.235834000000068\n",
      "PCA with 40 features and 11 clusters took to run 37.33106310000039\n",
      "PCA with 41 features and 11 clusters took to run 11.968125200000031\n",
      "PCA with 42 features and 11 clusters took to run 40.19888069999979\n",
      "PCA with 43 features and 11 clusters took to run 76.20147460000044\n",
      "PCA with 44 features and 11 clusters took to run 106.53486210000028\n",
      "PCA with 45 features and 11 clusters took to run 90.06205429999955\n",
      "PCA with 46 features and 11 clusters took to run 41.2214955999998\n",
      "PCA with 47 features and 11 clusters took to run 30.963843700000325\n",
      "PCA with 48 features and 11 clusters took to run 27.70451309999953\n",
      "PCA with 49 features and 11 clusters took to run 53.20943960000022\n",
      "PCA with 1 features and 12 clusters took to run 0.20617679999941174\n",
      "PCA with 2 features and 12 clusters took to run 0.4890328999999838\n",
      "PCA with 3 features and 12 clusters took to run 0.9418522999994821\n",
      "PCA with 4 features and 12 clusters took to run 1.1987829999998212\n",
      "PCA with 5 features and 12 clusters took to run 3.049171199999364\n",
      "PCA with 6 features and 12 clusters took to run 7.095188100000087\n",
      "PCA with 7 features and 12 clusters took to run 6.491003299999647\n",
      "PCA with 8 features and 12 clusters took to run 5.4237633999991886\n",
      "PCA with 9 features and 12 clusters took to run 8.333233199999995\n",
      "PCA with 10 features and 12 clusters took to run 11.657049200000074\n",
      "PCA with 11 features and 12 clusters took to run 6.081786400000055\n",
      "PCA with 12 features and 12 clusters took to run 3.6008903000001737\n",
      "PCA with 13 features and 12 clusters took to run 3.9049196000005395\n",
      "PCA with 14 features and 12 clusters took to run 13.511129499999697\n",
      "PCA with 15 features and 12 clusters took to run 23.927256500000112\n",
      "PCA with 16 features and 12 clusters took to run 39.20232230000056\n",
      "PCA with 17 features and 12 clusters took to run 24.936296400000174\n",
      "PCA with 18 features and 12 clusters took to run 30.176424599999336\n",
      "PCA with 19 features and 12 clusters took to run 27.996433299999808\n",
      "PCA with 20 features and 12 clusters took to run 36.45385520000036\n",
      "PCA with 21 features and 12 clusters took to run 39.14757920000011\n",
      "PCA with 22 features and 12 clusters took to run 26.04045330000008\n",
      "PCA with 23 features and 12 clusters took to run 40.90199490000032\n",
      "PCA with 24 features and 12 clusters took to run 30.75871939999979\n",
      "PCA with 25 features and 12 clusters took to run 23.83675359999961\n",
      "PCA with 26 features and 12 clusters took to run 19.837206899999728\n",
      "PCA with 27 features and 12 clusters took to run 12.464732699999331\n",
      "PCA with 28 features and 12 clusters took to run 16.336463199999343\n",
      "PCA with 29 features and 12 clusters took to run 34.1354967999996\n",
      "PCA with 30 features and 12 clusters took to run 20.77885570000035\n",
      "PCA with 31 features and 12 clusters took to run 29.950064999999995\n",
      "PCA with 32 features and 12 clusters took to run 31.801216099999692\n",
      "PCA with 33 features and 12 clusters took to run 45.412418799999614\n",
      "PCA with 34 features and 12 clusters took to run 89.91498079999928\n",
      "PCA with 35 features and 12 clusters took to run 33.541587900000195\n",
      "PCA with 36 features and 12 clusters took to run 31.47194049999962\n",
      "PCA with 37 features and 12 clusters took to run 41.01151309999932\n",
      "PCA with 38 features and 12 clusters took to run 37.01093579999997\n",
      "PCA with 39 features and 12 clusters took to run 33.90116020000005\n",
      "PCA with 40 features and 12 clusters took to run 39.07566029999998\n",
      "PCA with 41 features and 12 clusters took to run 15.188553799999681\n",
      "PCA with 42 features and 12 clusters took to run 17.642903500000102\n",
      "PCA with 43 features and 12 clusters took to run 36.10924030000024\n",
      "PCA with 44 features and 12 clusters took to run 34.53579500000069\n",
      "PCA with 45 features and 12 clusters took to run 19.515319799999816\n",
      "PCA with 46 features and 12 clusters took to run 19.663980899999842\n",
      "PCA with 47 features and 12 clusters took to run 102.5405340999996\n",
      "PCA with 48 features and 12 clusters took to run 69.42471839999962\n",
      "PCA with 49 features and 12 clusters took to run 71.09816890000002\n",
      "PCA with 1 features and 13 clusters took to run 0.6400512000000163\n",
      "PCA with 2 features and 13 clusters took to run 0.9839990000000398\n",
      "PCA with 3 features and 13 clusters took to run 2.030293800000436\n",
      "PCA with 4 features and 13 clusters took to run 2.246348200000284\n",
      "PCA with 5 features and 13 clusters took to run 5.822623099999873\n",
      "PCA with 6 features and 13 clusters took to run 10.04844730000059\n",
      "PCA with 7 features and 13 clusters took to run 10.675154599999587\n",
      "PCA with 8 features and 13 clusters took to run 12.318100100000265\n",
      "PCA with 9 features and 13 clusters took to run 12.028067600000213\n",
      "PCA with 10 features and 13 clusters took to run 14.245509899999888\n",
      "PCA with 11 features and 13 clusters took to run 18.399264000000585\n",
      "PCA with 12 features and 13 clusters took to run 11.127983300000778\n",
      "PCA with 13 features and 13 clusters took to run 16.1285725000007\n",
      "PCA with 14 features and 13 clusters took to run 11.48517129999982\n",
      "PCA with 15 features and 13 clusters took to run 7.337872099999913\n",
      "PCA with 16 features and 13 clusters took to run 6.431097900000168\n",
      "PCA with 17 features and 13 clusters took to run 6.754615100000592\n",
      "PCA with 18 features and 13 clusters took to run 15.053549100000055\n",
      "PCA with 19 features and 13 clusters took to run 17.38656660000015\n",
      "PCA with 20 features and 13 clusters took to run 16.43290470000011\n",
      "PCA with 21 features and 13 clusters took to run 12.871716200000265\n",
      "PCA with 22 features and 13 clusters took to run 20.028640099999393\n",
      "PCA with 23 features and 13 clusters took to run 21.752413599999272\n",
      "PCA with 24 features and 13 clusters took to run 6.949504400000478\n",
      "PCA with 25 features and 13 clusters took to run 58.065283899999486\n",
      "PCA with 26 features and 13 clusters took to run 72.1994422000007\n",
      "PCA with 27 features and 13 clusters took to run 46.63081150000016\n",
      "PCA with 28 features and 13 clusters took to run 40.0733210999997\n",
      "PCA with 29 features and 13 clusters took to run 55.97303879999981\n"
     ]
    },
    {
     "name": "stdout",
     "output_type": "stream",
     "text": [
      "PCA with 30 features and 13 clusters took to run 30.375991499999145\n",
      "PCA with 31 features and 13 clusters took to run 46.90344599999935\n",
      "PCA with 32 features and 13 clusters took to run 35.90130009999939\n",
      "PCA with 33 features and 13 clusters took to run 17.176907399999436\n",
      "PCA with 34 features and 13 clusters took to run 20.755417399999715\n",
      "PCA with 35 features and 13 clusters took to run 35.982927299999574\n",
      "PCA with 36 features and 13 clusters took to run 28.90054650000002\n",
      "PCA with 37 features and 13 clusters took to run 30.57399549999991\n",
      "PCA with 38 features and 13 clusters took to run 14.947600399999828\n",
      "PCA with 39 features and 13 clusters took to run 78.32723020000049\n",
      "PCA with 40 features and 13 clusters took to run 122.31810239999959\n",
      "PCA with 41 features and 13 clusters took to run 59.89984529999947\n",
      "PCA with 42 features and 13 clusters took to run 94.7181131999996\n",
      "PCA with 43 features and 13 clusters took to run 41.306565599999885\n",
      "PCA with 44 features and 13 clusters took to run 46.406999499999074\n",
      "PCA with 45 features and 13 clusters took to run 52.475610500001494\n",
      "PCA with 46 features and 13 clusters took to run 40.440812700000606\n",
      "PCA with 47 features and 13 clusters took to run 20.27694859999974\n",
      "PCA with 48 features and 13 clusters took to run 116.52051009999923\n",
      "PCA with 49 features and 13 clusters took to run 130.85669589999998\n",
      "PCA with 1 features and 14 clusters took to run 0.6281784999991942\n",
      "PCA with 2 features and 14 clusters took to run 1.2417438000011316\n",
      "PCA with 3 features and 14 clusters took to run 2.566646999999648\n",
      "PCA with 4 features and 14 clusters took to run 2.912854000000152\n",
      "PCA with 5 features and 14 clusters took to run 7.8157934000009845\n",
      "PCA with 6 features and 14 clusters took to run 11.5570117999996\n",
      "PCA with 7 features and 14 clusters took to run 15.34103579999828\n",
      "PCA with 8 features and 14 clusters took to run 13.406946900000548\n",
      "PCA with 9 features and 14 clusters took to run 18.947179400000095\n",
      "PCA with 10 features and 14 clusters took to run 17.899809200000163\n",
      "PCA with 11 features and 14 clusters took to run 14.239133900000525\n",
      "PCA with 12 features and 14 clusters took to run 14.965601099998821\n",
      "PCA with 13 features and 14 clusters took to run 7.172837100000834\n",
      "PCA with 14 features and 14 clusters took to run 9.561112099998354\n",
      "PCA with 15 features and 14 clusters took to run 10.100581499998952\n",
      "PCA with 16 features and 14 clusters took to run 11.372255599999335\n",
      "PCA with 17 features and 14 clusters took to run 21.25728220000019\n",
      "PCA with 18 features and 14 clusters took to run 24.08114900000146\n",
      "PCA with 19 features and 14 clusters took to run 22.01785380000001\n",
      "PCA with 20 features and 14 clusters took to run 28.61462449999999\n",
      "PCA with 21 features and 14 clusters took to run 17.595026599999983\n",
      "PCA with 22 features and 14 clusters took to run 47.130866499999684\n",
      "PCA with 23 features and 14 clusters took to run 61.31177890000072\n",
      "PCA with 24 features and 14 clusters took to run 78.1104284999983\n",
      "PCA with 25 features and 14 clusters took to run 69.72764780000034\n",
      "PCA with 26 features and 14 clusters took to run 73.28733720000128\n",
      "PCA with 27 features and 14 clusters took to run 35.10248050000155\n",
      "PCA with 28 features and 14 clusters took to run 25.69097580000016\n",
      "PCA with 29 features and 14 clusters took to run 10.327710999999908\n",
      "PCA with 30 features and 14 clusters took to run 18.39149560000078\n",
      "PCA with 31 features and 14 clusters took to run 29.70070190000115\n",
      "PCA with 32 features and 14 clusters took to run 19.736178299999665\n",
      "PCA with 33 features and 14 clusters took to run 26.80358949999936\n",
      "PCA with 34 features and 14 clusters took to run 20.672233099998266\n",
      "PCA with 35 features and 14 clusters took to run 51.524777699998594\n",
      "PCA with 36 features and 14 clusters took to run 67.42585179999878\n",
      "PCA with 37 features and 14 clusters took to run 110.68172609999965\n",
      "PCA with 38 features and 14 clusters took to run 36.57581079999909\n",
      "PCA with 39 features and 14 clusters took to run 64.42009549999966\n",
      "PCA with 40 features and 14 clusters took to run 53.87374269999964\n",
      "PCA with 41 features and 14 clusters took to run 31.874540900000284\n",
      "PCA with 42 features and 14 clusters took to run 30.93527659999927\n"
     ]
    },
    {
     "name": "stderr",
     "output_type": "stream",
     "text": [
      "D:\\ProgramData\\Anaconda3\\envs\\ml\\lib\\site-packages\\sklearn\\mixture\\_base.py:286: ConvergenceWarning: Initialization 1 did not converge. Try different init parameters, or increase max_iter, tol or check for degenerate data.\n",
      "  warnings.warn(\n"
     ]
    },
    {
     "name": "stdout",
     "output_type": "stream",
     "text": [
      "PCA with 43 features and 14 clusters took to run 63.50246169999991\n",
      "PCA with 44 features and 14 clusters took to run 30.44433790000039\n"
     ]
    },
    {
     "name": "stderr",
     "output_type": "stream",
     "text": [
      "D:\\ProgramData\\Anaconda3\\envs\\ml\\lib\\site-packages\\sklearn\\mixture\\_base.py:286: ConvergenceWarning: Initialization 1 did not converge. Try different init parameters, or increase max_iter, tol or check for degenerate data.\n",
      "  warnings.warn(\n"
     ]
    },
    {
     "name": "stdout",
     "output_type": "stream",
     "text": [
      "PCA with 45 features and 14 clusters took to run 175.58540730000095\n",
      "PCA with 46 features and 14 clusters took to run 106.60659409999971\n",
      "PCA with 47 features and 14 clusters took to run 83.26099870000144\n",
      "PCA with 48 features and 14 clusters took to run 61.072650500000236\n",
      "PCA with 49 features and 14 clusters took to run 54.25773359999948\n",
      "PCA with 1 features and 15 clusters took to run 0.23633870000048773\n",
      "PCA with 2 features and 15 clusters took to run 0.6628908000002411\n",
      "PCA with 3 features and 15 clusters took to run 1.1963371999991068\n",
      "PCA with 4 features and 15 clusters took to run 1.5710963000001357\n",
      "PCA with 5 features and 15 clusters took to run 3.9017485000003944\n",
      "PCA with 6 features and 15 clusters took to run 5.293061600001238\n",
      "PCA with 7 features and 15 clusters took to run 7.5239588000004005\n",
      "PCA with 8 features and 15 clusters took to run 7.801593399999547\n",
      "PCA with 9 features and 15 clusters took to run 8.96351870000035\n",
      "PCA with 10 features and 15 clusters took to run 9.196869699999297\n",
      "PCA with 11 features and 15 clusters took to run 9.706806199999846\n",
      "PCA with 12 features and 15 clusters took to run 10.192912200000137\n",
      "PCA with 13 features and 15 clusters took to run 6.930172899999889\n",
      "PCA with 14 features and 15 clusters took to run 6.226821700000073\n",
      "PCA with 15 features and 15 clusters took to run 59.61574159999873\n",
      "PCA with 16 features and 15 clusters took to run 41.06302169999981\n",
      "PCA with 17 features and 15 clusters took to run 46.94133609999881\n",
      "PCA with 18 features and 15 clusters took to run 46.10733710000022\n",
      "PCA with 19 features and 15 clusters took to run 31.68271409999943\n",
      "PCA with 20 features and 15 clusters took to run 26.74701989999994\n",
      "PCA with 21 features and 15 clusters took to run 26.750073299999713\n",
      "PCA with 22 features and 15 clusters took to run 32.16348500000095\n",
      "PCA with 23 features and 15 clusters took to run 40.38689010000053\n",
      "PCA with 24 features and 15 clusters took to run 27.681745500000034\n",
      "PCA with 25 features and 15 clusters took to run 14.406784999999218\n",
      "PCA with 26 features and 15 clusters took to run 18.323087400000077\n",
      "PCA with 27 features and 15 clusters took to run 32.981222599999455\n",
      "PCA with 28 features and 15 clusters took to run 25.79801789999874\n",
      "PCA with 29 features and 15 clusters took to run 29.972284199999194\n",
      "PCA with 30 features and 15 clusters took to run 20.287640399999873\n",
      "PCA with 31 features and 15 clusters took to run 73.1751236\n",
      "PCA with 32 features and 15 clusters took to run 125.12293099999988\n",
      "PCA with 33 features and 15 clusters took to run 46.41381189999993\n",
      "PCA with 34 features and 15 clusters took to run 56.61337029999959\n",
      "PCA with 35 features and 15 clusters took to run 50.50886139999966\n",
      "PCA with 36 features and 15 clusters took to run 35.24525399999948\n",
      "PCA with 37 features and 15 clusters took to run 20.151640800000678\n",
      "PCA with 38 features and 15 clusters took to run 47.021536899999774\n",
      "PCA with 39 features and 15 clusters took to run 45.4383042999998\n",
      "PCA with 40 features and 15 clusters took to run 112.97809699999925\n",
      "PCA with 41 features and 15 clusters took to run 119.60080240000025\n",
      "PCA with 42 features and 15 clusters took to run 81.50859610000043\n",
      "PCA with 43 features and 15 clusters took to run 57.54498069999863\n",
      "PCA with 44 features and 15 clusters took to run 48.299349599999914\n",
      "PCA with 45 features and 15 clusters took to run 59.82565589999831\n",
      "PCA with 46 features and 15 clusters took to run 32.38327709999976\n",
      "PCA with 47 features and 15 clusters took to run 55.795985999999175\n",
      "PCA with 48 features and 15 clusters took to run 50.35359269999935\n",
      "PCA with 49 features and 15 clusters took to run 134.1252172000004\n",
      "PCA with 1 features and 16 clusters took to run 0.6910687999989023\n",
      "PCA with 2 features and 16 clusters took to run 1.7396817999997438\n",
      "PCA with 3 features and 16 clusters took to run 2.555300399999396\n",
      "PCA with 4 features and 16 clusters took to run 4.204478600000584\n",
      "PCA with 5 features and 16 clusters took to run 10.37301540000044\n",
      "PCA with 6 features and 16 clusters took to run 15.804133999999976\n",
      "PCA with 7 features and 16 clusters took to run 18.35214779999842\n",
      "PCA with 8 features and 16 clusters took to run 26.71642410000095\n",
      "PCA with 9 features and 16 clusters took to run 31.478039600000557\n",
      "PCA with 10 features and 16 clusters took to run 22.94699479999872\n",
      "PCA with 11 features and 16 clusters took to run 22.0557577999989\n",
      "PCA with 12 features and 16 clusters took to run 25.019205599999623\n",
      "PCA with 13 features and 16 clusters took to run 20.864309099999446\n",
      "PCA with 14 features and 16 clusters took to run 7.986699999999473\n",
      "PCA with 15 features and 16 clusters took to run 22.118599999999788\n",
      "PCA with 16 features and 16 clusters took to run 25.493312099999457\n",
      "PCA with 17 features and 16 clusters took to run 20.422732600000018\n",
      "PCA with 18 features and 16 clusters took to run 21.278170300000056\n",
      "PCA with 19 features and 16 clusters took to run 22.641725399998904\n",
      "PCA with 20 features and 16 clusters took to run 25.9388469000005\n",
      "PCA with 21 features and 16 clusters took to run 12.812287300001117\n",
      "PCA with 22 features and 16 clusters took to run 58.6555128\n",
      "PCA with 23 features and 16 clusters took to run 73.13233079999918\n",
      "PCA with 24 features and 16 clusters took to run 70.42661450000014\n",
      "PCA with 25 features and 16 clusters took to run 90.2508170000001\n",
      "PCA with 26 features and 16 clusters took to run 47.63982399999986\n",
      "PCA with 27 features and 16 clusters took to run 45.16128039999967\n",
      "PCA with 28 features and 16 clusters took to run 24.532054500001323\n",
      "PCA with 29 features and 16 clusters took to run 43.163723600000594\n",
      "PCA with 30 features and 16 clusters took to run 22.177837199998976\n",
      "PCA with 31 features and 16 clusters took to run 35.947642900000574\n",
      "PCA with 32 features and 16 clusters took to run 13.48959780000041\n",
      "PCA with 33 features and 16 clusters took to run 108.30489019999914\n",
      "PCA with 34 features and 16 clusters took to run 80.73588200000086\n"
     ]
    },
    {
     "name": "stderr",
     "output_type": "stream",
     "text": [
      "D:\\ProgramData\\Anaconda3\\envs\\ml\\lib\\site-packages\\sklearn\\mixture\\_base.py:286: ConvergenceWarning: Initialization 1 did not converge. Try different init parameters, or increase max_iter, tol or check for degenerate data.\n",
      "  warnings.warn(\n"
     ]
    },
    {
     "name": "stdout",
     "output_type": "stream",
     "text": [
      "PCA with 35 features and 16 clusters took to run 140.31303509999998\n",
      "PCA with 36 features and 16 clusters took to run 54.16231119999975\n",
      "PCA with 37 features and 16 clusters took to run 36.26891120000073\n",
      "PCA with 38 features and 16 clusters took to run 49.683899999999994\n",
      "PCA with 39 features and 16 clusters took to run 45.94434050000018\n",
      "PCA with 40 features and 16 clusters took to run 19.96141870000065\n",
      "PCA with 41 features and 16 clusters took to run 157.28001330000006\n",
      "PCA with 42 features and 16 clusters took to run 86.4526251999996\n",
      "PCA with 43 features and 16 clusters took to run 106.11607630000071\n",
      "PCA with 44 features and 16 clusters took to run 62.114157400001204\n",
      "PCA with 45 features and 16 clusters took to run 70.57065460000013\n",
      "PCA with 46 features and 16 clusters took to run 55.05584660000022\n",
      "PCA with 47 features and 16 clusters took to run 100.65777320000052\n",
      "PCA with 48 features and 16 clusters took to run 156.9250305000005\n",
      "PCA with 49 features and 16 clusters took to run 105.46068980000018\n",
      "PCA with 1 features and 17 clusters took to run 0.6045168999989983\n",
      "PCA with 2 features and 17 clusters took to run 1.4219339999999647\n",
      "PCA with 3 features and 17 clusters took to run 2.6240660000003118\n",
      "PCA with 4 features and 17 clusters took to run 3.3721377000001667\n",
      "PCA with 5 features and 17 clusters took to run 6.122778700000708\n",
      "PCA with 6 features and 17 clusters took to run 7.417117300001337\n",
      "PCA with 7 features and 17 clusters took to run 10.414072400000805\n",
      "PCA with 8 features and 17 clusters took to run 7.951961700000538\n",
      "PCA with 9 features and 17 clusters took to run 7.429752000000008\n",
      "PCA with 10 features and 17 clusters took to run 4.853207499998462\n",
      "PCA with 11 features and 17 clusters took to run 7.909601400000611\n",
      "PCA with 12 features and 17 clusters took to run 12.695203299999775\n",
      "PCA with 13 features and 17 clusters took to run 17.280035300000236\n",
      "PCA with 14 features and 17 clusters took to run 13.959087299999737\n",
      "PCA with 15 features and 17 clusters took to run 16.831716900000174\n",
      "PCA with 16 features and 17 clusters took to run 12.926145299999916\n",
      "PCA with 17 features and 17 clusters took to run 24.13908690000062\n",
      "PCA with 18 features and 17 clusters took to run 17.9828239999988\n",
      "PCA with 19 features and 17 clusters took to run 10.291574699998819\n",
      "PCA with 20 features and 17 clusters took to run 70.62688909999997\n",
      "PCA with 21 features and 17 clusters took to run 89.22955999999976\n",
      "PCA with 22 features and 17 clusters took to run 95.17621330000111\n",
      "PCA with 23 features and 17 clusters took to run 82.92422110000007\n",
      "PCA with 24 features and 17 clusters took to run 50.14208409999992\n",
      "PCA with 25 features and 17 clusters took to run 40.91543470000033\n",
      "PCA with 26 features and 17 clusters took to run 42.23801300000014\n"
     ]
    },
    {
     "name": "stderr",
     "output_type": "stream",
     "text": [
      "D:\\ProgramData\\Anaconda3\\envs\\ml\\lib\\site-packages\\sklearn\\mixture\\_base.py:286: ConvergenceWarning: Initialization 1 did not converge. Try different init parameters, or increase max_iter, tol or check for degenerate data.\n",
      "  warnings.warn(\n"
     ]
    },
    {
     "name": "stdout",
     "output_type": "stream",
     "text": [
      "PCA with 27 features and 17 clusters took to run 85.73791210000127\n",
      "PCA with 28 features and 17 clusters took to run 115.24324340000021\n",
      "PCA with 29 features and 17 clusters took to run 159.87628919999952\n",
      "PCA with 30 features and 17 clusters took to run 82.03046849999919\n",
      "PCA with 31 features and 17 clusters took to run 40.54737709999972\n",
      "PCA with 32 features and 17 clusters took to run 63.86013610000009\n",
      "PCA with 33 features and 17 clusters took to run 55.29742630000146\n",
      "PCA with 34 features and 17 clusters took to run 39.28897439999855\n",
      "PCA with 35 features and 17 clusters took to run 74.21220109999922\n",
      "PCA with 36 features and 17 clusters took to run 141.5452161000012\n",
      "PCA with 37 features and 17 clusters took to run 71.09921430000031\n",
      "PCA with 38 features and 17 clusters took to run 68.06163039999956\n",
      "PCA with 39 features and 17 clusters took to run 65.84774560000005\n",
      "PCA with 40 features and 17 clusters took to run 42.48769390000052\n",
      "PCA with 41 features and 17 clusters took to run 42.503568899999664\n"
     ]
    },
    {
     "name": "stderr",
     "output_type": "stream",
     "text": [
      "D:\\ProgramData\\Anaconda3\\envs\\ml\\lib\\site-packages\\sklearn\\mixture\\_base.py:286: ConvergenceWarning: Initialization 1 did not converge. Try different init parameters, or increase max_iter, tol or check for degenerate data.\n",
      "  warnings.warn(\n"
     ]
    },
    {
     "name": "stdout",
     "output_type": "stream",
     "text": [
      "PCA with 42 features and 17 clusters took to run 116.77547910000067\n",
      "PCA with 43 features and 17 clusters took to run 142.49481159999777\n",
      "PCA with 44 features and 17 clusters took to run 110.70790569999735\n",
      "PCA with 45 features and 17 clusters took to run 66.4484403000024\n",
      "PCA with 46 features and 17 clusters took to run 41.40415969999958\n",
      "PCA with 47 features and 17 clusters took to run 62.60762439999962\n",
      "PCA with 48 features and 17 clusters took to run 37.900701999999\n",
      "PCA with 49 features and 17 clusters took to run 159.30460239999957\n",
      "PCA with 1 features and 18 clusters took to run 0.6317010999991908\n",
      "PCA with 2 features and 18 clusters took to run 1.6758071999975073\n",
      "PCA with 3 features and 18 clusters took to run 3.276552499999525\n",
      "PCA with 4 features and 18 clusters took to run 4.503388399996766\n",
      "PCA with 5 features and 18 clusters took to run 11.152654200002871\n",
      "PCA with 6 features and 18 clusters took to run 15.978988800001389\n",
      "PCA with 7 features and 18 clusters took to run 21.309688299999834\n",
      "PCA with 8 features and 18 clusters took to run 24.00602230000004\n",
      "PCA with 9 features and 18 clusters took to run 24.032857400001376\n",
      "PCA with 10 features and 18 clusters took to run 33.09684560000096\n",
      "PCA with 11 features and 18 clusters took to run 26.25883419999809\n",
      "PCA with 12 features and 18 clusters took to run 32.582748799999536\n",
      "PCA with 13 features and 18 clusters took to run 23.42042990000118\n",
      "PCA with 14 features and 18 clusters took to run 17.82114999999976\n",
      "PCA with 15 features and 18 clusters took to run 7.951344500001142\n",
      "PCA with 16 features and 18 clusters took to run 10.430809099998442\n",
      "PCA with 17 features and 18 clusters took to run 14.740563200000906\n",
      "PCA with 18 features and 18 clusters took to run 26.81495089999953\n",
      "PCA with 19 features and 18 clusters took to run 32.937788100000034\n",
      "PCA with 20 features and 18 clusters took to run 24.902600999997958\n",
      "PCA with 21 features and 18 clusters took to run 23.663425800001278\n",
      "PCA with 22 features and 18 clusters took to run 39.44234910000159\n",
      "PCA with 23 features and 18 clusters took to run 82.79073369999969\n",
      "PCA with 24 features and 18 clusters took to run 75.98020309999993\n",
      "PCA with 25 features and 18 clusters took to run 85.33092560000296\n",
      "PCA with 26 features and 18 clusters took to run 64.48925099999906\n",
      "PCA with 27 features and 18 clusters took to run 35.47493000000031\n",
      "PCA with 28 features and 18 clusters took to run 22.495122399999673\n",
      "PCA with 29 features and 18 clusters took to run 25.454281499998615\n",
      "PCA with 30 features and 18 clusters took to run 35.04763459999958\n",
      "PCA with 31 features and 18 clusters took to run 60.63601909999852\n",
      "PCA with 32 features and 18 clusters took to run 148.19052960000045\n",
      "PCA with 33 features and 18 clusters took to run 92.90860450000037\n",
      "PCA with 34 features and 18 clusters took to run 63.36365769999975\n",
      "PCA with 35 features and 18 clusters took to run 58.431684200000745\n",
      "PCA with 36 features and 18 clusters took to run 37.05927909999809\n",
      "PCA with 37 features and 18 clusters took to run 45.495823799999926\n"
     ]
    },
    {
     "name": "stderr",
     "output_type": "stream",
     "text": [
      "D:\\ProgramData\\Anaconda3\\envs\\ml\\lib\\site-packages\\sklearn\\mixture\\_base.py:286: ConvergenceWarning: Initialization 1 did not converge. Try different init parameters, or increase max_iter, tol or check for degenerate data.\n",
      "  warnings.warn(\n"
     ]
    },
    {
     "name": "stdout",
     "output_type": "stream",
     "text": [
      "PCA with 38 features and 18 clusters took to run 77.12739080000028\n",
      "PCA with 39 features and 18 clusters took to run 129.31346029999986\n",
      "PCA with 40 features and 18 clusters took to run 85.96702899999946\n",
      "PCA with 41 features and 18 clusters took to run 102.89072770000348\n",
      "PCA with 42 features and 18 clusters took to run 54.7286509000005\n",
      "PCA with 43 features and 18 clusters took to run 40.003409799999645\n",
      "PCA with 44 features and 18 clusters took to run 53.79159900000013\n"
     ]
    },
    {
     "name": "stderr",
     "output_type": "stream",
     "text": [
      "D:\\ProgramData\\Anaconda3\\envs\\ml\\lib\\site-packages\\sklearn\\mixture\\_base.py:286: ConvergenceWarning: Initialization 1 did not converge. Try different init parameters, or increase max_iter, tol or check for degenerate data.\n",
      "  warnings.warn(\n"
     ]
    },
    {
     "name": "stdout",
     "output_type": "stream",
     "text": [
      "PCA with 45 features and 18 clusters took to run 132.47576760000084\n",
      "PCA with 46 features and 18 clusters took to run 111.30454729999838\n",
      "PCA with 47 features and 18 clusters took to run 177.87167970000155\n",
      "PCA with 48 features and 18 clusters took to run 43.182359200000064\n",
      "PCA with 49 features and 18 clusters took to run 26.52464340000006\n",
      "PCA with 1 features and 19 clusters took to run 0.18295349999971222\n",
      "PCA with 2 features and 19 clusters took to run 0.5359522999970068\n",
      "PCA with 3 features and 19 clusters took to run 0.8824512000028335\n",
      "PCA with 4 features and 19 clusters took to run 1.2472403000028862\n",
      "PCA with 5 features and 19 clusters took to run 2.0712280000007013\n",
      "PCA with 6 features and 19 clusters took to run 2.3200744000023406\n",
      "PCA with 7 features and 19 clusters took to run 3.1303737000016554\n",
      "PCA with 8 features and 19 clusters took to run 4.7110186999998405\n",
      "PCA with 9 features and 19 clusters took to run 4.490822199997638\n",
      "PCA with 10 features and 19 clusters took to run 7.922504800000752\n",
      "PCA with 11 features and 19 clusters took to run 8.343072499999835\n",
      "PCA with 12 features and 19 clusters took to run 14.837881699997524\n",
      "PCA with 13 features and 19 clusters took to run 9.756979199999478\n",
      "PCA with 14 features and 19 clusters took to run 9.400232700001652\n",
      "PCA with 15 features and 19 clusters took to run 15.233057400000689\n",
      "PCA with 16 features and 19 clusters took to run 9.618243899996742\n",
      "PCA with 17 features and 19 clusters took to run 8.455366300000605\n",
      "PCA with 18 features and 19 clusters took to run 12.906057299998793\n",
      "PCA with 19 features and 19 clusters took to run 9.409075600000506\n",
      "PCA with 20 features and 19 clusters took to run 14.018914400003268\n",
      "PCA with 21 features and 19 clusters took to run 11.220771399999649\n",
      "PCA with 22 features and 19 clusters took to run 26.893133300000045\n",
      "PCA with 23 features and 19 clusters took to run 17.908182099999976\n",
      "PCA with 24 features and 19 clusters took to run 20.126573199999257\n",
      "PCA with 25 features and 19 clusters took to run 20.923203899998043\n",
      "PCA with 26 features and 19 clusters took to run 21.607322200001363\n",
      "PCA with 27 features and 19 clusters took to run 28.561042299999826\n",
      "PCA with 28 features and 19 clusters took to run 26.436278699999093\n",
      "PCA with 29 features and 19 clusters took to run 27.819131199998083\n",
      "PCA with 30 features and 19 clusters took to run 23.310545399999683\n",
      "PCA with 31 features and 19 clusters took to run 30.05522700000074\n",
      "PCA with 32 features and 19 clusters took to run 34.20865649999905\n",
      "PCA with 33 features and 19 clusters took to run 21.15457769999921\n",
      "PCA with 34 features and 19 clusters took to run 26.697272299999895\n",
      "PCA with 35 features and 19 clusters took to run 33.17364869999801\n",
      "PCA with 36 features and 19 clusters took to run 28.337677300001815\n",
      "PCA with 37 features and 19 clusters took to run 35.46982289999869\n",
      "PCA with 38 features and 19 clusters took to run 32.40260109999872\n",
      "PCA with 39 features and 19 clusters took to run 129.32988670000123\n",
      "PCA with 40 features and 19 clusters took to run 191.5830575\n",
      "PCA with 41 features and 19 clusters took to run 86.70103470000322\n",
      "PCA with 42 features and 19 clusters took to run 142.9191764999996\n",
      "PCA with 43 features and 19 clusters took to run 162.15775530000246\n",
      "PCA with 44 features and 19 clusters took to run 157.08074860000124\n",
      "PCA with 45 features and 19 clusters took to run 140.80644229999962\n",
      "PCA with 46 features and 19 clusters took to run 120.24388470000122\n",
      "PCA with 47 features and 19 clusters took to run 224.0870270000014\n",
      "PCA with 48 features and 19 clusters took to run 184.44260769999892\n",
      "PCA with 49 features and 19 clusters took to run 150.7428050999988\n"
     ]
    }
   ],
   "source": [
    "labels_pca = []\n",
    "for ite in range(1,20):\n",
    "    for iteCom in range(1,50):\n",
    "        t.tic()\n",
    "        gm_label_pca = GaussianMixture(n_components=ite, random_state=19830526).fit_predict(corpus_pca[:,0:iteCom])         \n",
    "        labels_pca.append(gm_label_pca)\n",
    "        taux = t.tocvalue()\n",
    "        print(\"PCA with \"+str(iteCom)+\" features and \"+str(ite)+\" clusters took to run \" + str(taux))\n",
    "        new_row = pd.DataFrame([[\"PCA\",iteCom,ite,homogeneity_score(label_real,gm_label_pca),taux]],columns=[\"Algorithm\",\"Components\",\"Clusters\",\"Homogeneity\",\"Time\"])\n",
    "        homogeneity_sol = pd.concat([homogeneity_sol,new_row])"
   ]
  },
  {
   "cell_type": "code",
   "execution_count": 25,
   "id": "365e5507",
   "metadata": {},
   "outputs": [
    {
     "data": {
      "text/html": [
       "<div>\n",
       "<style scoped>\n",
       "    .dataframe tbody tr th:only-of-type {\n",
       "        vertical-align: middle;\n",
       "    }\n",
       "\n",
       "    .dataframe tbody tr th {\n",
       "        vertical-align: top;\n",
       "    }\n",
       "\n",
       "    .dataframe thead th {\n",
       "        text-align: right;\n",
       "    }\n",
       "</style>\n",
       "<table border=\"1\" class=\"dataframe\">\n",
       "  <thead>\n",
       "    <tr style=\"text-align: right;\">\n",
       "      <th></th>\n",
       "      <th>Algorithm</th>\n",
       "      <th>Components</th>\n",
       "      <th>Clusters</th>\n",
       "      <th>Homogeneity</th>\n",
       "      <th>Time</th>\n",
       "    </tr>\n",
       "  </thead>\n",
       "  <tbody>\n",
       "    <tr>\n",
       "      <th>0</th>\n",
       "      <td>Test</td>\n",
       "      <td>0</td>\n",
       "      <td>0</td>\n",
       "      <td>0.000000</td>\n",
       "      <td>0.000000</td>\n",
       "    </tr>\n",
       "    <tr>\n",
       "      <th>0</th>\n",
       "      <td>PCA</td>\n",
       "      <td>1</td>\n",
       "      <td>1</td>\n",
       "      <td>0.000000</td>\n",
       "      <td>3.008301</td>\n",
       "    </tr>\n",
       "    <tr>\n",
       "      <th>0</th>\n",
       "      <td>PCA</td>\n",
       "      <td>2</td>\n",
       "      <td>1</td>\n",
       "      <td>0.000000</td>\n",
       "      <td>0.103427</td>\n",
       "    </tr>\n",
       "    <tr>\n",
       "      <th>0</th>\n",
       "      <td>PCA</td>\n",
       "      <td>3</td>\n",
       "      <td>1</td>\n",
       "      <td>0.000000</td>\n",
       "      <td>0.047483</td>\n",
       "    </tr>\n",
       "    <tr>\n",
       "      <th>0</th>\n",
       "      <td>PCA</td>\n",
       "      <td>4</td>\n",
       "      <td>1</td>\n",
       "      <td>0.000000</td>\n",
       "      <td>0.044804</td>\n",
       "    </tr>\n",
       "    <tr>\n",
       "      <th>...</th>\n",
       "      <td>...</td>\n",
       "      <td>...</td>\n",
       "      <td>...</td>\n",
       "      <td>...</td>\n",
       "      <td>...</td>\n",
       "    </tr>\n",
       "    <tr>\n",
       "      <th>0</th>\n",
       "      <td>PCA</td>\n",
       "      <td>45</td>\n",
       "      <td>19</td>\n",
       "      <td>0.155160</td>\n",
       "      <td>140.806442</td>\n",
       "    </tr>\n",
       "    <tr>\n",
       "      <th>0</th>\n",
       "      <td>PCA</td>\n",
       "      <td>46</td>\n",
       "      <td>19</td>\n",
       "      <td>0.149520</td>\n",
       "      <td>120.243885</td>\n",
       "    </tr>\n",
       "    <tr>\n",
       "      <th>0</th>\n",
       "      <td>PCA</td>\n",
       "      <td>47</td>\n",
       "      <td>19</td>\n",
       "      <td>0.150105</td>\n",
       "      <td>224.087027</td>\n",
       "    </tr>\n",
       "    <tr>\n",
       "      <th>0</th>\n",
       "      <td>PCA</td>\n",
       "      <td>48</td>\n",
       "      <td>19</td>\n",
       "      <td>0.159091</td>\n",
       "      <td>184.442608</td>\n",
       "    </tr>\n",
       "    <tr>\n",
       "      <th>0</th>\n",
       "      <td>PCA</td>\n",
       "      <td>49</td>\n",
       "      <td>19</td>\n",
       "      <td>0.151357</td>\n",
       "      <td>150.742805</td>\n",
       "    </tr>\n",
       "  </tbody>\n",
       "</table>\n",
       "<p>932 rows × 5 columns</p>\n",
       "</div>"
      ],
      "text/plain": [
       "   Algorithm  Components  Clusters  Homogeneity        Time\n",
       "0       Test           0         0     0.000000    0.000000\n",
       "0        PCA           1         1     0.000000    3.008301\n",
       "0        PCA           2         1     0.000000    0.103427\n",
       "0        PCA           3         1     0.000000    0.047483\n",
       "0        PCA           4         1     0.000000    0.044804\n",
       "..       ...         ...       ...          ...         ...\n",
       "0        PCA          45        19     0.155160  140.806442\n",
       "0        PCA          46        19     0.149520  120.243885\n",
       "0        PCA          47        19     0.150105  224.087027\n",
       "0        PCA          48        19     0.159091  184.442608\n",
       "0        PCA          49        19     0.151357  150.742805\n",
       "\n",
       "[932 rows x 5 columns]"
      ]
     },
     "execution_count": 25,
     "metadata": {},
     "output_type": "execute_result"
    }
   ],
   "source": [
    "homogeneity_sol"
   ]
  },
  {
   "cell_type": "code",
   "execution_count": 30,
   "id": "48a24193",
   "metadata": {},
   "outputs": [
    {
     "ename": "MemoryError",
     "evalue": "Unable to allocate 5.26 GiB for an array with shape (7, 10039, 10039) and data type float64",
     "output_type": "error",
     "traceback": [
      "\u001b[1;31m---------------------------------------------------------------------------\u001b[0m",
      "\u001b[1;31mMemoryError\u001b[0m                               Traceback (most recent call last)",
      "\u001b[1;32m~\\AppData\\Local\\Temp\\ipykernel_14392\\3995032854.py\u001b[0m in \u001b[0;36m<module>\u001b[1;34m\u001b[0m\n\u001b[0;32m      2\u001b[0m \u001b[1;32mfor\u001b[0m \u001b[0mite\u001b[0m \u001b[1;32min\u001b[0m \u001b[0mrange\u001b[0m\u001b[1;33m(\u001b[0m\u001b[1;36m7\u001b[0m\u001b[1;33m,\u001b[0m\u001b[1;36m30\u001b[0m\u001b[1;33m)\u001b[0m\u001b[1;33m:\u001b[0m\u001b[1;33m\u001b[0m\u001b[1;33m\u001b[0m\u001b[0m\n\u001b[0;32m      3\u001b[0m     \u001b[0mt\u001b[0m\u001b[1;33m.\u001b[0m\u001b[0mtic\u001b[0m\u001b[1;33m(\u001b[0m\u001b[1;33m)\u001b[0m\u001b[1;33m\u001b[0m\u001b[1;33m\u001b[0m\u001b[0m\n\u001b[1;32m----> 4\u001b[1;33m     \u001b[0mgm_label\u001b[0m \u001b[1;33m=\u001b[0m \u001b[0mGaussianMixture\u001b[0m\u001b[1;33m(\u001b[0m\u001b[0mn_components\u001b[0m\u001b[1;33m=\u001b[0m\u001b[0mite\u001b[0m\u001b[1;33m,\u001b[0m \u001b[0mrandom_state\u001b[0m\u001b[1;33m=\u001b[0m\u001b[1;36m19830526\u001b[0m\u001b[1;33m)\u001b[0m\u001b[1;33m.\u001b[0m\u001b[0mfit_predict\u001b[0m\u001b[1;33m(\u001b[0m\u001b[0mcorpus\u001b[0m\u001b[1;33m)\u001b[0m\u001b[1;33m\u001b[0m\u001b[1;33m\u001b[0m\u001b[0m\n\u001b[0m\u001b[0;32m      5\u001b[0m     \u001b[0mlabels\u001b[0m\u001b[1;33m.\u001b[0m\u001b[0mappend\u001b[0m\u001b[1;33m(\u001b[0m\u001b[0mgm_label\u001b[0m\u001b[1;33m)\u001b[0m\u001b[1;33m\u001b[0m\u001b[1;33m\u001b[0m\u001b[0m\n\u001b[0;32m      6\u001b[0m     \u001b[0mtaux\u001b[0m \u001b[1;33m=\u001b[0m \u001b[0mt\u001b[0m\u001b[1;33m.\u001b[0m\u001b[0mtocvalue\u001b[0m\u001b[1;33m(\u001b[0m\u001b[1;33m)\u001b[0m\u001b[1;33m\u001b[0m\u001b[1;33m\u001b[0m\u001b[0m\n",
      "\u001b[1;32mD:\\ProgramData\\Anaconda3\\envs\\ml\\lib\\site-packages\\sklearn\\mixture\\_base.py\u001b[0m in \u001b[0;36mfit_predict\u001b[1;34m(self, X, y)\u001b[0m\n\u001b[0;32m    251\u001b[0m \u001b[1;33m\u001b[0m\u001b[0m\n\u001b[0;32m    252\u001b[0m             \u001b[1;32mif\u001b[0m \u001b[0mdo_init\u001b[0m\u001b[1;33m:\u001b[0m\u001b[1;33m\u001b[0m\u001b[1;33m\u001b[0m\u001b[0m\n\u001b[1;32m--> 253\u001b[1;33m                 \u001b[0mself\u001b[0m\u001b[1;33m.\u001b[0m\u001b[0m_initialize_parameters\u001b[0m\u001b[1;33m(\u001b[0m\u001b[0mX\u001b[0m\u001b[1;33m,\u001b[0m \u001b[0mrandom_state\u001b[0m\u001b[1;33m)\u001b[0m\u001b[1;33m\u001b[0m\u001b[1;33m\u001b[0m\u001b[0m\n\u001b[0m\u001b[0;32m    254\u001b[0m \u001b[1;33m\u001b[0m\u001b[0m\n\u001b[0;32m    255\u001b[0m             \u001b[0mlower_bound\u001b[0m \u001b[1;33m=\u001b[0m \u001b[1;33m-\u001b[0m\u001b[0mnp\u001b[0m\u001b[1;33m.\u001b[0m\u001b[0minf\u001b[0m \u001b[1;32mif\u001b[0m \u001b[0mdo_init\u001b[0m \u001b[1;32melse\u001b[0m \u001b[0mself\u001b[0m\u001b[1;33m.\u001b[0m\u001b[0mlower_bound_\u001b[0m\u001b[1;33m\u001b[0m\u001b[1;33m\u001b[0m\u001b[0m\n",
      "\u001b[1;32mD:\\ProgramData\\Anaconda3\\envs\\ml\\lib\\site-packages\\sklearn\\mixture\\_base.py\u001b[0m in \u001b[0;36m_initialize_parameters\u001b[1;34m(self, X, random_state)\u001b[0m\n\u001b[0;32m    158\u001b[0m             )\n\u001b[0;32m    159\u001b[0m \u001b[1;33m\u001b[0m\u001b[0m\n\u001b[1;32m--> 160\u001b[1;33m         \u001b[0mself\u001b[0m\u001b[1;33m.\u001b[0m\u001b[0m_initialize\u001b[0m\u001b[1;33m(\u001b[0m\u001b[0mX\u001b[0m\u001b[1;33m,\u001b[0m \u001b[0mresp\u001b[0m\u001b[1;33m)\u001b[0m\u001b[1;33m\u001b[0m\u001b[1;33m\u001b[0m\u001b[0m\n\u001b[0m\u001b[0;32m    161\u001b[0m \u001b[1;33m\u001b[0m\u001b[0m\n\u001b[0;32m    162\u001b[0m     \u001b[1;33m@\u001b[0m\u001b[0mabstractmethod\u001b[0m\u001b[1;33m\u001b[0m\u001b[1;33m\u001b[0m\u001b[0m\n",
      "\u001b[1;32mD:\\ProgramData\\Anaconda3\\envs\\ml\\lib\\site-packages\\sklearn\\mixture\\_gaussian_mixture.py\u001b[0m in \u001b[0;36m_initialize\u001b[1;34m(self, X, resp)\u001b[0m\n\u001b[0;32m    721\u001b[0m         \u001b[1;32mif\u001b[0m \u001b[0mself\u001b[0m\u001b[1;33m.\u001b[0m\u001b[0mprecisions_init\u001b[0m \u001b[1;32mis\u001b[0m \u001b[1;32mNone\u001b[0m\u001b[1;33m:\u001b[0m\u001b[1;33m\u001b[0m\u001b[1;33m\u001b[0m\u001b[0m\n\u001b[0;32m    722\u001b[0m             \u001b[0mself\u001b[0m\u001b[1;33m.\u001b[0m\u001b[0mcovariances_\u001b[0m \u001b[1;33m=\u001b[0m \u001b[0mcovariances\u001b[0m\u001b[1;33m\u001b[0m\u001b[1;33m\u001b[0m\u001b[0m\n\u001b[1;32m--> 723\u001b[1;33m             self.precisions_cholesky_ = _compute_precision_cholesky(\n\u001b[0m\u001b[0;32m    724\u001b[0m                 \u001b[0mcovariances\u001b[0m\u001b[1;33m,\u001b[0m \u001b[0mself\u001b[0m\u001b[1;33m.\u001b[0m\u001b[0mcovariance_type\u001b[0m\u001b[1;33m\u001b[0m\u001b[1;33m\u001b[0m\u001b[0m\n\u001b[0;32m    725\u001b[0m             )\n",
      "\u001b[1;32mD:\\ProgramData\\Anaconda3\\envs\\ml\\lib\\site-packages\\sklearn\\mixture\\_gaussian_mixture.py\u001b[0m in \u001b[0;36m_compute_precision_cholesky\u001b[1;34m(covariances, covariance_type)\u001b[0m\n\u001b[0;32m    325\u001b[0m     \u001b[1;32mif\u001b[0m \u001b[0mcovariance_type\u001b[0m \u001b[1;33m==\u001b[0m \u001b[1;34m\"full\"\u001b[0m\u001b[1;33m:\u001b[0m\u001b[1;33m\u001b[0m\u001b[1;33m\u001b[0m\u001b[0m\n\u001b[0;32m    326\u001b[0m         \u001b[0mn_components\u001b[0m\u001b[1;33m,\u001b[0m \u001b[0mn_features\u001b[0m\u001b[1;33m,\u001b[0m \u001b[0m_\u001b[0m \u001b[1;33m=\u001b[0m \u001b[0mcovariances\u001b[0m\u001b[1;33m.\u001b[0m\u001b[0mshape\u001b[0m\u001b[1;33m\u001b[0m\u001b[1;33m\u001b[0m\u001b[0m\n\u001b[1;32m--> 327\u001b[1;33m         \u001b[0mprecisions_chol\u001b[0m \u001b[1;33m=\u001b[0m \u001b[0mnp\u001b[0m\u001b[1;33m.\u001b[0m\u001b[0mempty\u001b[0m\u001b[1;33m(\u001b[0m\u001b[1;33m(\u001b[0m\u001b[0mn_components\u001b[0m\u001b[1;33m,\u001b[0m \u001b[0mn_features\u001b[0m\u001b[1;33m,\u001b[0m \u001b[0mn_features\u001b[0m\u001b[1;33m)\u001b[0m\u001b[1;33m)\u001b[0m\u001b[1;33m\u001b[0m\u001b[1;33m\u001b[0m\u001b[0m\n\u001b[0m\u001b[0;32m    328\u001b[0m         \u001b[1;32mfor\u001b[0m \u001b[0mk\u001b[0m\u001b[1;33m,\u001b[0m \u001b[0mcovariance\u001b[0m \u001b[1;32min\u001b[0m \u001b[0menumerate\u001b[0m\u001b[1;33m(\u001b[0m\u001b[0mcovariances\u001b[0m\u001b[1;33m)\u001b[0m\u001b[1;33m:\u001b[0m\u001b[1;33m\u001b[0m\u001b[1;33m\u001b[0m\u001b[0m\n\u001b[0;32m    329\u001b[0m             \u001b[1;32mtry\u001b[0m\u001b[1;33m:\u001b[0m\u001b[1;33m\u001b[0m\u001b[1;33m\u001b[0m\u001b[0m\n",
      "\u001b[1;31mMemoryError\u001b[0m: Unable to allocate 5.26 GiB for an array with shape (7, 10039, 10039) and data type float64"
     ]
    }
   ],
   "source": [
    "labels = []\n",
    "for ite in range(7,30):\n",
    "    t.tic()\n",
    "    gm_label = GaussianMixture(n_components=ite, random_state=19830526).fit_predict(corpus)         \n",
    "    labels.append(gm_label)\n",
    "    taux = t.tocvalue()\n",
    "    print(\"RAW with \"+str(ite)+\" clusters took to run \" + str(taux))\n",
    "    new_row = pd.DataFrame([[\"RAW\",0,ite,homogeneity_score(label_real, gm_label),taux]],columns=[\"Algorithm\",\"Components\",\"Clusters\",\"Homogeneity\",\"Time\"])\n",
    "    homogeneity_sol = pd.concat([homogeneity_sol,new_row])"
   ]
  },
  {
   "cell_type": "code",
   "execution_count": null,
   "id": "c480d07c",
   "metadata": {},
   "outputs": [],
   "source": [
    "#ICA = FastICA(n_components=200,max_iter=1000)\n",
    "#corpus_ica=ICA.fit_transform(corpus)"
   ]
  },
  {
   "cell_type": "code",
   "execution_count": 31,
   "id": "2a10d64c",
   "metadata": {},
   "outputs": [
    {
     "name": "stdout",
     "output_type": "stream",
     "text": [
      "(11702, 10039)\n",
      "11702\n"
     ]
    }
   ],
   "source": [
    "print(corpus.shape)\n",
    "print(len(label_real))"
   ]
  },
  {
   "cell_type": "code",
   "execution_count": 32,
   "id": "77cc356b",
   "metadata": {},
   "outputs": [],
   "source": [
    "df = pd.DataFrame(label_real, index=corpus.index ,columns =['Real'])"
   ]
  },
  {
   "cell_type": "code",
   "execution_count": 33,
   "id": "246440ee",
   "metadata": {},
   "outputs": [],
   "source": [
    "homogeneity_sol.to_csv(\"BagOfWordsClusteringResultsEM.csv\")"
   ]
  },
  {
   "cell_type": "code",
   "execution_count": 34,
   "id": "22e7bc38",
   "metadata": {},
   "outputs": [],
   "source": [
    "df_pca = pd.DataFrame(labels_pca, columns=corpus.index).T\n",
    "df_raw = pd.DataFrame(labels, columns=corpus.index).T\n",
    "df.to_csv(\"actualsEM.csv\")\n",
    "df_pca.to_csv(\"pcaEM.csv\")\n",
    "df_raw.to_csv(\"rawEM.csv\")"
   ]
  },
  {
   "cell_type": "code",
   "execution_count": null,
   "id": "34c04d54",
   "metadata": {},
   "outputs": [],
   "source": []
  },
  {
   "cell_type": "code",
   "execution_count": null,
   "id": "cd900fd9",
   "metadata": {},
   "outputs": [],
   "source": []
  },
  {
   "cell_type": "code",
   "execution_count": null,
   "id": "82cba129",
   "metadata": {},
   "outputs": [],
   "source": []
  },
  {
   "cell_type": "code",
   "execution_count": null,
   "id": "73b6ab0e",
   "metadata": {},
   "outputs": [],
   "source": []
  }
 ],
 "metadata": {
  "kernelspec": {
   "display_name": "Python 3 (ipykernel)",
   "language": "python",
   "name": "python3"
  },
  "language_info": {
   "codemirror_mode": {
    "name": "ipython",
    "version": 3
   },
   "file_extension": ".py",
   "mimetype": "text/x-python",
   "name": "python",
   "nbconvert_exporter": "python",
   "pygments_lexer": "ipython3",
   "version": "3.8.13"
  }
 },
 "nbformat": 4,
 "nbformat_minor": 5
}
